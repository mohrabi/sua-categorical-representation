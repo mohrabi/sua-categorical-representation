{
 "cells": [
  {
   "cell_type": "code",
   "execution_count": 2,
   "id": "cabee05a-57d2-4bf6-a5ff-162294624de7",
   "metadata": {},
   "outputs": [],
   "source": [
    "import os\n",
    "\n",
    "import pickle\n",
    "import numpy as np\n",
    "from tqdm.notebook import tqdm\n",
    "from matplotlib import pyplot as plt\n",
    "import seaborn as sns\n",
    "import pandas as pd\n",
    "import numpy_indexed as npi\n",
    "from scipy.io import loadmat\n",
    "\n",
    "from src.ipm import NeuronLoader, grablabels\n",
    "\n",
    "# from imblearn.under_sampling import RandomUnderSampler as rus\n",
    "from scipy.ndimage import gaussian_filter1d as smooth\n",
    "\n",
    "from sklearn.preprocessing import StandardScaler\n",
    "from sklearn.decomposition import PCA\n",
    "from sklearn.svm import SVC\n",
    "from sklearn.metrics import confusion_matrix, roc_auc_score\n",
    "from sklearn.pipeline import make_pipeline\n",
    "from sklearn.model_selection import train_test_split as tts"
   ]
  },
  {
   "cell_type": "markdown",
   "id": "b50d03ca-ca60-459a-a104-ce5d634b3888",
   "metadata": {},
   "source": [
    "# Loading the Neural Dataset"
   ]
  },
  {
   "cell_type": "code",
   "execution_count": 3,
   "id": "d51793db-d48f-4d5b-a516-17c9a30fdc27",
   "metadata": {},
   "outputs": [],
   "source": [
    "data = NeuronLoader('G:/Data/Fast/Jenab')\n",
    "\n",
    "with open(\"./src/info.pkl\", \"rb\") as handler:\n",
    "    info = pickle.load(handler)\n",
    "info = info[:165]"
   ]
  },
  {
   "cell_type": "markdown",
   "id": "70285b84-3fe0-4bbb-ba06-062eaffce51d",
   "metadata": {
    "tags": []
   },
   "source": [
    "## Neuron Selection based on Visual Drive"
   ]
  },
  {
   "cell_type": "code",
   "execution_count": 4,
   "id": "4f64c65a-f3e2-4710-9e62-7b260051b6d6",
   "metadata": {},
   "outputs": [],
   "source": [
    "def visual_drive(time, neuron):\n",
    "    gray   = neuron[:, time < 0].mean(1)\n",
    "    images = neuron[:, (time > 0) & (time < 200)].mean(1)\n",
    "    sigma_images = images.std()\n",
    "    sigma_gray   = gray.std()\n",
    "\n",
    "    dprime = (images.mean() - gray.mean()) / np.sqrt(0.5 * (sigma_gray ** 2 + sigma_images ** 2))\n",
    "    return dprime"
   ]
  },
  {
   "cell_type": "code",
   "execution_count": 5,
   "id": "ccaf5d98-0579-482e-ad2f-0f76dfa9bfca",
   "metadata": {},
   "outputs": [
    {
     "data": {
      "image/png": "[encoded data removed]",
      "text/plain": [
       "<Figure size 432x288 with 1 Axes>"
      ]
     },
     "metadata": {
      "needs_background": "light"
     },
     "output_type": "display_data"
    }
   ],
   "source": [
    "vd = []\n",
    "for iit in range(data.it.shape[1]):\n",
    "    vd.append(visual_drive(data.time, data.it[:, iit, :]))\n",
    "\n",
    "sns.histplot(vd)\n",
    "sns.despine()\n",
    "\n",
    "vd_idx = np.array(vd) > 0.6"
   ]
  },
  {
   "cell_type": "markdown",
   "id": "d3804a26-b689-47c4-ab5b-2c25c57ec82b",
   "metadata": {},
   "source": [
    "## Neuron Selection based on Rank-Order Response Reliability"
   ]
  },
  {
   "cell_type": "code",
   "execution_count": 6,
   "id": "b76381b6-220c-4242-b466-5f7254c96e41",
   "metadata": {},
   "outputs": [],
   "source": [
    "split1 = np.load('G:/Data/Fast/Jenab/itc-half-split-1.npy')\n",
    "split2 = np.load('G:/Data/Fast/Jenab/itc-half-split-2.npy')"
   ]
  },
  {
   "cell_type": "code",
   "execution_count": 7,
   "id": "c0af1b41-136e-4511-af40-ce734f3c4dcf",
   "metadata": {},
   "outputs": [
    {
     "ename": "NameError",
     "evalue": "name 'neuron_s1' is not defined",
     "output_type": "error",
     "traceback": [
      "\u001b[1;31m---------------------------------------------------------------------------\u001b[0m",
      "\u001b[1;31mNameError\u001b[0m                                 Traceback (most recent call last)",
      "\u001b[1;32m~\\AppData\\Local\\Temp/ipykernel_23112/3973569715.py\u001b[0m in \u001b[0;36m<module>\u001b[1;34m\u001b[0m\n\u001b[1;32m----> 1\u001b[1;33m r, p = pearsonr(neuron_s1[:, (time > 0) & (time < 200)].mean(1), \n\u001b[0m\u001b[0;32m      2\u001b[0m          neuron_s2[:, (time > 0) & (time < 200)].mean(1))\n\u001b[0;32m      3\u001b[0m \u001b[0mshtr\u001b[0m \u001b[1;33m=\u001b[0m \u001b[1;36m2\u001b[0m \u001b[1;33m*\u001b[0m \u001b[0mr\u001b[0m \u001b[1;33m/\u001b[0m \u001b[1;33m(\u001b[0m\u001b[1;36m1\u001b[0m \u001b[1;33m+\u001b[0m \u001b[0mr\u001b[0m\u001b[1;33m)\u001b[0m\u001b[1;33m\u001b[0m\u001b[1;33m\u001b[0m\u001b[0m\n",
      "\u001b[1;31mNameError\u001b[0m: name 'neuron_s1' is not defined"
     ]
    }
   ],
   "source": [
    "r, p = pearsonr(split1[:, (time > 0) & (time < 200)].mean(1), \n",
    "         neuron_s2[:, (time > 0) & (time < 200)].mean(1))\n",
    "shtr = 2 * r / (1 + r)"
   ]
  },
  {
   "cell_type": "code",
   "execution_count": 8,
   "id": "34ce162a-928d-4d7d-bc79-eca5d70293e5",
   "metadata": {},
   "outputs": [
    {
     "name": "stdout",
     "output_type": "stream",
     "text": [
      "array must not contain infs or NaNs\n"
     ]
    },
    {
     "data": {
      "image/png": "[encoded data removed]",
      "text/plain": [
       "<Figure size 432x288 with 1 Axes>"
      ]
     },
     "metadata": {
      "needs_background": "light"
     },
     "output_type": "display_data"
    }
   ],
   "source": [
    "from scipy.stats import pearsonr\n",
    "\n",
    "time = np.arange(-200, 700)\n",
    "\n",
    "reliability = []\n",
    "for iit in range(split1.shape[1]):\n",
    "    try:\n",
    "        neuron_s1, neuron_s2 = split1[:, iit, :], split2[:, iit, :]\n",
    "        \n",
    "        # r1 = neuron_s1[:, (time) & ()]\n",
    "        # r, p = pearsonr(neuron_s1.flatten(), neuron_s2.flatten())\n",
    "        r, p = pearsonr(neuron_s1[:, (time > 50) & (time < 150)].mean(1), \n",
    "                        neuron_s2[:, (time > 50) & (time < 150)].mean(1))\n",
    "        shtr = 2 * r / (1 + r)\n",
    "    except Exception as e:\n",
    "        print(e)\n",
    "        shtr = 0\n",
    "    reliability.append(shtr)\n",
    "\n",
    "sns.histplot(reliability)\n",
    "sns.despine()"
   ]
  },
  {
   "cell_type": "code",
   "execution_count": 9,
   "id": "33868bdb-d0ca-4117-a52d-0a4edc874a9b",
   "metadata": {},
   "outputs": [],
   "source": [
    "ir_idx = np.array(reliability) > 0.4"
   ]
  },
  {
   "cell_type": "code",
   "execution_count": 10,
   "id": "eb0904ec-81a6-4cb1-a925-f404bac6efb3",
   "metadata": {},
   "outputs": [
    {
     "data": {
      "text/plain": [
       "121"
      ]
     },
     "execution_count": 10,
     "metadata": {},
     "output_type": "execute_result"
    }
   ],
   "source": [
    "(ir_idx & vd_idx).sum()"
   ]
  },
  {
   "cell_type": "code",
   "execution_count": 135,
   "id": "fb52bf26-3bce-4039-9b47-3d2e17665960",
   "metadata": {},
   "outputs": [],
   "source": [
    "def movavg(inp, bl, ss):\n",
    "    nbin = int(np.floor((inp.shape[2] - bl) / ss))\n",
    "    out = np.nan * np.zeros((inp.shape[0], inp.shape[1], nbin))\n",
    "    for ibin in range(nbin):\n",
    "        out[:, :, ibin] = np.sum(inp[:, :, int(ibin*ss):int(ibin*ss)+bl], 2) / bl * 1000\n",
    "    return out"
   ]
  },
  {
   "cell_type": "code",
   "execution_count": 140,
   "id": "667fca3e-3d4c-44d6-ab74-cfd5febe133e",
   "metadata": {},
   "outputs": [],
   "source": [
    "it_pool = data.it[:, ir_idx & vd_idx, :]"
   ]
  },
  {
   "cell_type": "markdown",
   "id": "1a8c4f9a-d742-4ada-b458-bfe11625b44d",
   "metadata": {},
   "source": [
    "# Regression"
   ]
  },
  {
   "cell_type": "code",
   "execution_count": 141,
   "id": "be8fea9c-5014-485d-8d42-5992f3986433",
   "metadata": {},
   "outputs": [
    {
     "data": {
      "application/vnd.jupyter.widget-view+json": {
       "model_id": "56a6e611c3804ecfb78b88ac3fecfd59",
       "version_major": 2,
       "version_minor": 0
      },
      "text/plain": [
       "  0%|          | 0/209 [00:00<?, ?it/s]"
      ]
     },
     "metadata": {},
     "output_type": "display_data"
    }
   ],
   "source": [
    "from sklearn.linear_model import Ridge\n",
    "from sklearn.model_selection import KFold\n",
    "from sklearn.metrics import r2_score\n",
    "\n",
    "r = []\n",
    "for ipfc in tqdm(range(data.pfc.shape[1])):\n",
    "    r2 = []\n",
    "    for ibin in range(data.it.shape[2]):\n",
    "        target = data.pfc[:, ipfc, ibin]\n",
    "        regressor = it_pool[:, :, ibin]\n",
    "\n",
    "        pred, targ = [], []\n",
    "        kf = KFold(n_splits=5, shuffle=True, random_state=0)\n",
    "        for train_idx, test_idx in kf.split(regressor):\n",
    "            X_train, X_test = regressor[train_idx], regressor[test_idx]\n",
    "            y_train, y_test = target[train_idx], target[test_idx]\n",
    "\n",
    "            mdl = Ridge(alpha=1.0, fit_intercept=True, random_state=0, solver='lsqr')\n",
    "            mdl.fit(X_train, y_train)\n",
    "\n",
    "            pred.extend(mdl.predict(X_test))\n",
    "            targ.extend(y_test)\n",
    "        r2.append(r2_score(targ, pred))\n",
    "    r.append(r2)\n",
    "\n",
    "r = np.array(r)"
   ]
  },
  {
   "cell_type": "code",
   "execution_count": 142,
   "id": "c5e3b38e-c1ba-4a1d-b64a-d6a21f78750e",
   "metadata": {},
   "outputs": [
    {
     "data": {
      "image/png": "[encoded data removed]",
      "text/plain": [
       "<Figure size 432x288 with 1 Axes>"
      ]
     },
     "metadata": {
      "needs_background": "light"
     },
     "output_type": "display_data"
    }
   ],
   "source": [
    "plt.plot(data.time, r.mean(0));"
   ]
  },
  {
   "cell_type": "code",
   "execution_count": 42,
   "id": "8f08649d-e92d-465d-a44d-101939e4de9a",
   "metadata": {},
   "outputs": [
    {
     "data": {
      "application/vnd.jupyter.widget-view+json": {
       "model_id": "ca88d7a6ecb04008b47d6dc82ce0df3c",
       "version_major": 2,
       "version_minor": 0
      },
      "text/plain": [
       "  0%|          | 0/209 [00:00<?, ?it/s]"
      ]
     },
     "metadata": {},
     "output_type": "display_data"
    }
   ],
   "source": [
    "from sklearn.linear_model import Ridge\n",
    "from sklearn.model_selection import KFold\n",
    "from sklearn.metrics import r2_score\n",
    "\n",
    "r = []\n",
    "for ipfc in tqdm(range(data.pfc.shape[1])):\n",
    "    r2 = []\n",
    "    for ibin in range(data.it.shape[2]):\n",
    "        target = data.pfc[:, ipfc, ibin]\n",
    "        regressor = data.it[:, :, ibin-1]\n",
    "\n",
    "        pred, targ = [], []\n",
    "        kf = KFold(n_splits=5, shuffle=True, random_state=0)\n",
    "        for train_idx, test_idx in kf.split(regressor):\n",
    "            X_train, X_test = regressor[train_idx], regressor[test_idx]\n",
    "            y_train, y_test = target[train_idx], target[test_idx]\n",
    "\n",
    "            mdl = Ridge(alpha=1.0, fit_intercept=True, random_state=0, solver='lsqr')\n",
    "            mdl.fit(X_train, y_train)\n",
    "\n",
    "            pred.extend(mdl.predict(X_test))\n",
    "            targ.extend(y_test)\n",
    "        r2.append(r2_score(targ, pred))\n",
    "    r.append(r2)\n",
    "\n",
    "r = np.array(r)"
   ]
  },
  {
   "cell_type": "code",
   "execution_count": 44,
   "id": "3133a024-4a63-4f8d-9723-2b7f716ac64b",
   "metadata": {},
   "outputs": [
    {
     "data": {
      "image/png": "[encoded data removed]",
      "text/plain": [
       "<Figure size 432x288 with 1 Axes>"
      ]
     },
     "metadata": {
      "needs_background": "light"
     },
     "output_type": "display_data"
    }
   ],
   "source": [
    "plt.plot(data.time, r.mean(0));"
   ]
  }
 ],
 "metadata": {
  "kernelspec": {
   "display_name": "Python 3 (ipykernel)",
   "language": "python",
   "name": "python3"
  },
  "language_info": {
   "codemirror_mode": {
    "name": "ipython",
    "version": 3
   },
   "file_extension": ".py",
   "mimetype": "text/x-python",
   "name": "python",
   "nbconvert_exporter": "python",
   "pygments_lexer": "ipython3",
   "version": "3.8.12"
  }
 },
 "nbformat": 4,
 "nbformat_minor": 5
}
