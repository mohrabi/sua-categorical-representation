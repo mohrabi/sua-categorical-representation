{
 "cells": [
  {
   "cell_type": "code",
   "execution_count": 11,
   "id": "759823cd-83ce-4a49-bc0a-5637a16c5940",
   "metadata": {},
   "outputs": [],
   "source": [
    "import pandas as pd\n",
    "import numpy as np\n",
    "from PIL import Image\n",
    "\n",
    "import os\n",
    "import glob\n"
   ]
  },
  {
   "cell_type": "code",
   "execution_count": 12,
   "id": "86676fda-b648-46bb-84fd-423f488cc090",
   "metadata": {},
   "outputs": [],
   "source": [
    "imgs = glob.glob(\"/Stimulus/*.jpg\")\n",
    "\n",
    "info = pd.DataFrame({'img': [Image.open(x).resize((50, 50)).convert('L') for x in imgs],\n",
    "                   'sfr': [\"A\"]*74 + [\"BH\"]*27 + [\"BI\"]*27 + [\"BL\"]*27 + [\"C\"]*15, \n",
    "                   'con': [\"human face\", \"human face part\", \"human face\", \"misc\", *([\"human face\"]*5), \n",
    "                           *([\"animal face\"]*3), \"monkey face\", *([\"animal face\"]*3), *([\"monkey face\"]*2),\n",
    "                           \"human body\", \"misc\", \"body part\", \"human body\", \"human body\", \"human face part\", \"human face part\",\n",
    "                           \"human body\", \"human face part\", \"human body\", \"misc\", *([\"monkey body\"]*2), *([\"animal body\"]*4),\n",
    "                           \"monkey body\", \"animal body\", *([\"natural\"]*17), *([\"artificial\"]*17), \"natural\", \"natural\",\n",
    "                           \"artificial\", *([\"human face\"]*6), *([\"animal face\"]*2), \"monkey face\", *([\"human body\"]*3),\n",
    "                           \"monkey body\", *([\"animal body\"]*2), *([\"natural\"]*6), *([\"artificial\"]*6), *([\"human face\"]*6), \n",
    "                           *([\"animal face\"]*2), \"monkey face\", *([\"human body\"]*3), \"monkey body\", *([\"animal body\"]*2), \n",
    "                           *([\"natural\"]*6), *([\"artificial\"]*6), *([\"human face\"]*6), *([\"animal face\"]*2), \"monkey face\",\n",
    "                           *([\"human body\"]*3), \"monkey body\", *([\"animal body\"]*2), *([\"natural\"]*6), *([\"artificial\"]*6),\n",
    "                           *([\"human face\"]*10), *([\"monkey face\"]*5)\n",
    "                          ],\n",
    "                  }\n",
    "                 )"
   ]
  },
  {
   "cell_type": "code",
   "execution_count": 13,
   "id": "4d6e78b6-08bd-43b2-aefe-2c2a0550eaf5",
   "metadata": {},
   "outputs": [],
   "source": [
    "sup = []\n",
    "for x in info.con:\n",
    "    if x in [\"human face\", \"monkey face\", \"animal face\", \"human body\", \"monkey body\", \"animal body\"]:\n",
    "        sup.append('animate')\n",
    "    elif x in [\"natural\", \"artificial\"]:\n",
    "        sup.append(\"inanimate\")\n",
    "    else:\n",
    "        sup.append(\"none\")\n",
    "\n",
    "sup[43] = \"none\" # Banana\n",
    "sup[69] = \"none\" # Face-Liked Jar\n",
    "# sup[126]= \"none\" # Face-Liked Cellphone\n",
    "sup[63] = \"none\" # Face-Liked Kettle\n",
    "sup[61] = \"none\" # Face-Liked Milk Bottle\n",
    "sup[44] = \"none\" # Pineapple\n",
    "\n",
    "info['sup'] = sup"
   ]
  },
  {
   "cell_type": "code",
   "execution_count": 14,
   "id": "b693c65c-de8b-4722-8557-83aeca601b21",
   "metadata": {},
   "outputs": [],
   "source": [
    "mid = []\n",
    "for x in info.con:\n",
    "    if x in [\"human face\", \"monkey face\"]:\n",
    "        mid.append('face')\n",
    "    elif x in [\"human body\", \"monkey body\"]:\n",
    "        mid.append(\"body\")\n",
    "    else:\n",
    "        mid.append(\"none\")\n",
    "mid[36] = \"body\" # deer\n",
    "info['mid'] = mid"
   ]
  },
  {
   "cell_type": "code",
   "execution_count": 15,
   "id": "1623424d-819a-4cbe-ad87-c5bacb003474",
   "metadata": {},
   "outputs": [],
   "source": [
    "fac = []\n",
    "for x in info.con:\n",
    "    if x in [\"human face\", \"monkey face\"]:\n",
    "        fac.append(True)\n",
    "    else:\n",
    "        fac.append(False)\n",
    "\n",
    "info['fac'] = fac"
   ]
  },
  {
   "cell_type": "code",
   "execution_count": 16,
   "id": "6d0e52b7-2e41-4051-91f1-4a7ea3173d90",
   "metadata": {},
   "outputs": [],
   "source": [
    "bod = []\n",
    "for x in info.con:\n",
    "    if x in [\"human body\", \"monkey body\"]:\n",
    "        bod.append(True)\n",
    "    else:\n",
    "        bod.append(False)\n",
    "bod[36] = False # deer\n",
    "info['bod'] = bod"
   ]
  },
  {
   "cell_type": "code",
   "execution_count": 17,
   "id": "1c06636b-3b62-436a-8d58-fadc110fe2bc",
   "metadata": {},
   "outputs": [],
   "source": [
    "art = [True if x==\"artificial\" else False for x in info.con]\n",
    "art[43] = False # Banana\n",
    "art[69] = False # Face-Liked Jar\n",
    "# art[126]= False # Face-Liked Cellphone\n",
    "art[63] = False # Face-Liked Kettle\n",
    "art[61] = False # Face-Liked Milk Bottle\n",
    "art[44] = False # Pineapple\n",
    "info['art'] = art\n",
    "\n",
    "nat = [True if x==\"natural\" else False for x in info.con]\n",
    "nat[43] = False # Banana\n",
    "nat[69] = False # Face-Liked Jar\n",
    "# nat[126]= False # Face-Liked Cellphone\n",
    "nat[63] = False # Face-Liked Kettle\n",
    "nat[61] = False # Face-Liked Milk Bottle\n",
    "nat[44] = False # Pineapple\n",
    "info['nat'] = nat"
   ]
  },
  {
   "cell_type": "code",
   "execution_count": 18,
   "id": "3474306b-c357-480f-bd71-a0922196758d",
   "metadata": {},
   "outputs": [],
   "source": [
    "cat = [\"face\" if x==True else \"none\" for x in info.fac]\n",
    "for i, _ in enumerate(cat):\n",
    "    if info.bod[i]==True:\n",
    "        cat[i] = \"body\"\n",
    "    elif info.art[i]==True:\n",
    "        cat[i] = \"artificial\"\n",
    "    elif info.nat[i]==True:\n",
    "        cat[i] = \"natural\"\n",
    "info['cat'] = cat"
   ]
  },
  {
   "cell_type": "code",
   "execution_count": 19,
   "id": "68b2f63a-5bdc-4a55-860f-c3bc0ca39bce",
   "metadata": {},
   "outputs": [
    {
     "data": {
      "text/plain": [
       "img    <PIL.Image.Image image mode=L size=50x50 at 0x...\n",
       "sfr                                                   BI\n",
       "con                                           artificial\n",
       "sup                                            inanimate\n",
       "mid                                                 none\n",
       "fac                                                False\n",
       "bod                                                False\n",
       "art                                                 True\n",
       "nat                                                False\n",
       "cat                                           artificial\n",
       "Name: 126, dtype: object"
      ]
     },
     "execution_count": 19,
     "metadata": {},
     "output_type": "execute_result"
    }
   ],
   "source": [
    "info.iloc[126]"
   ]
  },
  {
   "cell_type": "code",
   "execution_count": 21,
   "id": "c4ca0524-33be-4a55-b358-b15740433591",
   "metadata": {},
   "outputs": [],
   "source": [
    "import pickle\n",
    "with open('./utils/info.pkl', 'wb') as f:\n",
    "    pickle.dump(info, f)"
   ]
  },
  {
   "cell_type": "code",
   "execution_count": 7,
   "id": "f5a89cfc",
   "metadata": {},
   "outputs": [
    {
     "name": "stdout",
     "output_type": "stream",
     "text": [
      "0       True\n",
      "1      False\n",
      "2       True\n",
      "3      False\n",
      "4       True\n",
      "       ...  \n",
      "165     True\n",
      "166     True\n",
      "167     True\n",
      "168     True\n",
      "169     True\n",
      "Name: fac, Length: 170, dtype: bool\n"
     ]
    }
   ],
   "source": [
    "import pickle\n",
    "with open('./utils/info.pkl', 'rb') as f:\n",
    "    info = pickle.load(f)\n",
    "\n",
    "print(info.fac==1)\n",
    "\n",
    "from scipy.io import savemat\n",
    "savemat('./utils/info.mat', mdict={'fac': (info.fac==1).to_numpy(), 'bod': info.bod})"
   ]
  }
 ],
 "metadata": {
  "kernelspec": {
   "display_name": "Python 3.8.12 ('ipm')",
   "language": "python",
   "name": "python3"
  },
  "language_info": {
   "codemirror_mode": {
    "name": "ipython",
    "version": 3
   },
   "file_extension": ".py",
   "mimetype": "text/x-python",
   "name": "python",
   "nbconvert_exporter": "python",
   "pygments_lexer": "ipython3",
   "version": "3.8.12"
  },
  "vscode": {
   "interpreter": {
    "hash": "dda83d13db9bd4f7e861241b49178a983af21559d6d065c8fa5d96bc0691cfcb"
   }
  }
 },
 "nbformat": 4,
 "nbformat_minor": 5
}
