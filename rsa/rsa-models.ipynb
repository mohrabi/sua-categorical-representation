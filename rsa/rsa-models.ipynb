{
 "cells": [
  {
   "cell_type": "code",
   "execution_count": 1,
   "id": "729ae2c6-bdae-48e4-a7a8-74afdb340c07",
   "metadata": {},
   "outputs": [],
   "source": [
    "import os\n",
    "import numpy as np\n",
    "from matplotlib import pyplot as plt\n",
    "\n",
    "import pickle\n",
    "\n",
    "from itertools import product\n",
    "from itertools import combinations_with_replacement as cwr\n",
    "\n",
    "from src.ipm import grablabels"
   ]
  },
  {
   "cell_type": "code",
   "execution_count": 2,
   "id": "71b9a8f6-ad4a-4c91-b73b-32c553c4da85",
   "metadata": {},
   "outputs": [],
   "source": [
    "y = grablabels(hierarchy='categories')\n",
    "y = y[np.argwhere(~np.isnan(y)).squeeze()]\n",
    "\n",
    "yc = np.full(y.size, 'xx')\n",
    "yc[y==0] = 'af'\n",
    "yc[y==1] = 'hf'\n",
    "yc[y==2] = 'mf'\n",
    "yc[y==3] = 'hb'\n",
    "yc[y==4] = 'mb'\n",
    "yc[y==5] = 'ab'\n",
    "yc[y==6] = 'xn'\n",
    "yc[y==7] = 'xa'\n",
    "\n",
    "argsort = np.argsort(y)\n",
    "y = y[argsort]"
   ]
  },
  {
   "cell_type": "code",
   "execution_count": 3,
   "id": "01ef134f-63aa-4e93-acc5-ebea95f6f6f0",
   "metadata": {},
   "outputs": [],
   "source": [
    "out_path = r\"G:\\Codes\\Python\\out\\rsa\""
   ]
  },
  {
   "cell_type": "code",
   "execution_count": 4,
   "id": "f43c8080-fc71-4525-8cc4-85e0c15c23be",
   "metadata": {},
   "outputs": [],
   "source": [
    "gtruth = {}\n",
    "\n",
    "\n",
    "\n",
    "mat = np.nan * np.ones([(~np.isnan(y)).sum(), (~np.isnan(y)).sum()])\n",
    "for c1, c2 in product([0, 1, 2], [3, 4, 5]):\n",
    "    for ci in np.argwhere(y==c1):\n",
    "        for cj in np.argwhere(y==c2):\n",
    "            mat[ci, cj] = 1\n",
    "            mat[cj, ci] = 1\n",
    "for c1, c2 in cwr([0, 1, 2], 2):\n",
    "    for ci in np.argwhere(y==c1):\n",
    "        for cj in np.argwhere(y==c2):\n",
    "            mat[ci, cj] = 0\n",
    "            mat[cj, ci] = 0            \n",
    "for c1, c2 in cwr([3, 4, 5], 2):\n",
    "    for ci in np.argwhere(y==c1):\n",
    "        for cj in np.argwhere(y==c2):\n",
    "            mat[ci, cj] = 0\n",
    "            mat[cj, ci] = 0   \n",
    "gtruth['f-b'] = mat\n",
    "\n",
    "mat = np.nan * np.ones([(~np.isnan(y)).sum(), (~np.isnan(y)).sum()])\n",
    "for c1, c2 in product([1, 2], [3, 4]):\n",
    "    for ci in np.argwhere(y==c1):\n",
    "        for cj in np.argwhere(y==c2):\n",
    "            mat[ci, cj] = 1\n",
    "            mat[cj, ci] = 1\n",
    "for c1, c2 in cwr([1, 2], 2):\n",
    "    for ci in np.argwhere(y==c1):\n",
    "        for cj in np.argwhere(y==c2):\n",
    "            mat[ci, cj] = 0\n",
    "            mat[cj, ci] = 0            \n",
    "for c1, c2 in cwr([3, 4], 2):\n",
    "    for ci in np.argwhere(y==c1):\n",
    "        for cj in np.argwhere(y==c2):\n",
    "            mat[ci, cj] = 0\n",
    "            mat[cj, ci] = 0        \n",
    "gtruth['pf-pb'] = mat\n",
    "\n",
    "mat = np.nan * np.ones([(~np.isnan(y)).sum(), (~np.isnan(y)).sum()])\n",
    "for c1, c2 in product([0, 1, 2, 3, 4, 5], [6, 7]):\n",
    "    for ci in np.argwhere(y==c1):\n",
    "        for cj in np.argwhere(y==c2):\n",
    "            mat[ci, cj] = 1\n",
    "            mat[cj, ci] = 1\n",
    "for c1, c2 in cwr([0, 1, 2, 3, 4, 5], 2):\n",
    "    for ci in np.argwhere(y==c1):\n",
    "        for cj in np.argwhere(y==c2):\n",
    "            mat[ci, cj] = 0\n",
    "            mat[cj, ci] = 0            \n",
    "for c1, c2 in cwr([6, 7], 2):\n",
    "    for ci in np.argwhere(y==c1):\n",
    "        for cj in np.argwhere(y==c2):\n",
    "            mat[ci, cj] = 0\n",
    "            mat[cj, ci] = 0 \n",
    "gtruth['a-i'] = mat\n",
    "\n",
    "with open(os.path.join(out_path, \"gtruth.pkl\"), 'wb') as handle:\n",
    "    pickle.dump(gtruth, handle, protocol=pickle.HIGHEST_PROTOCOL)"
   ]
  },
  {
   "cell_type": "code",
   "execution_count": 5,
   "id": "a736b619-a2ae-46fa-b918-f03414681da4",
   "metadata": {},
   "outputs": [
    {
     "data": {
      "image/png": "[encoded data removed]",
      "text/plain": [
       "<Figure size 1200x400 with 3 Axes>"
      ]
     },
     "metadata": {},
     "output_type": "display_data"
    }
   ],
   "source": [
    "titles = [\"Face-Body\", \"PrimateFace-PrimateBody\", \"Animate-Inanimate\"]\n",
    "fig, axs = plt.subplots(1, 3, figsize=(24,8), dpi=50)\n",
    "\n",
    "for it, key in enumerate(gtruth):\n",
    "    axs[it].imshow(gtruth[key], cmap='bwr')\n",
    "    axs[it].set_title(titles[it], fontsize=18)\n",
    "    axs[it].axis('image')\n",
    "    axs[it].set_xticks([])\n",
    "    axs[it].set_yticks([])"
   ]
  },
  {
   "cell_type": "code",
   "execution_count": 6,
   "id": "4e0c7eca-89db-41ce-b02a-e0466026edd9",
   "metadata": {},
   "outputs": [
    {
     "data": {
      "text/plain": [
       "(95, 95)"
      ]
     },
     "execution_count": 6,
     "metadata": {},
     "output_type": "execute_result"
    }
   ],
   "source": [
    "gtruth['f-b'].shape"
   ]
  },
  {
   "cell_type": "code",
   "execution_count": null,
   "id": "f4613a67-08ea-4d65-8291-a468fc5fea2b",
   "metadata": {},
   "outputs": [],
   "source": []
  }
 ],
 "metadata": {
  "kernelspec": {
   "display_name": "Python 3 (ipykernel)",
   "language": "python",
   "name": "python3"
  },
  "language_info": {
   "codemirror_mode": {
    "name": "ipython",
    "version": 3
   },
   "file_extension": ".py",
   "mimetype": "text/x-python",
   "name": "python",
   "nbconvert_exporter": "python",
   "pygments_lexer": "ipython3",
   "version": "3.8.12"
  }
 },
 "nbformat": 4,
 "nbformat_minor": 5
}
