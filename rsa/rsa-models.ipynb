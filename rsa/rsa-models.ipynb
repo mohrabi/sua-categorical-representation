{
 "cells": [
  {
   "cell_type": "code",
   "execution_count": 2,
   "id": "729ae2c6-bdae-48e4-a7a8-74afdb340c07",
   "metadata": {},
   "outputs": [],
   "source": [
    "import json\n",
    "import os\n",
    "import pickle\n",
    "import sys\n",
    "import numpy as np\n",
    "from tqdm.notebook import tqdm\n",
    "import pandas as pd\n",
    "\n",
    "with open('../dirs.json', 'r') as f:\n",
    "    dirs = json.load(f)\n",
    "sys.path.append(dirs['root'])\n",
    "\n",
    "from utils.ipm import NeuronLoader\n",
    "from utils.metrics import DescriminationConfidenceEstimator as DCE\n",
    "from utils.utils import mkeqdata\n",
    "from sklearn.metrics.pairwise import cosine_similarity\n",
    "from scipy.stats import kendalltau\n",
    "from matplotlib import pyplot as plt\n",
    "import seaborn as sns\n",
    "\n",
    "from itertools import product\n",
    "from itertools import combinations_with_replacement as cwr\n",
    "\n",
    "from scipy.ndimage import gaussian_filter1d as smooth\n",
    "\n",
    "nmb_rep = 100\n",
    "\n",
    "outPath = os.path.join(dirs['out']['rsa'])\n",
    "os.makedirs(outPath, exist_ok=True)"
   ]
  },
  {
   "cell_type": "code",
   "execution_count": 3,
   "id": "519dd393",
   "metadata": {},
   "outputs": [],
   "source": [
    "monkey = \"both\"\n",
    "selectivity = \"fast\"\n",
    "\n",
    "with open(\"../utils/info.pkl\", \"rb\") as handler:\n",
    "    info = pickle.load(handler)\n",
    "info = info[:165]\n",
    "sIndex = ((info.sfr == \"A\") | (info.sfr == \"BI\"))\n",
    "noneIndex = (info.cat == \"none\")\n",
    "info = info[~noneIndex & sIndex]\n",
    "info.con = info.con.astype('category')\n",
    "info.con = info.con.cat.reorder_categories(['human body', 'human face', 'monkey body', 'monkey face', 'natural', 'artificial'])\n",
    "\n",
    "argsort = np.argsort(\n",
    "    info.con.astype('category').cat.set_categories(\n",
    "        ['human face', 'monkey face', 'human body', 'monkey body', 'artificial', 'natural'], \n",
    "        ordered=True\n",
    "    )\n",
    ")\n",
    "\n",
    "info = info.iloc[argsort]\n",
    "index = info.index\n",
    "info = info.reset_index(drop=True)"
   ]
  },
  {
   "cell_type": "code",
   "execution_count": 4,
   "id": "64c12202",
   "metadata": {},
   "outputs": [
    {
     "data": {
      "image/png": "[encoded data removed]",
      "text/plain": [
       "<Figure size 1152x288 with 4 Axes>"
      ]
     },
     "metadata": {
      "needs_background": "light"
     },
     "output_type": "display_data"
    }
   ],
   "source": [
    "groundTruth = {}\n",
    "\n",
    "fig, axs = plt.subplots(1, 4, figsize=(16, 4))\n",
    "\n",
    "for ax, category in zip(axs, ['face', 'body', 'artificial', 'natural']):\n",
    "    mat = np.nan * np.ones([len(info), len(info)])\n",
    "\n",
    "    ind = (info.cat==category).to_numpy()\n",
    "    mat[np.ix_(ind, ind)]   = 0\n",
    "    mat[np.ix_(~ind, ~ind)] = 0\n",
    "    mat[np.ix_(ind, ~ind)]  = 1\n",
    "    mat[np.ix_(~ind, ind)]  = 1\n",
    "\n",
    "    groundTruth[category] = mat\n",
    "\n",
    "    ax.imshow(mat, cmap='bwr')\n",
    "    ax.axis('off')"
   ]
  },
  {
   "cell_type": "code",
   "execution_count": 5,
   "id": "a0d39b8c",
   "metadata": {},
   "outputs": [],
   "source": [
    "with open('ground-truth.pickle', 'wb') as f:\n",
    "    pickle.dump(groundTruth, f, protocol=pickle.HIGHEST_PROTOCOL)"
   ]
  }
 ],
 "metadata": {
  "kernelspec": {
   "display_name": "Python 3.8.12 ('ipm')",
   "language": "python",
   "name": "python3"
  },
  "language_info": {
   "codemirror_mode": {
    "name": "ipython",
    "version": 3
   },
   "file_extension": ".py",
   "mimetype": "text/x-python",
   "name": "python",
   "nbconvert_exporter": "python",
   "pygments_lexer": "ipython3",
   "version": "3.8.12"
  },
  "vscode": {
   "interpreter": {
    "hash": "dda83d13db9bd4f7e861241b49178a983af21559d6d065c8fa5d96bc0691cfcb"
   }
  }
 },
 "nbformat": 4,
 "nbformat_minor": 5
}
