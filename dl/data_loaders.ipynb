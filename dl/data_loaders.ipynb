{
 "cells": [
  {
   "cell_type": "code",
   "execution_count": 1,
   "id": "52053c75-c922-4b20-9ab8-6c3288dee597",
   "metadata": {},
   "outputs": [],
   "source": [
    "import os\n",
    "import glob\n",
    "import numpy as np\n",
    "import pandas as pd\n",
    "from scipy.io import loadmat\n",
    "from matplotlib import pyplot as plt\n",
    "from scipy.stats import pearsonr\n",
    "from tqdm import tqdm\n",
    "\n",
    "# info = pd.read_csv(\"G:/Data/Supplementaries/zebel-paired.csv\")"
   ]
  },
  {
   "cell_type": "code",
   "execution_count": 2,
   "id": "8beee6a7-21d5-4644-8e10-801be06f3aaf",
   "metadata": {},
   "outputs": [],
   "source": [
    "def movavg(inp, bl, ss):\n",
    "    nbin = int(np.floor((inp.shape[2] - bl) / ss))\n",
    "    out = np.nan * np.zeros((inp.shape[0], inp.shape[1], nbin))\n",
    "    for ibin in range(nbin):\n",
    "        out[:, :, ibin] = np.sum(inp[:, :, int(ibin*ss):int(ibin*ss)+bl], 2) / bl * 1000\n",
    "    return out"
   ]
  },
  {
   "cell_type": "markdown",
   "id": "f28dba74-658c-4e21-82b2-97b0a5bf1bea",
   "metadata": {},
   "source": [
    "# Split Half Data"
   ]
  },
  {
   "cell_type": "code",
   "execution_count": null,
   "id": "d3ee3613-ce22-48fa-a82c-db0811eb5219",
   "metadata": {},
   "outputs": [],
   "source": [
    "def read_neuron(path):\n",
    "    cm = loadmat(os.path.join(os.path.dirname(path), 'cm.mat'))['cm']\n",
    "    nstim = np.unique(cm).max()\n",
    "    \n",
    "    nsample = 900\n",
    "    data = np.nan * np.zeros([nstim, 1, nsample])\n",
    "    \n",
    "    ua = loadmat(path)['ua']\n",
    "    cm = cm[:ua.shape[0]]\n",
    "    \n",
    "    split_1, split_2 = [], []\n",
    "    for istim in np.arange(1, 166):\n",
    "        X = ua[(cm==istim).flatten(), :]\n",
    "        nrep = X.shape[0]\n",
    "        \n",
    "        first_half = X[:int(nrep/2), :]\n",
    "        second_half = X[int(nrep/2):, :]\n",
    "\n",
    "        split_1.append(first_half.mean(0))\n",
    "        split_2.append(second_half.mean(0))\n",
    "    \n",
    "    if nrep < 3:\n",
    "        print(path)\n",
    "    return np.array(split_1), np.array(split_2)"
   ]
  },
  {
   "cell_type": "code",
   "execution_count": null,
   "id": "c142c3c9-6c13-493c-8415-5a1494930b11",
   "metadata": {},
   "outputs": [],
   "source": [
    "monkey = \"jenab\"\n",
    "select = \"fast\"\n",
    "\n",
    "info = pd.read_csv(f'/Data/{select.capitalize()}/{monkey.capitalize()}/itcNeuralInfo.csv')\n",
    "\n",
    "split1, split2 = [], []\n",
    "for row in info.iterrows():\n",
    "    spl1, spl2 = read_neuron(row[1][0])\n",
    "    split1.append(spl1)\n",
    "    split2.append(spl2)\n",
    "\n",
    "split1 = np.transpose(split1, [1, 0, 2])\n",
    "split2 = np.transpose(split2, [1, 0, 2])\n",
    "\n",
    "np.save(f\"G:/Data/Fast/{monkey.capitalize()}/itc-half-split-1.npy\", split1)\n",
    "np.save(f\"G:/Data/Fast/{monkey.capitalize()}/itc-half-split-2.npy\", split2)"
   ]
  },
  {
   "cell_type": "code",
   "execution_count": null,
   "id": "8629c123",
   "metadata": {},
   "outputs": [],
   "source": [
    "monkey = \"jenab\"\n",
    "select = \"fast\"\n",
    "\n",
    "info = pd.read_csv(f'/Data/{select.capitalize()}/{monkey.capitalize()}/pfcNeuralInfo.csv')\n",
    "\n",
    "split1, split2 = [], []\n",
    "for row in info.iterrows():\n",
    "    spl1, spl2 = read_neuron(row[1][0])\n",
    "    split1.append(spl1)\n",
    "    split2.append(spl2)\n",
    "\n",
    "split1 = np.transpose(split1, [1, 0, 2])\n",
    "split2 = np.transpose(split2, [1, 0, 2])\n",
    "\n",
    "np.save(f'G:/Data/Fast/{monkey.capitalize()}/pfc-half-split-1.npy', split1)\n",
    "np.save(f'G:/Data/Fast/{monkey.capitalize()}/pfc-half-split-2.npy', split2)"
   ]
  },
  {
   "cell_type": "code",
   "execution_count": null,
   "id": "3e8c6e43",
   "metadata": {},
   "outputs": [],
   "source": [
    "monkey = \"zebel\"\n",
    "select = \"fast\"\n",
    "\n",
    "info = pd.read_csv(f'/Data/{select.capitalize()}/{monkey.capitalize()}/itcNeuralInfo.csv')\n",
    "\n",
    "split1, split2 = [], []\n",
    "for row in info.iterrows():\n",
    "    spl1, spl2 = read_neuron(row[1][0])\n",
    "    split1.append(spl1)\n",
    "    split2.append(spl2)\n",
    "\n",
    "split1 = np.transpose(split1, [1, 0, 2])\n",
    "split2 = np.transpose(split2, [1, 0, 2])\n",
    "\n",
    "np.save(f'G:/Data/Fast/{monkey.capitalize()}/itc-half-split-1.npy', split1)\n",
    "np.save(f'G:/Data/Fast/{monkey.capitalize()}/itc-half-split-2.npy', split2)"
   ]
  },
  {
   "cell_type": "code",
   "execution_count": null,
   "id": "49148128-0df5-434e-8a9a-a0e5e7d90a25",
   "metadata": {},
   "outputs": [],
   "source": [
    "monkey = \"zebel\"\n",
    "select = \"fast\"\n",
    "\n",
    "info = pd.read_csv(f'/Data/{select.capitalize()}/{monkey.capitalize()}/pfcNeuralInfo.csv')\n",
    "\n",
    "split1, split2 = [], []\n",
    "for row in info.iterrows():\n",
    "    spl1, spl2 = read_neuron(row[1][0])\n",
    "    split1.append(spl1)\n",
    "    split2.append(spl2)\n",
    "\n",
    "split1 = np.transpose(split1, [1, 0, 2])\n",
    "split2 = np.transpose(split2, [1, 0, 2])\n",
    "\n",
    "np.save(f'G:/Data/Fast/{monkey.capitalize()}/pfc-half-split-1.npy', split1)\n",
    "np.save(f'G:/Data/Fast/{monkey.capitalize()}/pfc-half-split-2.npy', split2)"
   ]
  },
  {
   "cell_type": "markdown",
   "id": "a2622b78-e60c-4551-aeb4-64ad0139995f",
   "metadata": {
    "tags": []
   },
   "source": [
    "# Jenab - Fast"
   ]
  },
  {
   "cell_type": "code",
   "execution_count": 3,
   "id": "28444c5d",
   "metadata": {},
   "outputs": [],
   "source": [
    "def visual_drive(neuron):\n",
    "    time = np.arange(-200, 650) + 25\n",
    "    gray   = neuron[:, (time < 0) & (time > -50)].mean(1)\n",
    "    images = neuron[:, (time > 150) & (time < 200)].mean(1)\n",
    "    sigma_images = images.std()\n",
    "    sigma_gray   = gray.std()\n",
    "\n",
    "    dprime = (images.mean() - gray.mean()) / np.sqrt(0.5 * (sigma_gray ** 2 + sigma_images ** 2))\n",
    "    return dprime"
   ]
  },
  {
   "cell_type": "code",
   "execution_count": 31,
   "id": "677d5771",
   "metadata": {},
   "outputs": [],
   "source": [
    "def read_neuron_split(path):\n",
    "    cm = loadmat(os.path.join(os.path.dirname(path), 'cm.mat'))['cm']\n",
    "    nstim = np.unique(cm).max()\n",
    "    \n",
    "    nsample = 900\n",
    "    data = np.nan * np.zeros([nstim, 1, nsample])\n",
    "    \n",
    "    ua = loadmat(path)['ua']\n",
    "    cm = cm[:ua.shape[0]]\n",
    "    \n",
    "    split_1, split_2 = [], []\n",
    "    for istim in np.arange(1, 166):\n",
    "        X = ua[(cm==istim).flatten(), :]\n",
    "        X = X[np.random.permutation(X.shape[0]).flatten(), :]\n",
    "        nrep = X.shape[0]\n",
    "        \n",
    "        first_half = X[:int(nrep/2), :]\n",
    "        second_half = X[int(nrep/2):, :]\n",
    "\n",
    "        split_1.append(first_half.mean(0))\n",
    "        split_2.append(second_half.mean(0))\n",
    "    \n",
    "    # if nrep < 3:\n",
    "        # print(path)\n",
    "    return np.array(split_1), np.array(split_2)"
   ]
  },
  {
   "cell_type": "code",
   "execution_count": 68,
   "id": "ee5ad575",
   "metadata": {},
   "outputs": [],
   "source": [
    "def split_half_reliability(region):\n",
    "    time = np.arange(-200, 700)\n",
    "    # split1 = np.load(f\"G:/Data/Fast/Jenab/{region}-half-split-1.npy\")\n",
    "    # split2 = np.load(f\"G:/Data/Fast/Jenab/{region}-half-split-2.npy\")\n",
    "\n",
    "    info = pd.read_csv(f'/Data/Fast/{monkey.capitalize()}/{region}NeuralInfo.csv')\n",
    "\n",
    "    out = []\n",
    "    for _ in tqdm(range(3)):\n",
    "        split1, split2 = [], []\n",
    "        for row in info.iterrows():\n",
    "            spl1, spl2 = read_neuron_split(row[1][0])\n",
    "            split1.append(spl1)\n",
    "            split2.append(spl2)\n",
    "\n",
    "        split1 = np.transpose(split1, [1, 0, 2])\n",
    "        split2 = np.transpose(split2, [1, 0, 2])\n",
    "\n",
    "        reliability = []\n",
    "        for iit in range(split1.shape[1]):\n",
    "            try:\n",
    "                neuron_s1, neuron_s2 = split1[:, iit, :], split2[:, iit, :]\n",
    "                \n",
    "                r, p = pearsonr(neuron_s1[:, (time > 100) & (time < 150)].mean(1), \n",
    "                                neuron_s2[:, (time > 100) & (time < 150)].mean(1))\n",
    "                shtr = 2 * r / (1 + r)\n",
    "            except Exception as e:\n",
    "                # print(e)\n",
    "                shtr = 0\n",
    "            reliability.append(shtr)\n",
    "        reliability = np.array(reliability)\n",
    "        out.append(reliability)\n",
    "    return np.array(out)\n",
    "    "
   ]
  },
  {
   "cell_type": "code",
   "execution_count": 33,
   "id": "115883b0",
   "metadata": {},
   "outputs": [],
   "source": [
    "def read_neuron(path):    \n",
    "    cm = loadmat(os.path.join(os.path.dirname(path), 'cm.mat'))['cm']\n",
    "    nstim = np.unique(cm).max()\n",
    "    \n",
    "    nsample = 900\n",
    "    data = np.nan * np.zeros([nstim, 1, nsample])\n",
    "    \n",
    "    ua = loadmat(path)['ua']\n",
    "    cm = cm[:ua.shape[0]]\n",
    "    for istim in np.arange(1, nstim + 1, 1):\n",
    "        data[istim-1, 0, :] = ua[(cm == istim).squeeze(), :].mean(0)\n",
    "        \n",
    "    return movavg(data, 50, 1)"
   ]
  },
  {
   "cell_type": "code",
   "execution_count": 3,
   "id": "15bb1d7d",
   "metadata": {},
   "outputs": [],
   "source": [
    "def read_neuron_no_avg(path):    \n",
    "    cm = loadmat(os.path.join(os.path.dirname(path), 'cm.mat'))['cm']\n",
    "    nstim = np.unique(cm).max()\n",
    "    \n",
    "    nsample = 900\n",
    "    data = np.nan * np.zeros([nstim, 1, nsample])\n",
    "    \n",
    "    ua = loadmat(path)['ua']\n",
    "    cm = cm[:ua.shape[0]]\n",
    "    for istim in np.arange(1, nstim + 1, 1):\n",
    "        data[istim-1, 0, :] = ua[(cm == istim).squeeze(), :].mean(0)\n",
    "        \n",
    "    return data"
   ]
  },
  {
   "cell_type": "code",
   "execution_count": 8,
   "id": "bb9b03cb",
   "metadata": {},
   "outputs": [],
   "source": [
    "for monkey in [\"jenab\", \"zebel\"]:\n",
    "    for region in [\"itc\", \"pfc\"]:\n",
    "        info = pd.read_csv(f\"/Data/Fast/{monkey.capitalize()}/{region}NeuralInfo.csv\")\n",
    "\n",
    "        data = []\n",
    "        for row in info.iterrows():\n",
    "            data.append(read_neuron_no_avg(row[1][0]))\n",
    "\n",
    "        data = np.transpose(np.array(data).squeeze(), [1, 0, 2])\n",
    "        np.save(f\"G:/Data/Fast/{monkey.capitalize()}/{region.upper()}NoAvg.npy\", data)"
   ]
  },
  {
   "cell_type": "code",
   "execution_count": 9,
   "id": "3e4e1879-8d20-47f3-84de-2ff2b705b6e0",
   "metadata": {},
   "outputs": [],
   "source": [
    "itc_z = np.load('G:/Data/Fast/Zebel/ITCNoAvg.npy')\n",
    "itc_j = np.load('G:/Data/Fast/Jenab/ITCNoAvg.npy')\n",
    "itc_z = itc_z[:itc_j.shape[0], :, :]\n",
    "\n",
    "itc = np.concatenate([itc_z, itc_j], axis=1)\n",
    "\n",
    "np.save('G:/Data/Fast/Both/ITCNoAvg.npy', itc)"
   ]
  },
  {
   "cell_type": "code",
   "execution_count": 10,
   "id": "51cbc43b-3cca-454d-970e-384a4e5bd9a1",
   "metadata": {},
   "outputs": [],
   "source": [
    "pfc_z = np.load('G:/Data/Fast/Zebel/PFCNoAvg.npy')\n",
    "pfc_j = np.load('G:/Data/Fast/Jenab/PFCNoAvg.npy')\n",
    "pfc_z = pfc_z[:pfc_j.shape[0], :, :]\n",
    "\n",
    "pfc = np.concatenate([pfc_z, pfc_j], axis=1)\n",
    "\n",
    "np.save('G:/Data/Fast/Both/PFCNoAvg.npy', pfc)"
   ]
  },
  {
   "cell_type": "code",
   "execution_count": 6,
   "id": "50303a4d",
   "metadata": {},
   "outputs": [
    {
     "data": {
      "text/plain": [
       "(165, 268, 900)"
      ]
     },
     "execution_count": 6,
     "metadata": {},
     "output_type": "execute_result"
    }
   ],
   "source": [
    "data.shape"
   ]
  },
  {
   "cell_type": "code",
   "execution_count": 52,
   "id": "95b4bad4",
   "metadata": {},
   "outputs": [
    {
     "name": "stderr",
     "output_type": "stream",
     "text": [
      "  0%|          | 0/3 [00:00<?, ?it/s]C:\\Users\\User\\AppData\\Local\\Temp/ipykernel_18840/2017250244.py:20: RuntimeWarning: Mean of empty slice.\n",
      "  split_1.append(first_half.mean(0))\n",
      "c:\\Users\\User\\anaconda3\\envs\\ipm\\lib\\site-packages\\numpy\\core\\_methods.py:181: RuntimeWarning: invalid value encountered in true_divide\n",
      "  ret = um.true_divide(\n",
      "100%|██████████| 3/3 [00:12<00:00,  4.17s/it]\n"
     ]
    }
   ],
   "source": [
    "monkey = \"jenab\"\n",
    "region = 'pfc'\n",
    "\n",
    "info = pd.read_csv(f\"/Data/Fast/{monkey.capitalize()}/{region}NeuralInfo.csv\")\n",
    "\n",
    "data = []\n",
    "for row in info.iterrows():\n",
    "    data.append(read_neuron(row[1][0]))\n",
    "\n",
    "data = np.transpose(np.array(data).squeeze(), [1, 0, 2])\n",
    "np.save(f\"G:/Data/Fast/{monkey.capitalize()}/{region}.npy\", data)\n",
    "\n",
    "vd = []\n",
    "for ineuron in range(data.shape[1]):\n",
    "    vd.append(visual_drive(data[:, ineuron, :]))\n",
    "\n",
    "sh = split_half_reliability(region=region).mean(0)\n",
    "\n",
    "vdIdx = (np.array(vd) > .6).flatten()\n",
    "shIdx = (sh > .6).flatten()\n",
    "\n",
    "(data.shape[1], vdIdx.sum(), shIdx.sum())\n",
    "np.save(f\"G:/Data/Fast/{monkey.capitalize()}/{region.upper()}S.npy\", data[:, vdIdx & shIdx, :])"
   ]
  },
  {
   "cell_type": "code",
   "execution_count": 54,
   "id": "c670ee7c",
   "metadata": {},
   "outputs": [
    {
     "data": {
      "text/plain": [
       "(209, 33, 0)"
      ]
     },
     "execution_count": 54,
     "metadata": {},
     "output_type": "execute_result"
    }
   ],
   "source": [
    "data.shape[1], vdIdx.sum(), shIdx.sum()"
   ]
  },
  {
   "cell_type": "code",
   "execution_count": 65,
   "id": "5239b283",
   "metadata": {},
   "outputs": [
    {
     "name": "stdout",
     "output_type": "stream",
     "text": [
      "51\n"
     ]
    },
    {
     "data": {
      "text/plain": [
       "[<matplotlib.lines.Line2D at 0x28480b35bb0>]"
      ]
     },
     "execution_count": 65,
     "metadata": {},
     "output_type": "execute_result"
    },
    {
     "data": {
      "image/png": "[encoded data removed]",
      "text/plain": [
       "<Figure size 432x288 with 1 Axes>"
      ]
     },
     "metadata": {
      "needs_background": "light"
     },
     "output_type": "display_data"
    }
   ],
   "source": [
    "print((sh > 0.1).sum())\n",
    "plt.plot(sh)"
   ]
  },
  {
   "cell_type": "code",
   "execution_count": null,
   "id": "ff5e66c1",
   "metadata": {},
   "outputs": [],
   "source": []
  },
  {
   "cell_type": "code",
   "execution_count": null,
   "id": "76d4b6bf",
   "metadata": {},
   "outputs": [],
   "source": [
    "monkey = \"jenab\"\n",
    "region = 'itc'\n",
    "\n",
    "info = pd.read_csv(f\"/Data/Fast/{monkey.capitalize()}/{region}NeuralInfo.csv\")\n",
    "\n",
    "data = []\n",
    "for row in info.iterrows():\n",
    "    data.append(read_neuron(row[1][0]))\n",
    "\n",
    "data = np.transpose(np.array(itc).squeeze(), [1, 0, 2])\n",
    "np.save(f\"G:/Data/Fast/Jenab/{region}.npy\", data)"
   ]
  },
  {
   "cell_type": "code",
   "execution_count": null,
   "id": "acb7e2da-6741-4e6f-b428-d6cb03b288b7",
   "metadata": {},
   "outputs": [],
   "source": [
    "vdIdx = "
   ]
  },
  {
   "cell_type": "code",
   "execution_count": null,
   "id": "b41c2eae-4878-4c7a-b8c5-14fbb91ad002",
   "metadata": {},
   "outputs": [],
   "source": [
    "monkey = \"jenab\"\n",
    "region = 'itc'\n",
    "\n",
    "info = pd.read_csv(f\"/Data/Fast/{monkey.capitalize()}/{region}NeuralInfo.csv\")\n",
    "\n",
    "data = []\n",
    "for row in info.iterrows():\n",
    "    data.append(read_neuron(row[1][0]))\n",
    "\n",
    "data = np.transpose(np.array(itc).squeeze(), [1, 0, 2])\n",
    "np.save(f\"G:/Data/Fast/Jenab/{region}.npy\", data)"
   ]
  },
  {
   "cell_type": "code",
   "execution_count": null,
   "id": "1a556935-421e-4a0b-a22d-22fd62b1a7e0",
   "metadata": {},
   "outputs": [],
   "source": [
    "info = pd.read_csv('/Data/Fast/Jenab/pfcNeuralInfo.csv')\n",
    "\n",
    "pfc = []\n",
    "for row in info.iterrows():\n",
    "    pfc.append(read_neuron(row[1][0]))\n",
    "\n",
    "pfc = np.transpose(np.array(pfc).squeeze(), [1, 0, 2])"
   ]
  },
  {
   "cell_type": "code",
   "execution_count": null,
   "id": "e96a9bb9",
   "metadata": {},
   "outputs": [],
   "source": [
    "np.save('G:/Data/Fast/Jenab/PFC.npy', pfc)"
   ]
  },
  {
   "cell_type": "code",
   "execution_count": null,
   "id": "3d6aa28f",
   "metadata": {},
   "outputs": [],
   "source": []
  },
  {
   "cell_type": "code",
   "execution_count": null,
   "id": "52a86b84",
   "metadata": {},
   "outputs": [],
   "source": [
    "time = np.arange(-200, 650) + 25\n",
    "vd = []\n",
    "for iit in range(itc.shape[1]):\n",
    "    vd.append(visual_drive(time, itc[:, iit, :]))\n",
    "vdIdx = (np.array(vd) > .6).flatten()\n",
    "\n",
    "split1 = np.load('G:/Data/Fast/Jenab/itc-half-split-1.npy')\n",
    "split2 = np.load('G:/Data/Fast/Jenab/itc-half-split-2.npy')\n",
    "\n",
    "time = np.arange(-200, 700)\n",
    "\n",
    "reliability = []\n",
    "for iit in range(split1.shape[1]):\n",
    "    try:\n",
    "        neuron_s1, neuron_s2 = split1[:, iit, :], split2[:, iit, :]\n",
    "        \n",
    "        r, p = pearsonr(neuron_s1[:, (time > 100) & (time < 150)].mean(1), \n",
    "                        neuron_s2[:, (time > 100) & (time < 150)].mean(1))\n",
    "        shtr = 2 * r / (1 + r)\n",
    "    except Exception as e:\n",
    "        print(e)\n",
    "        shtr = 0\n",
    "    reliability.append(shtr)\n",
    "\n",
    "shIdx = (np.array(reliability) > .1).flatten()\n",
    "\n",
    "np.save('G:/Data/Fast/Jenab/ITCS.npy', itc[:, vdIdx & shIdx, :])"
   ]
  },
  {
   "cell_type": "code",
   "execution_count": null,
   "id": "25a85855",
   "metadata": {},
   "outputs": [],
   "source": [
    "time = np.arange(-200, 650) + 25\n",
    "vd = []\n",
    "for ipfc in range(pfc.shape[1]):\n",
    "    vd.append(visual_drive(time, pfc[:, ipfc, :]))\n",
    "vdIdx = (np.array(vd) > .6).flatten()\n",
    "\n",
    "split1 = np.load('G:/Data/Fast/Jenab/pfc-half-split-1.npy')\n",
    "split2 = np.load('G:/Data/Fast/Jenab/pfc-half-split-2.npy')\n",
    "\n",
    "time = np.arange(-200, 700)\n",
    "\n",
    "reliability = []\n",
    "for ipfc in range(split1.shape[1]):\n",
    "    try:\n",
    "        neuron_s1, neuron_s2 = split1[:, ipfc, :], split2[:, ipfc, :]\n",
    "        \n",
    "        r, p = pearsonr(neuron_s1[:, (time > 100) & (time < 150)].mean(1), \n",
    "                        neuron_s2[:, (time > 100) & (time < 150)].mean(1))\n",
    "        shtr = 2 * r / (1 + r)\n",
    "    except Exception as e:\n",
    "        print(e)\n",
    "        shtr = 0\n",
    "    reliability.append(shtr)\n",
    "\n",
    "shIdx = (np.array(reliability) > .1).flatten()\n",
    "\n",
    "np.save('G:/Data/Fast/Jenab/PFCS.npy', pfc[:, vdIdx & shIdx, :])"
   ]
  },
  {
   "cell_type": "markdown",
   "id": "c418b488-3d98-4459-90ab-db4865121b30",
   "metadata": {
    "jp-MarkdownHeadingCollapsed": true,
    "tags": []
   },
   "source": [
    "# Zebel - Fast"
   ]
  },
  {
   "cell_type": "code",
   "execution_count": null,
   "id": "50717ba1-f04f-4742-8b57-7ef50b634f5e",
   "metadata": {},
   "outputs": [],
   "source": [
    "def read_neuron(path):    \n",
    "    cm = loadmat(os.path.join(os.path.dirname(path), 'cm.mat'))['cm']\n",
    "    nstim = np.unique(cm).max()\n",
    "    \n",
    "    nsample = 900\n",
    "    data = np.nan * np.zeros([nstim, 1, nsample])\n",
    "    \n",
    "    ua = loadmat(path)['ua']\n",
    "    cm = cm[:ua.shape[0]]\n",
    "    for istim in np.arange(1, nstim + 1, 1):\n",
    "        data[istim-1, 0, :] = ua[(cm == istim).squeeze(), :].mean(0)\n",
    "        \n",
    "    return movavg(data, 50, 1)"
   ]
  },
  {
   "cell_type": "code",
   "execution_count": null,
   "id": "60ad8735-5f65-4287-aaa9-63df2b1ed201",
   "metadata": {},
   "outputs": [],
   "source": [
    "info = pd.read_csv('/Data/Fast/Zebel/itcNeuralInfo.csv')\n",
    "\n",
    "itc = []\n",
    "for row in info.iterrows():\n",
    "    itc.append(read_neuron(row[1][0]))\n",
    "\n",
    "itc = np.transpose(np.array(itc).squeeze(), [1, 0, 2])"
   ]
  },
  {
   "cell_type": "code",
   "execution_count": null,
   "id": "fb4636eb-af5a-4d1d-aae7-5ca17939e53e",
   "metadata": {},
   "outputs": [],
   "source": [
    "info = pd.read_csv('/Data/Fast/Zebel/pfcNeuralInfo.csv')\n",
    "\n",
    "pfc = []\n",
    "for row in info.iterrows():\n",
    "    pfc.append(read_neuron(row[1][0]))\n",
    "\n",
    "pfc = np.transpose(np.array(pfc).squeeze(), [1, 0, 2])"
   ]
  },
  {
   "cell_type": "code",
   "execution_count": null,
   "id": "04bb56f1-a8fc-424e-8392-fbb173239b39",
   "metadata": {},
   "outputs": [],
   "source": [
    "np.save('G:/Data/Fast/Zebel/ITC.npy', itc)\n",
    "np.save('G:/Data/Fast/Zebel/PFC.npy', pfc)"
   ]
  },
  {
   "cell_type": "code",
   "execution_count": null,
   "id": "ce0b0884",
   "metadata": {},
   "outputs": [],
   "source": [
    "def visual_drive(time, neuron):\n",
    "    gray   = neuron[:, (time < 0) & (time > -50)].mean(1)\n",
    "    images = neuron[:, (time > 150) & (time < 200)].mean(1)\n",
    "    sigma_images = images.std()\n",
    "    sigma_gray   = gray.std()\n",
    "\n",
    "    dprime = (images.mean() - gray.mean()) / np.sqrt(0.5 * (sigma_gray ** 2 + sigma_images ** 2))\n",
    "    return dprime"
   ]
  },
  {
   "cell_type": "code",
   "execution_count": null,
   "id": "0c63fb46",
   "metadata": {},
   "outputs": [],
   "source": []
  },
  {
   "cell_type": "code",
   "execution_count": null,
   "id": "f28344e5",
   "metadata": {},
   "outputs": [],
   "source": []
  },
  {
   "cell_type": "code",
   "execution_count": null,
   "id": "b666001c",
   "metadata": {},
   "outputs": [],
   "source": []
  },
  {
   "cell_type": "code",
   "execution_count": null,
   "id": "46749fa2",
   "metadata": {},
   "outputs": [],
   "source": []
  },
  {
   "cell_type": "code",
   "execution_count": null,
   "id": "ebaf53ea",
   "metadata": {},
   "outputs": [],
   "source": []
  },
  {
   "cell_type": "markdown",
   "id": "8cbb863e-8197-40d9-b684-c70b1046e272",
   "metadata": {
    "jp-MarkdownHeadingCollapsed": true,
    "tags": []
   },
   "source": [
    "# Both - Fast"
   ]
  },
  {
   "cell_type": "code",
   "execution_count": null,
   "id": "3e4e1879-8d20-47f3-84de-2ff2b705b6e0",
   "metadata": {},
   "outputs": [],
   "source": [
    "itc_z = np.load('G:/Data/Fast/Zebel/ITC.npy')\n",
    "itc_j = np.load('G:/Data/Fast/Jenab/ITC.npy')\n",
    "itc_z = itc_z[:itc_j.shape[0], :, :]\n",
    "\n",
    "itc = np.concatenate([itc_z, itc_j], axis=1)\n",
    "\n",
    "np.save('G:/Data/Fast/Both/ITC.npy', itc)"
   ]
  },
  {
   "cell_type": "code",
   "execution_count": null,
   "id": "51cbc43b-3cca-454d-970e-384a4e5bd9a1",
   "metadata": {},
   "outputs": [],
   "source": [
    "pfc_z = np.load('G:/Data/Fast/Zebel/PFC.npy')\n",
    "pfc_j = np.load('G:/Data/Fast/Jenab/PFC.npy')\n",
    "pfc_z = pfc_z[:pfc_j.shape[0], :, :]\n",
    "\n",
    "pfc = np.concatenate([pfc_z, pfc_j], axis=1)\n",
    "\n",
    "np.save('G:/Data/Fast/Both/PFC.npy', pfc)"
   ]
  },
  {
   "cell_type": "markdown",
   "id": "96594463-296a-4226-af8e-76a3242e690d",
   "metadata": {
    "jp-MarkdownHeadingCollapsed": true,
    "tags": []
   },
   "source": [
    "# Jenab - Slow"
   ]
  },
  {
   "cell_type": "code",
   "execution_count": null,
   "id": "4a2baa60-66c1-41a6-bf41-609795800cfd",
   "metadata": {},
   "outputs": [],
   "source": [
    "def read_neuron(path):    \n",
    "    cm = loadmat(os.path.join(os.path.dirname(path), 'cm.mat'))['cm']\n",
    "    nstim = np.unique(cm).max()\n",
    "    \n",
    "    nsample = 1200\n",
    "    data = np.nan * np.zeros([nstim, 1, nsample])\n",
    "    \n",
    "    ua = loadmat(path)['ua']\n",
    "    cm = cm[:ua.shape[0]]\n",
    "    for istim in np.arange(1, nstim + 1, 1):\n",
    "        data[istim-1, 0, :] = ua[(cm == istim).squeeze(), :].mean(0)\n",
    "        \n",
    "    return movavg(data, 50, 1)"
   ]
  },
  {
   "cell_type": "code",
   "execution_count": null,
   "id": "44a40181-3f2e-4299-b284-12eabf11fecc",
   "metadata": {},
   "outputs": [],
   "source": [
    "info = pd.read_csv('/Data/Slow/Jenab/itcNeuralInfo.csv')\n",
    "itc = []\n",
    "for row in info.iterrows():\n",
    "    itc.append(read_neuron(row[1][0]))\n",
    "itc = np.transpose(np.array(itc).squeeze(), [1, 0, 2])\n",
    "\n",
    "info = pd.read_csv('/Data/Slow/Jenab/pfcNeuralInfo.csv')\n",
    "pfc = []\n",
    "for row in info.iterrows():\n",
    "    pfc.append(read_neuron(row[1][0]))\n",
    "pfc = np.transpose(np.array(pfc).squeeze(), [1, 0, 2])"
   ]
  },
  {
   "cell_type": "code",
   "execution_count": null,
   "id": "d691e0f3-9255-4727-8a00-904c112db499",
   "metadata": {},
   "outputs": [],
   "source": [
    "np.save('G:/Data/Slow/Jenab/ITC.npy', itc)\n",
    "np.save('G:/Data/Slow/Jenab/PFC.npy', pfc)"
   ]
  },
  {
   "cell_type": "markdown",
   "id": "bcc489af-5978-4f95-ad56-10864a08e3b4",
   "metadata": {
    "jp-MarkdownHeadingCollapsed": true,
    "tags": []
   },
   "source": [
    "# Zebel - Slow"
   ]
  },
  {
   "cell_type": "code",
   "execution_count": null,
   "id": "73aae9ca-8331-4a94-a6b5-483bcc0eb930",
   "metadata": {},
   "outputs": [],
   "source": [
    "def read_neuron(path):    \n",
    "    cm = loadmat(os.path.join(os.path.dirname(path), 'cm.mat'))['cm']\n",
    "    nstim = np.unique(cm).max()\n",
    "    \n",
    "    nsample = 1200\n",
    "    data = np.nan * np.zeros([nstim, 1, nsample])\n",
    "    \n",
    "    ua = loadmat(path)['ua']\n",
    "    cm = cm[:ua.shape[0]]\n",
    "    for istim in np.arange(1, nstim + 1, 1):\n",
    "        data[istim-1, 0, :] = ua[(cm == istim).squeeze(), :].mean(0)\n",
    "        \n",
    "    return movavg(data, 50, 1)"
   ]
  },
  {
   "cell_type": "code",
   "execution_count": null,
   "id": "fc4ebdc9-82c3-4908-b8f8-92a9ff5a6fd9",
   "metadata": {},
   "outputs": [],
   "source": [
    "info = pd.read_csv('/Data/Slow/Zebel/itcNeuralInfo.csv')\n",
    "itc = []\n",
    "for row in info.iterrows():\n",
    "    itc.append(read_neuron(row[1][0]))\n",
    "itc = np.transpose(np.array(itc).squeeze(), [1, 0, 2])\n",
    "\n",
    "info = pd.read_csv('/Data/Slow/Zebel/pfcNeuralInfo.csv')\n",
    "pfc = []\n",
    "for row in info.iterrows():\n",
    "    pfc.append(read_neuron(row[1][0]))\n",
    "pfc = np.transpose(np.array(pfc).squeeze(), [1, 0, 2])"
   ]
  },
  {
   "cell_type": "code",
   "execution_count": null,
   "id": "50991bef-a73a-4930-a2ca-e01660b04121",
   "metadata": {},
   "outputs": [],
   "source": [
    "np.save('G:/Data/Slow/Zebel/ITC.npy', itc)\n",
    "np.save('G:/Data/Slow/Zebel/PFC.npy', pfc)"
   ]
  },
  {
   "cell_type": "markdown",
   "id": "9a688c11-e783-4d8d-9ad7-e2bd9af2097c",
   "metadata": {
    "jp-MarkdownHeadingCollapsed": true,
    "tags": []
   },
   "source": [
    "# Both - Slow"
   ]
  },
  {
   "cell_type": "code",
   "execution_count": null,
   "id": "e717e931-e11f-4e50-8c2c-204a7c283084",
   "metadata": {},
   "outputs": [],
   "source": [
    "itc_z = np.load('G:/Data/Slow/Zebel/ITC.npy')\n",
    "itc_j = np.load('G:/Data/Slow/Jenab/ITC.npy')\n",
    "itc_z = itc_z[:itc_j.shape[0], :, :]\n",
    "\n",
    "itc = np.concatenate([itc_z, itc_j], axis=1)\n",
    "\n",
    "np.save('G:/Data/Slow/Both/ITC.npy', itc)"
   ]
  },
  {
   "cell_type": "code",
   "execution_count": null,
   "id": "9de1e634-f6eb-4b6d-9c36-f11b3b672d44",
   "metadata": {},
   "outputs": [],
   "source": [
    "pfc_z = np.load('G:/Data/Slow/Zebel/PFC.npy')\n",
    "pfc_j = np.load('G:/Data/Slow/Jenab/PFC.npy')\n",
    "pfc_z = pfc_z[:pfc_j.shape[0], :, :]\n",
    "\n",
    "pfc = np.concatenate([pfc_z, pfc_j], axis=1)\n",
    "\n",
    "np.save('G:/Data/Slow/Both/PFC.npy', pfc)"
   ]
  },
  {
   "cell_type": "markdown",
   "id": "b6e60d5b-cd81-416b-bf83-ca7303e31c14",
   "metadata": {
    "jp-MarkdownHeadingCollapsed": true,
    "tags": []
   },
   "source": [
    "# Zebel - Pair"
   ]
  },
  {
   "cell_type": "code",
   "execution_count": null,
   "id": "870f6305-96ba-4a11-a8b9-38a527e8ccbb",
   "metadata": {},
   "outputs": [],
   "source": [
    "def read_session(path):\n",
    "    fpath = os.path.join(path, 'Trial')\n",
    "    \n",
    "    cm = loadmat(os.path.join(fpath, 'cm.mat'))['cm']\n",
    "    nstim = np.unique(cm).max()\n",
    "    \n",
    "    nsample = loadmat(os.path.join(fpath, 'mu_it.mat'))['ua'].shape[1]\n",
    "    it = np.nan * np.zeros([nstim, len(list(glob.iglob(f'{fpath}/*_it*.mat'))), nsample])\n",
    "    \n",
    "    for i, u in enumerate(glob.iglob(f'{fpath}/*_it*.mat')):\n",
    "        ua = loadmat(u)['ua']\n",
    "        cm = cm[:ua.shape[0]]\n",
    "        for istim in np.arange(1, nstim + 1, 1):\n",
    "            it[istim-1, i, :] = ua[(cm == istim).squeeze(), :].mean(0)\n",
    "\n",
    "    pfc = np.nan * np.zeros([nstim, len(list(glob.iglob(f'{fpath}/*pfc*.mat'))), nsample])\n",
    "    for i, u in enumerate(glob.iglob(f'{fpath}/*pfc*.mat')):\n",
    "        ua = loadmat(u)['ua']\n",
    "        cm = cm[:ua.shape[0]]\n",
    "        for istim in np.arange(1, nstim + 1, 1):\n",
    "            pfc[istim-1, i, :] = ua[(cm == istim).squeeze(), :].mean(0)\n",
    "        \n",
    "    return cm, movavg(it, 50, 1), movavg(pfc, 50, 1)"
   ]
  },
  {
   "cell_type": "code",
   "execution_count": null,
   "id": "bf7b2aee-cb96-4d66-83f5-dbd419ae3d4c",
   "metadata": {},
   "outputs": [],
   "source": [
    "monkey = \"Zebel\"\n",
    "it, pfc = [], []\n",
    "for r in info.iterrows():\n",
    "    cm, it_, pfc_ = read_session(os.path.join(f\"G:/Data/Slow/{monkey}\", r[1][0]))\n",
    "    it.append(it_)\n",
    "    pfc.append(pfc_)\n",
    "\n",
    "it = np.concatenate(it, axis=1)\n",
    "pfc = np.concatenate(pfc, axis=1)\n",
    "\n",
    "slow = {'it': it, 'pfc': pfc}\n",
    "\n",
    "it, pfc = [], []\n",
    "for r in info.iterrows():\n",
    "    cm, it_, pfc_ = read_session(os.path.join(f\"G:/Data/Fast/{monkey}\", r[1][1]))\n",
    "    it.append(it_)\n",
    "    pfc.append(pfc_)\n",
    "\n",
    "it = np.concatenate(it, axis=1)\n",
    "pfc = np.concatenate(pfc, axis=1)\n",
    "\n",
    "fast = {'it': it, 'pfc': pfc}"
   ]
  },
  {
   "cell_type": "code",
   "execution_count": null,
   "id": "1aa8c53a-d5e1-44d0-9f22-8d676618399f",
   "metadata": {},
   "outputs": [],
   "source": [
    "np.save('G:/Data/Paired/Zebel/slow-it.npy', slow['it'])\n",
    "np.save('G:/Data/Paired/Zebel/fast-it.npy', fast['it'])\n",
    "np.save('G:/Data/Paired/Zebel/slow-pfc.npy', slow['pfc'])\n",
    "np.save('G:/Data/Paired/Zebel/fast-pfc.npy', fast['pfc'])"
   ]
  }
 ],
 "metadata": {
  "kernelspec": {
   "display_name": "Python 3.8.12 ('ipm')",
   "language": "python",
   "name": "python3"
  },
  "language_info": {
   "codemirror_mode": {
    "name": "ipython",
    "version": 3
   },
   "file_extension": ".py",
   "mimetype": "text/x-python",
   "name": "python",
   "nbconvert_exporter": "python",
   "pygments_lexer": "ipython3",
   "version": "3.8.12"
  },
  "vscode": {
   "interpreter": {
    "hash": "dda83d13db9bd4f7e861241b49178a983af21559d6d065c8fa5d96bc0691cfcb"
   }
  }
 },
 "nbformat": 4,
 "nbformat_minor": 5
}
