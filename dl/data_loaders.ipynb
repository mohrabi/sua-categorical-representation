{
 "cells": [
  {
   "cell_type": "code",
   "execution_count": 2,
   "id": "52053c75-c922-4b20-9ab8-6c3288dee597",
   "metadata": {},
   "outputs": [
    {
     "ename": "FileNotFoundError",
     "evalue": "[Errno 2] No such file or directory: 'G:/Data/Supplementaries/zebel-paired.csv'",
     "output_type": "error",
     "traceback": [
      "\u001b[1;31m---------------------------------------------------------------------------\u001b[0m",
      "\u001b[1;31mFileNotFoundError\u001b[0m                         Traceback (most recent call last)",
      "\u001b[1;32m~\\AppData\\Local\\Temp/ipykernel_336/2983990759.py\u001b[0m in \u001b[0;36m<module>\u001b[1;34m\u001b[0m\n\u001b[0;32m      6\u001b[0m \u001b[1;32mfrom\u001b[0m \u001b[0mmatplotlib\u001b[0m \u001b[1;32mimport\u001b[0m \u001b[0mpyplot\u001b[0m \u001b[1;32mas\u001b[0m \u001b[0mplt\u001b[0m\u001b[1;33m\u001b[0m\u001b[1;33m\u001b[0m\u001b[0m\n\u001b[0;32m      7\u001b[0m \u001b[1;33m\u001b[0m\u001b[0m\n\u001b[1;32m----> 8\u001b[1;33m \u001b[0minfo\u001b[0m \u001b[1;33m=\u001b[0m \u001b[0mpd\u001b[0m\u001b[1;33m.\u001b[0m\u001b[0mread_csv\u001b[0m\u001b[1;33m(\u001b[0m\u001b[1;34m\"G:/Data/Supplementaries/zebel-paired.csv\"\u001b[0m\u001b[1;33m)\u001b[0m\u001b[1;33m\u001b[0m\u001b[1;33m\u001b[0m\u001b[0m\n\u001b[0m",
      "\u001b[1;32m~\\anaconda3\\envs\\ipm\\lib\\site-packages\\pandas\\util\\_decorators.py\u001b[0m in \u001b[0;36mwrapper\u001b[1;34m(*args, **kwargs)\u001b[0m\n\u001b[0;32m    309\u001b[0m                     \u001b[0mstacklevel\u001b[0m\u001b[1;33m=\u001b[0m\u001b[0mstacklevel\u001b[0m\u001b[1;33m,\u001b[0m\u001b[1;33m\u001b[0m\u001b[1;33m\u001b[0m\u001b[0m\n\u001b[0;32m    310\u001b[0m                 )\n\u001b[1;32m--> 311\u001b[1;33m             \u001b[1;32mreturn\u001b[0m \u001b[0mfunc\u001b[0m\u001b[1;33m(\u001b[0m\u001b[1;33m*\u001b[0m\u001b[0margs\u001b[0m\u001b[1;33m,\u001b[0m \u001b[1;33m**\u001b[0m\u001b[0mkwargs\u001b[0m\u001b[1;33m)\u001b[0m\u001b[1;33m\u001b[0m\u001b[1;33m\u001b[0m\u001b[0m\n\u001b[0m\u001b[0;32m    312\u001b[0m \u001b[1;33m\u001b[0m\u001b[0m\n\u001b[0;32m    313\u001b[0m         \u001b[1;32mreturn\u001b[0m \u001b[0mwrapper\u001b[0m\u001b[1;33m\u001b[0m\u001b[1;33m\u001b[0m\u001b[0m\n",
      "\u001b[1;32m~\\anaconda3\\envs\\ipm\\lib\\site-packages\\pandas\\io\\parsers\\readers.py\u001b[0m in \u001b[0;36mread_csv\u001b[1;34m(filepath_or_buffer, sep, delimiter, header, names, index_col, usecols, squeeze, prefix, mangle_dupe_cols, dtype, engine, converters, true_values, false_values, skipinitialspace, skiprows, skipfooter, nrows, na_values, keep_default_na, na_filter, verbose, skip_blank_lines, parse_dates, infer_datetime_format, keep_date_col, date_parser, dayfirst, cache_dates, iterator, chunksize, compression, thousands, decimal, lineterminator, quotechar, quoting, doublequote, escapechar, comment, encoding, encoding_errors, dialect, error_bad_lines, warn_bad_lines, on_bad_lines, delim_whitespace, low_memory, memory_map, float_precision, storage_options)\u001b[0m\n\u001b[0;32m    678\u001b[0m     \u001b[0mkwds\u001b[0m\u001b[1;33m.\u001b[0m\u001b[0mupdate\u001b[0m\u001b[1;33m(\u001b[0m\u001b[0mkwds_defaults\u001b[0m\u001b[1;33m)\u001b[0m\u001b[1;33m\u001b[0m\u001b[1;33m\u001b[0m\u001b[0m\n\u001b[0;32m    679\u001b[0m \u001b[1;33m\u001b[0m\u001b[0m\n\u001b[1;32m--> 680\u001b[1;33m     \u001b[1;32mreturn\u001b[0m \u001b[0m_read\u001b[0m\u001b[1;33m(\u001b[0m\u001b[0mfilepath_or_buffer\u001b[0m\u001b[1;33m,\u001b[0m \u001b[0mkwds\u001b[0m\u001b[1;33m)\u001b[0m\u001b[1;33m\u001b[0m\u001b[1;33m\u001b[0m\u001b[0m\n\u001b[0m\u001b[0;32m    681\u001b[0m \u001b[1;33m\u001b[0m\u001b[0m\n\u001b[0;32m    682\u001b[0m \u001b[1;33m\u001b[0m\u001b[0m\n",
      "\u001b[1;32m~\\anaconda3\\envs\\ipm\\lib\\site-packages\\pandas\\io\\parsers\\readers.py\u001b[0m in \u001b[0;36m_read\u001b[1;34m(filepath_or_buffer, kwds)\u001b[0m\n\u001b[0;32m    573\u001b[0m \u001b[1;33m\u001b[0m\u001b[0m\n\u001b[0;32m    574\u001b[0m     \u001b[1;31m# Create the parser.\u001b[0m\u001b[1;33m\u001b[0m\u001b[1;33m\u001b[0m\u001b[1;33m\u001b[0m\u001b[0m\n\u001b[1;32m--> 575\u001b[1;33m     \u001b[0mparser\u001b[0m \u001b[1;33m=\u001b[0m \u001b[0mTextFileReader\u001b[0m\u001b[1;33m(\u001b[0m\u001b[0mfilepath_or_buffer\u001b[0m\u001b[1;33m,\u001b[0m \u001b[1;33m**\u001b[0m\u001b[0mkwds\u001b[0m\u001b[1;33m)\u001b[0m\u001b[1;33m\u001b[0m\u001b[1;33m\u001b[0m\u001b[0m\n\u001b[0m\u001b[0;32m    576\u001b[0m \u001b[1;33m\u001b[0m\u001b[0m\n\u001b[0;32m    577\u001b[0m     \u001b[1;32mif\u001b[0m \u001b[0mchunksize\u001b[0m \u001b[1;32mor\u001b[0m \u001b[0miterator\u001b[0m\u001b[1;33m:\u001b[0m\u001b[1;33m\u001b[0m\u001b[1;33m\u001b[0m\u001b[0m\n",
      "\u001b[1;32m~\\anaconda3\\envs\\ipm\\lib\\site-packages\\pandas\\io\\parsers\\readers.py\u001b[0m in \u001b[0;36m__init__\u001b[1;34m(self, f, engine, **kwds)\u001b[0m\n\u001b[0;32m    931\u001b[0m \u001b[1;33m\u001b[0m\u001b[0m\n\u001b[0;32m    932\u001b[0m         \u001b[0mself\u001b[0m\u001b[1;33m.\u001b[0m\u001b[0mhandles\u001b[0m\u001b[1;33m:\u001b[0m \u001b[0mIOHandles\u001b[0m \u001b[1;33m|\u001b[0m \u001b[1;32mNone\u001b[0m \u001b[1;33m=\u001b[0m \u001b[1;32mNone\u001b[0m\u001b[1;33m\u001b[0m\u001b[1;33m\u001b[0m\u001b[0m\n\u001b[1;32m--> 933\u001b[1;33m         \u001b[0mself\u001b[0m\u001b[1;33m.\u001b[0m\u001b[0m_engine\u001b[0m \u001b[1;33m=\u001b[0m \u001b[0mself\u001b[0m\u001b[1;33m.\u001b[0m\u001b[0m_make_engine\u001b[0m\u001b[1;33m(\u001b[0m\u001b[0mf\u001b[0m\u001b[1;33m,\u001b[0m \u001b[0mself\u001b[0m\u001b[1;33m.\u001b[0m\u001b[0mengine\u001b[0m\u001b[1;33m)\u001b[0m\u001b[1;33m\u001b[0m\u001b[1;33m\u001b[0m\u001b[0m\n\u001b[0m\u001b[0;32m    934\u001b[0m \u001b[1;33m\u001b[0m\u001b[0m\n\u001b[0;32m    935\u001b[0m     \u001b[1;32mdef\u001b[0m \u001b[0mclose\u001b[0m\u001b[1;33m(\u001b[0m\u001b[0mself\u001b[0m\u001b[1;33m)\u001b[0m\u001b[1;33m:\u001b[0m\u001b[1;33m\u001b[0m\u001b[1;33m\u001b[0m\u001b[0m\n",
      "\u001b[1;32m~\\anaconda3\\envs\\ipm\\lib\\site-packages\\pandas\\io\\parsers\\readers.py\u001b[0m in \u001b[0;36m_make_engine\u001b[1;34m(self, f, engine)\u001b[0m\n\u001b[0;32m   1215\u001b[0m             \u001b[1;31m# \"Union[str, PathLike[str], ReadCsvBuffer[bytes], ReadCsvBuffer[str]]\"\u001b[0m\u001b[1;33m\u001b[0m\u001b[1;33m\u001b[0m\u001b[1;33m\u001b[0m\u001b[0m\n\u001b[0;32m   1216\u001b[0m             \u001b[1;31m# , \"str\", \"bool\", \"Any\", \"Any\", \"Any\", \"Any\", \"Any\"\u001b[0m\u001b[1;33m\u001b[0m\u001b[1;33m\u001b[0m\u001b[1;33m\u001b[0m\u001b[0m\n\u001b[1;32m-> 1217\u001b[1;33m             self.handles = get_handle(  # type: ignore[call-overload]\n\u001b[0m\u001b[0;32m   1218\u001b[0m                 \u001b[0mf\u001b[0m\u001b[1;33m,\u001b[0m\u001b[1;33m\u001b[0m\u001b[1;33m\u001b[0m\u001b[0m\n\u001b[0;32m   1219\u001b[0m                 \u001b[0mmode\u001b[0m\u001b[1;33m,\u001b[0m\u001b[1;33m\u001b[0m\u001b[1;33m\u001b[0m\u001b[0m\n",
      "\u001b[1;32m~\\anaconda3\\envs\\ipm\\lib\\site-packages\\pandas\\io\\common.py\u001b[0m in \u001b[0;36mget_handle\u001b[1;34m(path_or_buf, mode, encoding, compression, memory_map, is_text, errors, storage_options)\u001b[0m\n\u001b[0;32m    787\u001b[0m         \u001b[1;32mif\u001b[0m \u001b[0mioargs\u001b[0m\u001b[1;33m.\u001b[0m\u001b[0mencoding\u001b[0m \u001b[1;32mand\u001b[0m \u001b[1;34m\"b\"\u001b[0m \u001b[1;32mnot\u001b[0m \u001b[1;32min\u001b[0m \u001b[0mioargs\u001b[0m\u001b[1;33m.\u001b[0m\u001b[0mmode\u001b[0m\u001b[1;33m:\u001b[0m\u001b[1;33m\u001b[0m\u001b[1;33m\u001b[0m\u001b[0m\n\u001b[0;32m    788\u001b[0m             \u001b[1;31m# Encoding\u001b[0m\u001b[1;33m\u001b[0m\u001b[1;33m\u001b[0m\u001b[1;33m\u001b[0m\u001b[0m\n\u001b[1;32m--> 789\u001b[1;33m             handle = open(\n\u001b[0m\u001b[0;32m    790\u001b[0m                 \u001b[0mhandle\u001b[0m\u001b[1;33m,\u001b[0m\u001b[1;33m\u001b[0m\u001b[1;33m\u001b[0m\u001b[0m\n\u001b[0;32m    791\u001b[0m                 \u001b[0mioargs\u001b[0m\u001b[1;33m.\u001b[0m\u001b[0mmode\u001b[0m\u001b[1;33m,\u001b[0m\u001b[1;33m\u001b[0m\u001b[1;33m\u001b[0m\u001b[0m\n",
      "\u001b[1;31mFileNotFoundError\u001b[0m: [Errno 2] No such file or directory: 'G:/Data/Supplementaries/zebel-paired.csv'"
     ]
    }
   ],
   "source": [
    "import os\n",
    "import glob\n",
    "import numpy as np\n",
    "import pandas as pd\n",
    "from scipy.io import loadmat\n",
    "from matplotlib import pyplot as plt\n",
    "\n",
    "info = pd.read_csv(\"G:/Data/Supplementaries/zebel-paired.csv\")"
   ]
  },
  {
   "cell_type": "code",
   "execution_count": 2,
   "id": "8beee6a7-21d5-4644-8e10-801be06f3aaf",
   "metadata": {},
   "outputs": [],
   "source": [
    "def movavg(inp, bl, ss):\n",
    "    nbin = int(np.floor((inp.shape[2] - bl) / ss))\n",
    "    out = np.nan * np.zeros((inp.shape[0], inp.shape[1], nbin))\n",
    "    for ibin in range(nbin):\n",
    "        out[:, :, ibin] = np.sum(inp[:, :, int(ibin*ss):int(ibin*ss)+bl], 2) / bl * 1000\n",
    "    return out"
   ]
  },
  {
   "cell_type": "markdown",
   "id": "f28dba74-658c-4e21-82b2-97b0a5bf1bea",
   "metadata": {},
   "source": [
    "# Split Half Data"
   ]
  },
  {
   "cell_type": "code",
   "execution_count": 28,
   "id": "d3ee3613-ce22-48fa-a82c-db0811eb5219",
   "metadata": {},
   "outputs": [],
   "source": [
    "def read_neuron(path):\n",
    "    cm = loadmat(os.path.join(os.path.dirname(path), 'cm.mat'))['cm']\n",
    "    nstim = np.unique(cm).max()\n",
    "    \n",
    "    nsample = 900\n",
    "    data = np.nan * np.zeros([nstim, 1, nsample])\n",
    "    \n",
    "    ua = loadmat(path)['ua']\n",
    "    cm = cm[:ua.shape[0]]\n",
    "    \n",
    "    split_1, split_2 = [], []\n",
    "    for istim in np.arange(1, 166):\n",
    "        X = ua[(cm==istim).flatten(), :]\n",
    "        nrep = X.shape[0]\n",
    "        \n",
    "        first_half = X[:int(nrep/2), :]\n",
    "        second_half = X[int(nrep/2):, :]\n",
    "\n",
    "        split_1.append(first_half.mean(0))\n",
    "        split_2.append(second_half.mean(0))\n",
    "    \n",
    "    if nrep < 3:\n",
    "        print(path)\n",
    "    return np.array(split_1), np.array(split_2)"
   ]
  },
  {
   "cell_type": "code",
   "execution_count": 37,
   "id": "c142c3c9-6c13-493c-8415-5a1494930b11",
   "metadata": {},
   "outputs": [
    {
     "name": "stderr",
     "output_type": "stream",
     "text": [
      "C:\\Users\\User\\AppData\\Local\\Temp/ipykernel_336/1769340678.py:19: RuntimeWarning: Mean of empty slice.\n",
      "  split_1.append(first_half.mean(0))\n",
      "C:\\Users\\User\\anaconda3\\envs\\ipm\\lib\\site-packages\\numpy\\core\\_methods.py:181: RuntimeWarning: invalid value encountered in true_divide\n",
      "  ret = um.true_divide(\n"
     ]
    },
    {
     "name": "stdout",
     "output_type": "stream",
     "text": [
      "G:\\Data\\Fast\\Jenab\\2017-10-17_12-16\\Trial\\mu_it.mat\n"
     ]
    }
   ],
   "source": [
    "monkey = \"jenab\"\n",
    "select = \"fast\"\n",
    "\n",
    "info = pd.read_csv(f'/Data/{select.capitalize()}/{monkey.capitalize()}/itcNeuralInfo.csv')\n",
    "\n",
    "split1, split2 = [], []\n",
    "for row in info.iterrows():\n",
    "    spl1, spl2 = read_neuron(row[1][0])\n",
    "    split1.append(spl1)\n",
    "    split2.append(spl2)\n",
    "\n",
    "split1 = np.transpose(split1, [1, 0, 2])\n",
    "split2 = np.transpose(split2, [1, 0, 2])"
   ]
  },
  {
   "cell_type": "code",
   "execution_count": 38,
   "id": "49148128-0df5-434e-8a9a-a0e5e7d90a25",
   "metadata": {},
   "outputs": [],
   "source": [
    "np.save('G:/Data/Fast/Jenab/itc-half-split-1.npy', split1)\n",
    "np.save('G:/Data/Fast/Jenab/itc-half-split-2.npy', split2)"
   ]
  },
  {
   "cell_type": "markdown",
   "id": "a2622b78-e60c-4551-aeb4-64ad0139995f",
   "metadata": {
    "tags": []
   },
   "source": [
    "# Jenab - Fast"
   ]
  },
  {
   "cell_type": "code",
   "execution_count": 24,
   "id": "acb7e2da-6741-4e6f-b428-d6cb03b288b7",
   "metadata": {},
   "outputs": [],
   "source": [
    "def read_neuron(path):    \n",
    "    cm = loadmat(os.path.join(os.path.dirname(path), 'cm.mat'))['cm']\n",
    "    nstim = np.unique(cm).max()\n",
    "    \n",
    "    nsample = 900\n",
    "    data = np.nan * np.zeros([nstim, 1, nsample])\n",
    "    \n",
    "    ua = loadmat(path)['ua']\n",
    "    cm = cm[:ua.shape[0]]\n",
    "    for istim in np.arange(1, nstim + 1, 1):\n",
    "        data[istim-1, 0, :] = ua[(cm == istim).squeeze(), :].mean(0)\n",
    "        \n",
    "    return movavg(data, 50, 1)"
   ]
  },
  {
   "cell_type": "code",
   "execution_count": 38,
   "id": "b41c2eae-4878-4c7a-b8c5-14fbb91ad002",
   "metadata": {},
   "outputs": [],
   "source": [
    "info = pd.read_csv('/Data/Fast/Jenab/itcNeuralInfo.csv')\n",
    "\n",
    "itc = []\n",
    "for row in info.iterrows():\n",
    "    itc.append(read_neuron(row[1][0]))\n",
    "\n",
    "itc = np.transpose(np.array(itc).squeeze(), [1, 0, 2])"
   ]
  },
  {
   "cell_type": "code",
   "execution_count": 39,
   "id": "1a556935-421e-4a0b-a22d-22fd62b1a7e0",
   "metadata": {},
   "outputs": [],
   "source": [
    "info = pd.read_csv('/Data/Fast/Jenab/pfcNeuralInfo.csv')\n",
    "\n",
    "pfc = []\n",
    "for row in info.iterrows():\n",
    "    pfc.append(read_neuron(row[1][0]))\n",
    "\n",
    "pfc = np.transpose(np.array(pfc).squeeze(), [1, 0, 2])"
   ]
  },
  {
   "cell_type": "code",
   "execution_count": 42,
   "id": "f1bf9049-f0d7-4919-98d3-c7cdb0b1f34a",
   "metadata": {},
   "outputs": [],
   "source": [
    "np.save('G:/Data/Fast/Jenab/ITC.npy', itc)\n",
    "np.save('G:/Data/Fast/Jenab/PFC.npy', pfc)"
   ]
  },
  {
   "cell_type": "markdown",
   "id": "c418b488-3d98-4459-90ab-db4865121b30",
   "metadata": {
    "jp-MarkdownHeadingCollapsed": true,
    "tags": []
   },
   "source": [
    "# Zebel - Fast"
   ]
  },
  {
   "cell_type": "code",
   "execution_count": 68,
   "id": "50717ba1-f04f-4742-8b57-7ef50b634f5e",
   "metadata": {},
   "outputs": [],
   "source": [
    "def read_neuron(path):    \n",
    "    cm = loadmat(os.path.join(os.path.dirname(path), 'cm.mat'))['cm']\n",
    "    nstim = np.unique(cm).max()\n",
    "    \n",
    "    nsample = 900\n",
    "    data = np.nan * np.zeros([nstim, 1, nsample])\n",
    "    \n",
    "    ua = loadmat(path)['ua']\n",
    "    cm = cm[:ua.shape[0]]\n",
    "    for istim in np.arange(1, nstim + 1, 1):\n",
    "        data[istim-1, 0, :] = ua[(cm == istim).squeeze(), :].mean(0)\n",
    "        \n",
    "    return movavg(data, 50, 1)"
   ]
  },
  {
   "cell_type": "code",
   "execution_count": 71,
   "id": "60ad8735-5f65-4287-aaa9-63df2b1ed201",
   "metadata": {},
   "outputs": [],
   "source": [
    "info = pd.read_csv('/Data/Fast/Zebel/itcNeuralInfo.csv')\n",
    "\n",
    "itc = []\n",
    "for row in info.iterrows():\n",
    "    itc.append(read_neuron(row[1][0]))\n",
    "\n",
    "itc = np.transpose(np.array(itc).squeeze(), [1, 0, 2])"
   ]
  },
  {
   "cell_type": "code",
   "execution_count": 70,
   "id": "fb4636eb-af5a-4d1d-aae7-5ca17939e53e",
   "metadata": {},
   "outputs": [],
   "source": [
    "info = pd.read_csv('/Data/Fast/Zebel/pfcNeuralInfo.csv')\n",
    "\n",
    "pfc = []\n",
    "for row in info.iterrows():\n",
    "    pfc.append(read_neuron(row[1][0]))\n",
    "\n",
    "pfc = np.transpose(np.array(pfc).squeeze(), [1, 0, 2])"
   ]
  },
  {
   "cell_type": "code",
   "execution_count": 72,
   "id": "04bb56f1-a8fc-424e-8392-fbb173239b39",
   "metadata": {},
   "outputs": [],
   "source": [
    "np.save('G:/Data/Fast/Zebel/ITC.npy', itc)\n",
    "np.save('G:/Data/Fast/Zebel/PFC.npy', pfc)"
   ]
  },
  {
   "cell_type": "markdown",
   "id": "8cbb863e-8197-40d9-b684-c70b1046e272",
   "metadata": {
    "jp-MarkdownHeadingCollapsed": true,
    "tags": []
   },
   "source": [
    "# Both - Fast"
   ]
  },
  {
   "cell_type": "code",
   "execution_count": 73,
   "id": "3e4e1879-8d20-47f3-84de-2ff2b705b6e0",
   "metadata": {},
   "outputs": [],
   "source": [
    "itc_z = np.load('G:/Data/Fast/Zebel/ITC.npy')\n",
    "itc_j = np.load('G:/Data/Fast/Jenab/ITC.npy')\n",
    "itc_z = itc_z[:itc_j.shape[0], :, :]\n",
    "\n",
    "itc = np.concatenate([itc_z, itc_j], axis=1)\n",
    "\n",
    "np.save('G:/Data/Fast/Both/ITC.npy', itc)"
   ]
  },
  {
   "cell_type": "code",
   "execution_count": 74,
   "id": "51cbc43b-3cca-454d-970e-384a4e5bd9a1",
   "metadata": {},
   "outputs": [],
   "source": [
    "pfc_z = np.load('G:/Data/Fast/Zebel/PFC.npy')\n",
    "pfc_j = np.load('G:/Data/Fast/Jenab/PFC.npy')\n",
    "pfc_z = pfc_z[:pfc_j.shape[0], :, :]\n",
    "\n",
    "pfc = np.concatenate([pfc_z, pfc_j], axis=1)\n",
    "\n",
    "np.save('G:/Data/Fast/Both/PFC.npy', pfc)"
   ]
  },
  {
   "cell_type": "markdown",
   "id": "96594463-296a-4226-af8e-76a3242e690d",
   "metadata": {
    "jp-MarkdownHeadingCollapsed": true,
    "tags": []
   },
   "source": [
    "# Jenab - Slow"
   ]
  },
  {
   "cell_type": "code",
   "execution_count": 45,
   "id": "4a2baa60-66c1-41a6-bf41-609795800cfd",
   "metadata": {},
   "outputs": [],
   "source": [
    "def read_neuron(path):    \n",
    "    cm = loadmat(os.path.join(os.path.dirname(path), 'cm.mat'))['cm']\n",
    "    nstim = np.unique(cm).max()\n",
    "    \n",
    "    nsample = 1200\n",
    "    data = np.nan * np.zeros([nstim, 1, nsample])\n",
    "    \n",
    "    ua = loadmat(path)['ua']\n",
    "    cm = cm[:ua.shape[0]]\n",
    "    for istim in np.arange(1, nstim + 1, 1):\n",
    "        data[istim-1, 0, :] = ua[(cm == istim).squeeze(), :].mean(0)\n",
    "        \n",
    "    return movavg(data, 50, 1)"
   ]
  },
  {
   "cell_type": "code",
   "execution_count": 46,
   "id": "44a40181-3f2e-4299-b284-12eabf11fecc",
   "metadata": {},
   "outputs": [],
   "source": [
    "info = pd.read_csv('/Data/Slow/Jenab/itcNeuralInfo.csv')\n",
    "itc = []\n",
    "for row in info.iterrows():\n",
    "    itc.append(read_neuron(row[1][0]))\n",
    "itc = np.transpose(np.array(itc).squeeze(), [1, 0, 2])\n",
    "\n",
    "info = pd.read_csv('/Data/Slow/Jenab/pfcNeuralInfo.csv')\n",
    "pfc = []\n",
    "for row in info.iterrows():\n",
    "    pfc.append(read_neuron(row[1][0]))\n",
    "pfc = np.transpose(np.array(pfc).squeeze(), [1, 0, 2])"
   ]
  },
  {
   "cell_type": "code",
   "execution_count": 47,
   "id": "d691e0f3-9255-4727-8a00-904c112db499",
   "metadata": {},
   "outputs": [],
   "source": [
    "np.save('G:/Data/Slow/Jenab/ITC.npy', itc)\n",
    "np.save('G:/Data/Slow/Jenab/PFC.npy', pfc)"
   ]
  },
  {
   "cell_type": "markdown",
   "id": "bcc489af-5978-4f95-ad56-10864a08e3b4",
   "metadata": {
    "jp-MarkdownHeadingCollapsed": true,
    "tags": []
   },
   "source": [
    "# Zebel - Slow"
   ]
  },
  {
   "cell_type": "code",
   "execution_count": 51,
   "id": "73aae9ca-8331-4a94-a6b5-483bcc0eb930",
   "metadata": {},
   "outputs": [],
   "source": [
    "def read_neuron(path):    \n",
    "    cm = loadmat(os.path.join(os.path.dirname(path), 'cm.mat'))['cm']\n",
    "    nstim = np.unique(cm).max()\n",
    "    \n",
    "    nsample = 1200\n",
    "    data = np.nan * np.zeros([nstim, 1, nsample])\n",
    "    \n",
    "    ua = loadmat(path)['ua']\n",
    "    cm = cm[:ua.shape[0]]\n",
    "    for istim in np.arange(1, nstim + 1, 1):\n",
    "        data[istim-1, 0, :] = ua[(cm == istim).squeeze(), :].mean(0)\n",
    "        \n",
    "    return movavg(data, 50, 1)"
   ]
  },
  {
   "cell_type": "code",
   "execution_count": 52,
   "id": "fc4ebdc9-82c3-4908-b8f8-92a9ff5a6fd9",
   "metadata": {},
   "outputs": [],
   "source": [
    "info = pd.read_csv('/Data/Slow/Zebel/itcNeuralInfo.csv')\n",
    "itc = []\n",
    "for row in info.iterrows():\n",
    "    itc.append(read_neuron(row[1][0]))\n",
    "itc = np.transpose(np.array(itc).squeeze(), [1, 0, 2])\n",
    "\n",
    "info = pd.read_csv('/Data/Slow/Zebel/pfcNeuralInfo.csv')\n",
    "pfc = []\n",
    "for row in info.iterrows():\n",
    "    pfc.append(read_neuron(row[1][0]))\n",
    "pfc = np.transpose(np.array(pfc).squeeze(), [1, 0, 2])"
   ]
  },
  {
   "cell_type": "code",
   "execution_count": 55,
   "id": "50991bef-a73a-4930-a2ca-e01660b04121",
   "metadata": {},
   "outputs": [],
   "source": [
    "np.save('G:/Data/Slow/Zebel/ITC.npy', itc)\n",
    "np.save('G:/Data/Slow/Zebel/PFC.npy', pfc)"
   ]
  },
  {
   "cell_type": "markdown",
   "id": "9a688c11-e783-4d8d-9ad7-e2bd9af2097c",
   "metadata": {
    "jp-MarkdownHeadingCollapsed": true,
    "tags": []
   },
   "source": [
    "# Both - Slow"
   ]
  },
  {
   "cell_type": "code",
   "execution_count": 64,
   "id": "e717e931-e11f-4e50-8c2c-204a7c283084",
   "metadata": {},
   "outputs": [],
   "source": [
    "itc_z = np.load('G:/Data/Slow/Zebel/ITC.npy')\n",
    "itc_j = np.load('G:/Data/Slow/Jenab/ITC.npy')\n",
    "itc_z = itc_z[:itc_j.shape[0], :, :]\n",
    "\n",
    "itc = np.concatenate([itc_z, itc_j], axis=1)\n",
    "\n",
    "np.save('G:/Data/Slow/Both/ITC.npy', itc)"
   ]
  },
  {
   "cell_type": "code",
   "execution_count": 67,
   "id": "9de1e634-f6eb-4b6d-9c36-f11b3b672d44",
   "metadata": {},
   "outputs": [],
   "source": [
    "pfc_z = np.load('G:/Data/Slow/Zebel/PFC.npy')\n",
    "pfc_j = np.load('G:/Data/Slow/Jenab/PFC.npy')\n",
    "pfc_z = pfc_z[:pfc_j.shape[0], :, :]\n",
    "\n",
    "pfc = np.concatenate([pfc_z, pfc_j], axis=1)\n",
    "\n",
    "np.save('G:/Data/Slow/Both/PFC.npy', pfc)"
   ]
  },
  {
   "cell_type": "markdown",
   "id": "b6e60d5b-cd81-416b-bf83-ca7303e31c14",
   "metadata": {
    "jp-MarkdownHeadingCollapsed": true,
    "tags": []
   },
   "source": [
    "# Zebel - Pair"
   ]
  },
  {
   "cell_type": "code",
   "execution_count": 3,
   "id": "870f6305-96ba-4a11-a8b9-38a527e8ccbb",
   "metadata": {},
   "outputs": [],
   "source": [
    "def read_session(path):\n",
    "    fpath = os.path.join(path, 'Trial')\n",
    "    \n",
    "    cm = loadmat(os.path.join(fpath, 'cm.mat'))['cm']\n",
    "    nstim = np.unique(cm).max()\n",
    "    \n",
    "    nsample = loadmat(os.path.join(fpath, 'mu_it.mat'))['ua'].shape[1]\n",
    "    it = np.nan * np.zeros([nstim, len(list(glob.iglob(f'{fpath}/*_it*.mat'))), nsample])\n",
    "    \n",
    "    for i, u in enumerate(glob.iglob(f'{fpath}/*_it*.mat')):\n",
    "        ua = loadmat(u)['ua']\n",
    "        cm = cm[:ua.shape[0]]\n",
    "        for istim in np.arange(1, nstim + 1, 1):\n",
    "            it[istim-1, i, :] = ua[(cm == istim).squeeze(), :].mean(0)\n",
    "\n",
    "    pfc = np.nan * np.zeros([nstim, len(list(glob.iglob(f'{fpath}/*pfc*.mat'))), nsample])\n",
    "    for i, u in enumerate(glob.iglob(f'{fpath}/*pfc*.mat')):\n",
    "        ua = loadmat(u)['ua']\n",
    "        cm = cm[:ua.shape[0]]\n",
    "        for istim in np.arange(1, nstim + 1, 1):\n",
    "            pfc[istim-1, i, :] = ua[(cm == istim).squeeze(), :].mean(0)\n",
    "        \n",
    "    return cm, movavg(it, 50, 1), movavg(pfc, 50, 1)"
   ]
  },
  {
   "cell_type": "code",
   "execution_count": 4,
   "id": "bf7b2aee-cb96-4d66-83f5-dbd419ae3d4c",
   "metadata": {},
   "outputs": [],
   "source": [
    "monkey = \"Zebel\"\n",
    "it, pfc = [], []\n",
    "for r in info.iterrows():\n",
    "    cm, it_, pfc_ = read_session(os.path.join(f\"G:/Data/Slow/{monkey}\", r[1][0]))\n",
    "    it.append(it_)\n",
    "    pfc.append(pfc_)\n",
    "\n",
    "it = np.concatenate(it, axis=1)\n",
    "pfc = np.concatenate(pfc, axis=1)\n",
    "\n",
    "slow = {'it': it, 'pfc': pfc}\n",
    "\n",
    "it, pfc = [], []\n",
    "for r in info.iterrows():\n",
    "    cm, it_, pfc_ = read_session(os.path.join(f\"G:/Data/Fast/{monkey}\", r[1][1]))\n",
    "    it.append(it_)\n",
    "    pfc.append(pfc_)\n",
    "\n",
    "it = np.concatenate(it, axis=1)\n",
    "pfc = np.concatenate(pfc, axis=1)\n",
    "\n",
    "fast = {'it': it, 'pfc': pfc}"
   ]
  },
  {
   "cell_type": "code",
   "execution_count": 5,
   "id": "1aa8c53a-d5e1-44d0-9f22-8d676618399f",
   "metadata": {},
   "outputs": [],
   "source": [
    "np.save('G:/Data/Paired/Zebel/slow-it.npy', slow['it'])\n",
    "np.save('G:/Data/Paired/Zebel/fast-it.npy', fast['it'])\n",
    "np.save('G:/Data/Paired/Zebel/slow-pfc.npy', slow['pfc'])\n",
    "np.save('G:/Data/Paired/Zebel/fast-pfc.npy', fast['pfc'])"
   ]
  }
 ],
 "metadata": {
  "kernelspec": {
   "display_name": "Python 3 (ipykernel)",
   "language": "python",
   "name": "python3"
  },
  "language_info": {
   "codemirror_mode": {
    "name": "ipython",
    "version": 3
   },
   "file_extension": ".py",
   "mimetype": "text/x-python",
   "name": "python",
   "nbconvert_exporter": "python",
   "pygments_lexer": "ipython3",
   "version": "3.8.12"
  }
 },
 "nbformat": 4,
 "nbformat_minor": 5
}
