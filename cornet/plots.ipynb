{
 "cells": [
  {
   "cell_type": "code",
   "execution_count": 1,
   "metadata": {},
   "outputs": [],
   "source": [
    "import numpy as np\n",
    "import pickle\n",
    "from matplotlib import pyplot as plt\n",
    "from sklearn.metrics.pairwise import cosine_similarity\n",
    "import seaborn as sns\n",
    "\n",
    "sns.set_palette('Set1')"
   ]
  },
  {
   "cell_type": "code",
   "execution_count": 2,
   "metadata": {},
   "outputs": [],
   "source": [
    "def hist_equalize(matrix):\n",
    "    matrix = np.copy(matrix)\n",
    "    shape = matrix.shape\n",
    "    matrix = matrix.reshape(-1)\n",
    "    index = matrix.argsort()\n",
    "    values = np.linspace(0, 1, index.shape[0])\n",
    "    matrix[index] = values\n",
    "    return matrix.reshape(shape)\n",
    "\n",
    "def mkrdm(data):\n",
    "    rdmat = 1 - cosine_similarity(data)\n",
    "    return rdmat\n",
    "\n",
    "def mkherdm(data):\n",
    "    rdmat = 1 - cosine_similarity(data)\n",
    "    return hist_equalize(rdmat)"
   ]
  },
  {
   "cell_type": "code",
   "execution_count": 3,
   "metadata": {},
   "outputs": [],
   "source": [
    "def movavg(inp, bl, ss):\n",
    "    nbin = int(np.floor((inp.shape[2] - bl) / ss))\n",
    "    out = np.nan * np.zeros((inp.shape[0], inp.shape[1], nbin))\n",
    "    for ibin in range(nbin):\n",
    "        out[:, :, ibin] = np.sum(inp[:, :, int(ibin*ss):int(ibin*ss)+bl], 2) / bl * 1000\n",
    "    return out\n",
    "\n",
    "itc = movavg(np.load('G:\\Data\\Fast\\Both\\ITCNoAvg.npy'), 25, 1)\n",
    "pfc = movavg(np.load('G:\\Data\\Fast\\Both\\PFCNoAvg.npy'), 25, 1)"
   ]
  },
  {
   "cell_type": "code",
   "execution_count": 4,
   "metadata": {},
   "outputs": [],
   "source": [
    "rdm_data = {}\n",
    "for region, attr in zip(['itc', 'pfc'], [itc, pfc]):\n",
    "    with open(\"../utils/info.pkl\", \"rb\") as handler:\n",
    "        info = pickle.load(handler)\n",
    "    info = info[:165]\n",
    "\n",
    "    validStimuliIndex = ((info.cat != 'none') & ((info.sfr == \"A\") | (info.sfr == \"BI\"))).to_numpy()\n",
    "    attr = attr[validStimuliIndex, :]\n",
    "    info = info[validStimuliIndex].reset_index(drop=True)\n",
    "\n",
    "    argsort = np.argsort(\n",
    "        info.con.astype('category').cat.set_categories(\n",
    "            ['human face', 'monkey face', 'human body', 'monkey body', 'artificial', 'natural'], \n",
    "            ordered=True\n",
    "        )\n",
    "    )\n",
    "    rdmat = np.nan * np.ones([argsort.size, argsort.size, attr.shape[2]])\n",
    "    herdmat = np.nan * np.ones([argsort.size, argsort.size, attr.shape[2]])\n",
    "\n",
    "    for itime in range(attr.shape[2]):\n",
    "        rdmat[:,:,itime] = mkrdm(attr[argsort, :, itime])\n",
    "        herdmat[:,:,itime] = mkherdm(attr[argsort, :, itime])\n",
    "\n",
    "    rdm_data[region] = {'raw': rdmat, 'histeq': herdmat}"
   ]
  },
  {
   "attachments": {},
   "cell_type": "markdown",
   "metadata": {},
   "source": [
    "# CORNet-Z"
   ]
  },
  {
   "cell_type": "code",
   "execution_count": null,
   "metadata": {},
   "outputs": [],
   "source": [
    "rdm_cornet = {}\n",
    "for region in ['V1', 'V2', 'V4', 'IT']:\n",
    "    attr = np.load(f'CORnet-Z_{region}_output_feats.npy')\n",
    "    attr = attr[:165, :]\n",
    "    with open(\"../utils/info.pkl\", \"rb\") as handler:\n",
    "        info = pickle.load(handler)\n",
    "    info = info[:165]\n",
    "\n",
    "    validStimuliIndex = ((info.cat != 'none') & ((info.sfr == \"A\") | (info.sfr == \"BI\"))).to_numpy()\n",
    "    attr = attr[validStimuliIndex, :]\n",
    "    info = info[validStimuliIndex].reset_index(drop=True)\n",
    "\n",
    "    argsort = np.argsort(\n",
    "        info.con.astype('category').cat.set_categories(\n",
    "            ['human face', 'monkey face', 'human body', 'monkey body', 'artificial', 'natural'], \n",
    "            ordered=True\n",
    "        )\n",
    "    )\n",
    "    rdmat = mkrdm(attr[argsort, :])\n",
    "    herdmat = mkherdm(attr[argsort, :])\n",
    "\n",
    "    rdm_cornet[region] = {'raw': rdmat, 'histeq': herdmat}"
   ]
  },
  {
   "cell_type": "code",
   "execution_count": null,
   "metadata": {},
   "outputs": [],
   "source": [
    "cm = 1/2.54\n",
    "fig, axs = plt.subplots(1,1,figsize=(5*cm, 5*cm), dpi=200)\n",
    "ax = axs\n",
    "ax.imshow(rdm_cornet['IT']['histeq'])\n",
    "ax.axis('off')"
   ]
  },
  {
   "cell_type": "code",
   "execution_count": null,
   "metadata": {},
   "outputs": [],
   "source": [
    "from scipy.stats import kendalltau as tau\n",
    "from scipy.stats import pearsonr as p\n",
    "from scipy.stats import spearmanr as r\n",
    "\n",
    "cm = 1 / 2.54\n",
    "fig, axs = plt.subplots(1, 2, figsize=(18 * cm , 6 * cm), dpi=200)\n",
    "\n",
    "tim = np.arange(-200, 675) + 12.5\n",
    "\n",
    "for ax, region in zip(axs.flat, rdm_data.keys()):\n",
    "    for cnet in ['V1', 'V4', 'IT']: #rdm_cornet.keys():\n",
    "        X = rdm_data[region]['raw']\n",
    "        y = rdm_cornet[cnet]['raw']\n",
    "\n",
    "        _s = []\n",
    "        for time in range(X.shape[2]):\n",
    "            _s.append(p(X[:, :, time].flatten(), y.flatten())[0])\n",
    "        _s = np.array(_s)\n",
    "\n",
    "        ax.plot(tim, _s-_s[(tim >= -25) & (tim < 25)].mean(), label=cnet)\n",
    "        # ax.plot(tim, _s, label=cnet)\n",
    "    ax.set_title(region)\n",
    "    ax.legend(frameon=False)\n",
    "fig.tight_layout()\n",
    "sns.despine()\n",
    "\n",
    "plt.savefig('z-p.pdf')"
   ]
  },
  {
   "attachments": {},
   "cell_type": "markdown",
   "metadata": {},
   "source": [
    "# CORNet-S"
   ]
  },
  {
   "cell_type": "code",
   "execution_count": 5,
   "metadata": {},
   "outputs": [],
   "source": [
    "rdm_cornet = {}\n",
    "for region in ['V1', 'V2', 'V4', 'IT']:\n",
    "    attr = np.load(f'CORnet-S_{region}_output_feats.npy')\n",
    "    attr = attr[:165, :]\n",
    "    with open(\"../utils/info.pkl\", \"rb\") as handler:\n",
    "        info = pickle.load(handler)\n",
    "    info = info[:165]\n",
    "\n",
    "    validStimuliIndex = ((info.cat != 'none') & ((info.sfr == \"A\") | (info.sfr == \"BI\"))).to_numpy()\n",
    "    attr = attr[validStimuliIndex, :]\n",
    "    info = info[validStimuliIndex].reset_index(drop=True)\n",
    "\n",
    "    argsort = np.argsort(\n",
    "        info.con.astype('category').cat.set_categories(\n",
    "            ['human face', 'monkey face', 'human body', 'monkey body', 'artificial', 'natural'], \n",
    "            ordered=True\n",
    "        )\n",
    "    )\n",
    "    rdmat = mkrdm(attr[argsort, :])\n",
    "    herdmat = mkherdm(attr[argsort, :])\n",
    "\n",
    "    rdm_cornet[region] = {'raw': rdmat, 'histeq': herdmat}"
   ]
  },
  {
   "cell_type": "code",
   "execution_count": null,
   "metadata": {},
   "outputs": [],
   "source": [
    "cm = 1/2.54\n",
    "\n",
    "for reg in rdm_cornet.keys():\n",
    "    fig, ax = plt.subplots(1,1,figsize=(5*cm, 5*cm), dpi=200)\n",
    "    ax.imshow(rdm_cornet[reg]['histeq'])\n",
    "    # ax.set_title(reg, fontsize=5)\n",
    "    ax.axis('off')\n",
    "\n",
    "    fig.tight_layout()\n",
    "\n",
    "    plt.savefig(f\"cornet-s-{reg}-rdms.pdf\")\n",
    "    plt.close()"
   ]
  },
  {
   "cell_type": "code",
   "execution_count": 56,
   "metadata": {},
   "outputs": [
    {
     "data": {
      "application/vnd.jupyter.widget-view+json": {
       "model_id": "2b82197952f047bf8e6249e4142e2196",
       "version_major": 2,
       "version_minor": 0
      },
      "text/plain": [
       "  0%|          | 0/100 [00:00<?, ?it/s]"
      ]
     },
     "metadata": {},
     "output_type": "display_data"
    },
    {
     "data": {
      "application/vnd.jupyter.widget-view+json": {
       "model_id": "d446cea2b5904540b581cc16770b17d1",
       "version_major": 2,
       "version_minor": 0
      },
      "text/plain": [
       "  0%|          | 0/100 [00:00<?, ?it/s]"
      ]
     },
     "metadata": {},
     "output_type": "display_data"
    },
    {
     "data": {
      "application/vnd.jupyter.widget-view+json": {
       "model_id": "96cdcd5356f04cae8222cf7a2ac50c58",
       "version_major": 2,
       "version_minor": 0
      },
      "text/plain": [
       "  0%|          | 0/100 [00:00<?, ?it/s]"
      ]
     },
     "metadata": {},
     "output_type": "display_data"
    },
    {
     "data": {
      "application/vnd.jupyter.widget-view+json": {
       "model_id": "495cca0b734b4226818bd546968c97da",
       "version_major": 2,
       "version_minor": 0
      },
      "text/plain": [
       "  0%|          | 0/100 [00:00<?, ?it/s]"
      ]
     },
     "metadata": {},
     "output_type": "display_data"
    },
    {
     "data": {
      "application/vnd.jupyter.widget-view+json": {
       "model_id": "5774dff1b4f34f679905c6a2cea8ba06",
       "version_major": 2,
       "version_minor": 0
      },
      "text/plain": [
       "  0%|          | 0/100 [00:00<?, ?it/s]"
      ]
     },
     "metadata": {},
     "output_type": "display_data"
    },
    {
     "data": {
      "application/vnd.jupyter.widget-view+json": {
       "model_id": "9fc1befe00d84c96a659171ddf59f9e0",
       "version_major": 2,
       "version_minor": 0
      },
      "text/plain": [
       "  0%|          | 0/100 [00:00<?, ?it/s]"
      ]
     },
     "metadata": {},
     "output_type": "display_data"
    },
    {
     "data": {
      "application/vnd.jupyter.widget-view+json": {
       "model_id": "14e7491aa8224f44adfbc58c708df45f",
       "version_major": 2,
       "version_minor": 0
      },
      "text/plain": [
       "  0%|          | 0/100 [00:00<?, ?it/s]"
      ]
     },
     "metadata": {},
     "output_type": "display_data"
    },
    {
     "data": {
      "application/vnd.jupyter.widget-view+json": {
       "model_id": "a99a905d36d742c29f5e4c2eabce55dd",
       "version_major": 2,
       "version_minor": 0
      },
      "text/plain": [
       "  0%|          | 0/100 [00:00<?, ?it/s]"
      ]
     },
     "metadata": {},
     "output_type": "display_data"
    }
   ],
   "source": [
    "from scipy.stats import kendalltau as tau\n",
    "from scipy.stats import pearsonr as p\n",
    "from scipy.stats import spearmanr as r\n",
    "from tqdm.notebook import tqdm\n",
    "\n",
    "corr = {'itc': {'V1': [], 'V2': [], 'V4': [], 'IT': []},\n",
    "        'pfc': {'V1': [], 'V2': [], 'V4': [], 'IT': []},\n",
    "        'itc0': {'V1': [], 'V2': [], 'V4': [], 'IT': []},\n",
    "        'pfc0': {'V1': [], 'V2': [], 'V4': [], 'IT': []}\n",
    "}\n",
    "\n",
    "for region in ['itc', 'pfc']:\n",
    "    for cnet in ['V1', 'V2', 'V4', 'IT']:\n",
    "        X = rdm_data[region]['raw']\n",
    "        y = rdm_cornet[cnet]['raw']\n",
    "\n",
    "        for time in range(X.shape[2]):\n",
    "            corr[region][cnet].append(p(X[:, :, time].flatten(), y.flatten())[0])\n",
    "        corr[region][cnet] = np.array(corr[region][cnet])\n",
    "\n",
    "        for ishuffle in tqdm(range(100)):\n",
    "            np.range.seed(ishuffle)\n",
    "            shufind = np.random.permutation(X.shape[0]).flatten()\n",
    "            X = X[shufind][:, shufind]\n",
    "            _s = []\n",
    "            for time in range(X.shape[2]):\n",
    "                _s.append(p(X[:, :, time].flatten(), y.flatten())[0])\n",
    "            corr[region+\"0\"][cnet].append(_s)\n",
    "        corr[region+\"0\"][cnet] = np.array(corr[region+\"0\"][cnet])"
   ]
  },
  {
   "cell_type": "code",
   "execution_count": 152,
   "metadata": {},
   "outputs": [
    {
     "name": "stdout",
     "output_type": "stream",
     "text": [
      "0.027899210974094493 -0.027899210974094493\n",
      "0.029379469016859602 -0.029379469016859595\n"
     ]
    },
    {
     "data": {
      "image/png": "[encoded data removed]",
      "text/plain": [
       "<Figure size 354.331x354.331 with 2 Axes>"
      ]
     },
     "metadata": {
      "needs_background": "light"
     },
     "output_type": "display_data"
    }
   ],
   "source": [
    "from scipy.ndimage import gaussian_filter1d as smooth\n",
    "\n",
    "cm = 1 / 2.54\n",
    "fig, axs = plt.subplots(2, 1, figsize=(6 * cm , 6 * cm), dpi=150, sharey=True)\n",
    "\n",
    "tim = np.arange(-200, 675) + 12.5\n",
    "\n",
    "for ax, region, sig in zip(axs.flat, ['itc', 'pfc'], [2.5, 2.5]):\n",
    "    # for cnet in ['V1', 'V2', 'V4', 'IT']:\n",
    "    for cnet in ['IT']:\n",
    "        c = corr[region][cnet]\n",
    "        c0 = corr[region+\"0\"][cnet]\n",
    "        Z = smooth((c - c0.mean(0)), sigma=sig)\n",
    "        Z -= Z[tim<0].mean()\n",
    "        print(3 * Z[tim<0].std() + Z[tim<0].mean(), -3 * Z[tim<0].std() + Z[tim<0].mean())\n",
    "        # h = ax.plot(tim, Z - Z[(tim < 25) & (tim > -25)].mean(), label=cnet.upper())\n",
    "        h = ax.plot(tim, Z - Z[(tim < 0)].mean(), label=cnet.upper())\n",
    "        ax.axhline(Z[tim<0].mean() + Z[tim<0].std() * 3, c=h[0].get_color(), ls='--', alpha=.25)\n",
    "        ax.axhline(Z[tim<0].mean() - Z[tim<0].std() * 3, c=h[0].get_color(), ls='--', alpha=.25)\n",
    "        ax.axvline(0, c='k', ls='--', alpha=.1)\n",
    "        ax.axvline(50, c='k', ls='--', alpha=.1)\n",
    "        ax.set_xlim(-50, 450)\n",
    "        ax.set_ylim(-.075, .39)\n",
    "        # ax.set_title(region)\n",
    "        # ax.legend(frameon=False)\n",
    "\n",
    "        ax.tick_params(axis='both', which='major', labelsize=5)\n",
    "        plt.setp(ax.spines.values(), linewidth=.5)\n",
    "        # ax.set_yticks(ax.get_xticks())\n",
    "\n",
    "sns.despine()\n",
    "fig.tight_layout()\n",
    "plt.savefig(\"cornet-correlation.pdf\")"
   ]
  },
  {
   "cell_type": "code",
   "execution_count": 115,
   "metadata": {},
   "outputs": [
    {
     "data": {
      "text/plain": [
       "(0.596078431372549, 0.3058823529411765, 0.6392156862745098)"
      ]
     },
     "execution_count": 115,
     "metadata": {},
     "output_type": "execute_result"
    }
   ],
   "source": [
    "h[0].get_color()"
   ]
  },
  {
   "cell_type": "code",
   "execution_count": null,
   "metadata": {},
   "outputs": [],
   "source": [
    "from scipy.stats import kendalltau as tau\n",
    "from scipy.stats import pearsonr as p\n",
    "from scipy.stats import spearmanr as r\n",
    "\n",
    "cm = 1 / 2.54\n",
    "fig, axs = plt.subplots(1, 2, figsize=(18 * cm , 6 * cm), dpi=200)\n",
    "\n",
    "tim = np.arange(-200, 675) + 12.5\n",
    "\n",
    "\n",
    "for ax, region in zip(axs.flat, rdm_data.keys()):\n",
    "    for cnet in ['V1', 'V4', 'IT']: #rdm_cornet.keys():\n",
    "        X = rdm_data[region]['raw']\n",
    "        y = rdm_cornet[cnet]['raw']\n",
    "\n",
    "        _s = []\n",
    "        for time in range(X.shape[2]):\n",
    "            _s.append(p(X[:, :, time].flatten(), y.flatten())[0])\n",
    "        _s = np.array(_s)\n",
    "\n",
    "        # ax.plot(tim, _s-_s[(tim >= -25) & (tim < 25)].mean(), label=cnet)\n",
    "        ax.plot(tim, _s, label=cnet)\n",
    "        ax.set_xlim(-50, 450)\n",
    "    ax.set_title(region)\n",
    "    ax.legend(frameon=False)\n",
    "\n",
    "sns.despine()\n",
    "fig.tight_layout()\n",
    "\n",
    "# plt.savefig('s-p.pdf')"
   ]
  },
  {
   "cell_type": "code",
   "execution_count": null,
   "metadata": {},
   "outputs": [],
   "source": [
    "rdm_cornet = {}\n",
    "for region in ['V1', 'V2', 'V4', 'IT']:\n",
    "    attr = np.load(f'CORnet-S_{region}_output_feats.npy')\n",
    "    attr = attr[:165, :]\n",
    "    with open(\"../utils/info.pkl\", \"rb\") as handler:\n",
    "        info = pickle.load(handler)\n",
    "    info = info[:165]\n",
    "\n",
    "    validStimuliIndex = ((info.cat != 'none') & ((info.sfr == \"BL\"))).to_numpy()\n",
    "    attr = attr[validStimuliIndex, :]\n",
    "    info = info[validStimuliIndex].reset_index(drop=True)\n",
    "\n",
    "    argsort = np.argsort(info.cat).to_numpy()\n",
    "    rdmat = mkrdm(attr[argsort, :])\n",
    "    herdmat = mkherdm(attr[argsort, :])\n",
    "\n",
    "    rdm_cornet[region] = {'raw': rdmat, 'histeq': herdmat}"
   ]
  },
  {
   "cell_type": "code",
   "execution_count": null,
   "metadata": {},
   "outputs": [],
   "source": [
    "rdm_data = {}\n",
    "for region, attr in zip(['itc', 'pfc'], [itc, pfc]):\n",
    "    with open(\"../utils/info.pkl\", \"rb\") as handler:\n",
    "        info = pickle.load(handler)\n",
    "    info = info[:165]\n",
    "\n",
    "    validStimuliIndex = ((info.cat != 'none') & (info.sfr == \"BL\")).to_numpy()\n",
    "    attr = attr[validStimuliIndex, :]\n",
    "    info = info[validStimuliIndex].reset_index(drop=True)\n",
    "\n",
    "    argsort = np.argsort(info.cat).to_numpy()\n",
    "    rdmat = np.nan * np.ones([argsort.size, argsort.size, attr.shape[2]])\n",
    "    herdmat = np.nan * np.ones([argsort.size, argsort.size, attr.shape[2]])\n",
    "\n",
    "    for itime in range(attr.shape[2]):\n",
    "        rdmat[:,:,itime] = mkrdm(attr[argsort, :, itime])\n",
    "        herdmat[:,:,itime] = mkherdm(attr[argsort, :, itime])\n",
    "\n",
    "    rdm_data[region] = {'raw': rdmat, 'histeq': herdmat}"
   ]
  },
  {
   "cell_type": "code",
   "execution_count": null,
   "metadata": {},
   "outputs": [],
   "source": [
    "from scipy.stats import kendalltau as tau\n",
    "\n",
    "cm = 1 / 2.54\n",
    "fig, axs = plt.subplots(1, 2, figsize=(18 * cm , 6 * cm), dpi=200)\n",
    "\n",
    "tim = np.arange(-200, 675) + 12.5\n",
    "\n",
    "for ax, region in zip(axs.flat, rdm_data.keys()):\n",
    "    for cnet in rdm_cornet.keys():\n",
    "        X = rdm_data[region]['raw']\n",
    "        y = rdm_cornet[cnet]['raw']\n",
    "\n",
    "        _s = []\n",
    "        for time in range(X.shape[2]):\n",
    "            _s.append(tau(X[:, :, time].flatten(), y.flatten())[0])\n",
    "        _s = np.array(_s)\n",
    "\n",
    "        ax.plot(tim, _s, label=cnet)\n",
    "    ax.set_title(region)\n",
    "    ax.legend(frameon=False)\n",
    "fig.tight_layout()\n",
    "sns.despine()"
   ]
  },
  {
   "cell_type": "code",
   "execution_count": null,
   "metadata": {},
   "outputs": [],
   "source": [
    "rdm_cornet = {}\n",
    "for region in ['V1', 'V2', 'V4', 'IT']:\n",
    "    attr = np.load(f'CORnet-S_{region}_output_feats.npy')\n",
    "    attr = attr[:165, :]\n",
    "    with open(\"../utils/info.pkl\", \"rb\") as handler:\n",
    "        info = pickle.load(handler)\n",
    "    info = info[:165]\n",
    "\n",
    "    validStimuliIndex = ((info.cat != 'none') & ((info.sfr == \"BH\"))).to_numpy()\n",
    "    attr = attr[validStimuliIndex, :]\n",
    "    info = info[validStimuliIndex].reset_index(drop=True)\n",
    "\n",
    "    argsort = np.argsort(info.cat).to_numpy()\n",
    "    rdmat = mkrdm(attr[argsort, :])\n",
    "    herdmat = mkherdm(attr[argsort, :])\n",
    "\n",
    "    rdm_cornet[region] = {'raw': rdmat, 'histeq': herdmat}"
   ]
  },
  {
   "cell_type": "code",
   "execution_count": null,
   "metadata": {},
   "outputs": [],
   "source": [
    "rdm_data = {}\n",
    "for region, attr in zip(['itc', 'pfc'], [itc, pfc]):\n",
    "    with open(\"../utils/info.pkl\", \"rb\") as handler:\n",
    "        info = pickle.load(handler)\n",
    "    info = info[:165]\n",
    "\n",
    "    validStimuliIndex = ((info.cat != 'none') & (info.sfr == \"BH\")).to_numpy()\n",
    "    attr = attr[validStimuliIndex, :]\n",
    "    info = info[validStimuliIndex].reset_index(drop=True)\n",
    "\n",
    "    argsort = np.argsort(info.cat).to_numpy()\n",
    "    rdmat = np.nan * np.ones([argsort.size, argsort.size, attr.shape[2]])\n",
    "    herdmat = np.nan * np.ones([argsort.size, argsort.size, attr.shape[2]])\n",
    "\n",
    "    for itime in range(attr.shape[2]):\n",
    "        rdmat[:,:,itime] = mkrdm(attr[argsort, :, itime])\n",
    "        herdmat[:,:,itime] = mkherdm(attr[argsort, :, itime])\n",
    "\n",
    "    rdm_data[region] = {'raw': rdmat, 'histeq': herdmat}"
   ]
  },
  {
   "cell_type": "code",
   "execution_count": null,
   "metadata": {},
   "outputs": [],
   "source": [
    "from scipy.stats import kendalltau as tau\n",
    "\n",
    "cm = 1 / 2.54\n",
    "fig, axs = plt.subplots(1, 2, figsize=(18 * cm , 6 * cm), dpi=200)\n",
    "\n",
    "tim = np.arange(-200, 675) + 12.5\n",
    "\n",
    "for ax, region in zip(axs.flat, rdm_data.keys()):\n",
    "    for cnet in rdm_cornet.keys():\n",
    "        X = rdm_data[region]['raw']\n",
    "        y = rdm_cornet[cnet]['raw']\n",
    "\n",
    "        _s = []\n",
    "        for time in range(X.shape[2]):\n",
    "            _s.append(tau(X[:, :, time].flatten(), y.flatten())[0])\n",
    "        _s = np.array(_s)\n",
    "\n",
    "        ax.plot(tim, _s, label=cnet)\n",
    "    ax.set_title(region)\n",
    "    ax.legend(frameon=False)\n",
    "fig.tight_layout()\n",
    "sns.despine()"
   ]
  },
  {
   "attachments": {},
   "cell_type": "markdown",
   "metadata": {},
   "source": [
    "# CORNet-RT"
   ]
  },
  {
   "cell_type": "code",
   "execution_count": null,
   "metadata": {},
   "outputs": [],
   "source": [
    "rdm_cornet = {}\n",
    "for region in ['V1', 'V2', 'V4', 'IT']:\n",
    "    attr = np.load(f'CORnet-RT_{region}_output_feats.npy')\n",
    "    attr = attr[:165, :]\n",
    "    with open(\"../utils/info.pkl\", \"rb\") as handler:\n",
    "        info = pickle.load(handler)\n",
    "    info = info[:165]\n",
    "\n",
    "    validStimuliIndex = ((info.cat != 'none') & ((info.sfr == \"A\") | (info.sfr == \"BI\"))).to_numpy()\n",
    "    attr = attr[validStimuliIndex, :]\n",
    "    info = info[validStimuliIndex].reset_index(drop=True)\n",
    "\n",
    "    argsort = np.argsort(\n",
    "        info.con.astype('category').cat.set_categories(\n",
    "            ['human face', 'monkey face', 'human body', 'monkey body', 'artificial', 'natural'], \n",
    "            ordered=True\n",
    "        )\n",
    "    )\n",
    "    rdmat = mkrdm(attr[argsort, :])\n",
    "    herdmat = mkherdm(attr[argsort, :])\n",
    "\n",
    "    rdm_cornet[region] = {'raw': rdmat, 'histeq': herdmat}"
   ]
  },
  {
   "cell_type": "code",
   "execution_count": null,
   "metadata": {},
   "outputs": [],
   "source": [
    "cm = 1/2.54\n",
    "fig, axs = plt.subplots(1,1,figsize=(5*cm, 5*cm), dpi=200)\n",
    "ax = axs\n",
    "ax.imshow(rdm_cornet['IT']['histeq'])\n",
    "ax.axis('off')"
   ]
  },
  {
   "cell_type": "code",
   "execution_count": null,
   "metadata": {},
   "outputs": [],
   "source": [
    "from scipy.stats import kendalltau as tau\n",
    "from scipy.stats import pearsonr as p\n",
    "from scipy.stats import spearmanr as r\n",
    "\n",
    "cm = 1 / 2.54\n",
    "fig, axs = plt.subplots(1, 2, figsize=(18 * cm , 6 * cm), dpi=200)\n",
    "\n",
    "tim = np.arange(-200, 675) + 12.5\n",
    "\n",
    "for ax, region in zip(axs.flat, rdm_data.keys()):\n",
    "    for cnet in ['V1', 'V4', 'IT']: #rdm_cornet.keys():\n",
    "        X = rdm_data[region]['raw']\n",
    "        y = rdm_cornet[cnet]['raw']\n",
    "\n",
    "        _s = []\n",
    "        for time in range(X.shape[2]):\n",
    "            _s.append(tau(X[:, :, time].flatten(), y.flatten())[0])\n",
    "        _s = np.array(_s)\n",
    "\n",
    "        # ax.plot(tim, _s, label=cnet)\n",
    "        ax.plot(tim, _s-_s[(tim >= -25) & (tim < 25)].mean(), label=cnet)\n",
    "    ax.set_title(region)\n",
    "    ax.legend(frameon=False)\n",
    "fig.tight_layout()\n",
    "sns.despine()\n",
    "\n",
    "plt.savefig('rt-tau.pdf')"
   ]
  },
  {
   "cell_type": "code",
   "execution_count": null,
   "metadata": {},
   "outputs": [],
   "source": []
  }
 ],
 "metadata": {
  "kernelspec": {
   "display_name": "Python 3.8.12 ('ipm')",
   "language": "python",
   "name": "python3"
  },
  "language_info": {
   "codemirror_mode": {
    "name": "ipython",
    "version": 3
   },
   "file_extension": ".py",
   "mimetype": "text/x-python",
   "name": "python",
   "nbconvert_exporter": "python",
   "pygments_lexer": "ipython3",
   "version": "3.8.12"
  },
  "orig_nbformat": 4,
  "vscode": {
   "interpreter": {
    "hash": "dda83d13db9bd4f7e861241b49178a983af21559d6d065c8fa5d96bc0691cfcb"
   }
  }
 },
 "nbformat": 4,
 "nbformat_minor": 2
}
