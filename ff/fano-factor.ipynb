{
 "cells": [
  {
   "cell_type": "code",
   "execution_count": 1,
   "metadata": {},
   "outputs": [],
   "source": [
    "import json\n",
    "import os\n",
    "import pickle\n",
    "import sys\n",
    "import numpy as np\n",
    "from tqdm.notebook import tqdm\n",
    "import pandas as pd\n",
    "\n",
    "with open('../dirs.json', 'r') as f:\n",
    "    dirs = json.load(f)\n",
    "sys.path.append(dirs['root'])\n",
    "\n",
    "from sklearn.model_selection import train_test_split as tts\n",
    "from sklearn.linear_model import LinearRegression, Ridge, Lasso\n",
    "from sklearn.metrics import explained_variance_score\n",
    "from sklearn.preprocessing import StandardScaler\n",
    "\n",
    "from utils.ipm import NeuronLoader\n",
    "from utils.metrics import DescriminationConfidenceEstimator as DCE\n",
    "from utils.utils import mkeqdata\n",
    "from sklearn.metrics.pairwise import cosine_similarity\n",
    "from scipy.stats import kendalltau\n",
    "from matplotlib import pyplot as plt\n",
    "import seaborn as sns\n",
    "\n",
    "from scipy.ndimage import gaussian_filter1d as smooth\n",
    "\n",
    "nmb_rep = 100\n",
    "\n",
    "outPath = os.path.join(dirs['out']['ff'])\n",
    "os.makedirs(outPath, exist_ok=True)"
   ]
  },
  {
   "cell_type": "code",
   "execution_count": 2,
   "metadata": {},
   "outputs": [],
   "source": [
    "monkey = \"both\"\n",
    "selectivity = \"fast\"\n",
    "\n",
    "# grangerInfluence = {'itc2pfc': {}, 'pfc2itc': {}}\n",
    "grangerInfluence = {}\n",
    "with open(\"../utils/info.pkl\", \"rb\") as handler:\n",
    "    info = pickle.load(handler)\n",
    "info = info[:165]\n",
    "sIndex = ((info.sfr == \"A\") | (info.sfr == \"BI\"))\n",
    "noneIndex = (info.cat == \"none\")\n",
    "info = info[~noneIndex & sIndex].reset_index(drop=True)\n",
    "itc = np.load(f\"G:/Data/{selectivity.capitalize()}/{monkey.capitalize()}/ITCNoAvg.npy\")\n",
    "pfc = np.load(f\"G:/Data/{selectivity.capitalize()}/{monkey.capitalize()}/PFCNoAvg.npy\")\n",
    "itc = itc[~noneIndex & sIndex]\n",
    "pfc = pfc[~noneIndex & sIndex]"
   ]
  },
  {
   "cell_type": "code",
   "execution_count": 89,
   "metadata": {},
   "outputs": [],
   "source": [
    "def movff(inp, bl, ss):\n",
    "    nbin = int(np.floor((inp.shape[2] - bl) / ss))\n",
    "    out = np.nan * np.zeros((2, inp.shape[1], nbin))\n",
    "    for ibin in range(nbin):\n",
    "        binSC = inp[:, :, int(ibin*ss):int(ibin*ss)+bl].sum((2))\n",
    "        out[0, :, ibin] = binSC.mean(0)\n",
    "        out[1, :, ibin] = binSC.var(0)\n",
    "    return out"
   ]
  },
  {
   "cell_type": "code",
   "execution_count": 90,
   "metadata": {},
   "outputs": [],
   "source": [
    "bl, ss = 25, 1\n",
    "itcData = movff(itc, bl, ss)\n",
    "pfcData = movff(pfc, bl, ss)"
   ]
  },
  {
   "cell_type": "code",
   "execution_count": 101,
   "metadata": {},
   "outputs": [],
   "source": [
    "from sklearn.linear_model import LinearRegression\n",
    "\n",
    "ffi, ffp = [], []\n",
    "for iwin in range(itcData.shape[2]):\n",
    "    m = itcData[0, :, iwin].reshape([-1, 1])\n",
    "    s = itcData[1, :, iwin].reshape([-1, 1])\n",
    "\n",
    "    reg = LinearRegression(fit_intercept=False).fit(m, s)\n",
    "    # ffi.append([reg.coef_[0][0], reg.intercept_[0]])\n",
    "    ffi.append(reg.coef_[0][0])\n",
    "    \n",
    "    m = pfcData[0, :, iwin].reshape([-1, 1])\n",
    "    s = pfcData[1, :, iwin].reshape([-1, 1])\n",
    "\n",
    "    # reg = LinearRegression().fit(m, s)\n",
    "    reg = LinearRegression(fit_intercept=False).fit(m, s)\n",
    "    # ffp.append([reg.coef_[0][0], reg.intercept_[0]])\n",
    "    ffp.append(reg.coef_[0][0])\n",
    "\n",
    "ffi, ffp = 2.5 * np.array(ffi), 2.5 * np.array(ffp)"
   ]
  },
  {
   "cell_type": "code",
   "execution_count": 105,
   "metadata": {},
   "outputs": [
    {
     "data": {
      "image/png": "[encoded data removed]",
      "text/plain": [
       "<Figure size 510.236x283.465 with 1 Axes>"
      ]
     },
     "metadata": {
      "needs_background": "light"
     },
     "output_type": "display_data"
    }
   ],
   "source": [
    "tim = np.arange(-200, 675, step=1) + 25\n",
    "\n",
    "bln = True\n",
    "\n",
    "cm = 1 / 2.54 * 2\n",
    "fig, ax = plt.subplots(nrows=1, ncols=1, figsize=(9 * cm, 5 * cm))\n",
    "\n",
    "ax.plot(tim, ffi - (ffi[(tim<0) & (tim>-20)].mean() if bln else 0),\n",
    "            lw=3)\n",
    "ax.plot(tim, ffp - (ffp[(tim<0) & (tim>-20)].mean() if bln else 0),\n",
    "            lw=3)\n",
    "ax.axvline(0, c='k', alpha=.25, ls='--')\n",
    "ax.set_title(\"Regression Slope\")\n",
    "\n",
    "ax.set_xlim(-50, 450)\n",
    "\n",
    "sns.despine()"
   ]
  },
  {
   "cell_type": "code",
   "execution_count": 97,
   "metadata": {},
   "outputs": [
    {
     "ename": "IndexError",
     "evalue": "too many indices for array: array is 1-dimensional, but 2 were indexed",
     "output_type": "error",
     "traceback": [
      "\u001b[1;31m---------------------------------------------------------------------------\u001b[0m",
      "\u001b[1;31mIndexError\u001b[0m                                Traceback (most recent call last)",
      "\u001b[1;32m~\\AppData\\Local\\Temp/ipykernel_7600/3043093814.py\u001b[0m in \u001b[0;36m<module>\u001b[1;34m\u001b[0m\n\u001b[0;32m      6\u001b[0m \u001b[0mfig\u001b[0m\u001b[1;33m,\u001b[0m \u001b[0maxs\u001b[0m \u001b[1;33m=\u001b[0m \u001b[0mplt\u001b[0m\u001b[1;33m.\u001b[0m\u001b[0msubplots\u001b[0m\u001b[1;33m(\u001b[0m\u001b[0mnrows\u001b[0m\u001b[1;33m=\u001b[0m\u001b[1;36m1\u001b[0m\u001b[1;33m,\u001b[0m \u001b[0mncols\u001b[0m\u001b[1;33m=\u001b[0m\u001b[1;36m2\u001b[0m\u001b[1;33m,\u001b[0m \u001b[0mfigsize\u001b[0m\u001b[1;33m=\u001b[0m\u001b[1;33m(\u001b[0m\u001b[1;36m9\u001b[0m \u001b[1;33m*\u001b[0m \u001b[0mcm\u001b[0m\u001b[1;33m,\u001b[0m \u001b[1;36m5\u001b[0m \u001b[1;33m*\u001b[0m \u001b[0mcm\u001b[0m\u001b[1;33m)\u001b[0m\u001b[1;33m)\u001b[0m\u001b[1;33m\u001b[0m\u001b[1;33m\u001b[0m\u001b[0m\n\u001b[0;32m      7\u001b[0m \u001b[1;33m\u001b[0m\u001b[0m\n\u001b[1;32m----> 8\u001b[1;33m axs[0].plot(tim, ffi[:, 0] - (ffi[(tim<0) & (tim>-50), 0].mean() if bln else 0),\n\u001b[0m\u001b[0;32m      9\u001b[0m             lw=3)\n\u001b[0;32m     10\u001b[0m axs[0].plot(tim, ffp[:, 0] - (ffp[(tim<0) & (tim>-50), 0].mean() if bln else 0),\n",
      "\u001b[1;31mIndexError\u001b[0m: too many indices for array: array is 1-dimensional, but 2 were indexed"
     ]
    },
    {
     "data": {
      "image/png": "[encoded data removed]",
      "text/plain": [
       "<Figure size 510.236x283.465 with 2 Axes>"
      ]
     },
     "metadata": {
      "needs_background": "light"
     },
     "output_type": "display_data"
    }
   ],
   "source": [
    "tim = np.arange(-200, 675, step=1) + 25\n",
    "\n",
    "bln = True\n",
    "\n",
    "cm = 1 / 2.54 * 2\n",
    "fig, axs = plt.subplots(nrows=1, ncols=2, figsize=(9 * cm, 5 * cm))\n",
    "\n",
    "axs[0].plot(tim, ffi[:, 0] - (ffi[(tim<0) & (tim>-50), 0].mean() if bln else 0),\n",
    "            lw=3)\n",
    "axs[0].plot(tim, ffp[:, 0] - (ffp[(tim<0) & (tim>-50), 0].mean() if bln else 0),\n",
    "            lw=3)\n",
    "axs[0].axvline(0, c='k', alpha=.25, ls='--')\n",
    "axs[0].set_title(\"Regression Slope\")\n",
    "\n",
    "axs[1].plot(tim, ffi[:, 1] - (ffi[(tim<0) & (tim>-50), 1].mean() if bln else 0),\n",
    "            lw=3)\n",
    "axs[1].plot(tim, ffp[:, 1] - (ffp[(tim<0) & (tim>-50), 1].mean() if bln else 0),\n",
    "            lw=3)\n",
    "axs[1].axvline(0, c='k', alpha=.25, ls='--')\n",
    "axs[1].set_title(\"Regression Intercept\")\n",
    "\n",
    "axs[0].legend([\"ITC\", \"PFC\"], frameon=False)\n",
    "\n",
    "for ax in axs:\n",
    "    ax.set_xlim(-50, 450)\n",
    "\n",
    "sns.despine()"
   ]
  }
 ],
 "metadata": {
  "kernelspec": {
   "display_name": "ipm",
   "language": "python",
   "name": "python3"
  },
  "language_info": {
   "codemirror_mode": {
    "name": "ipython",
    "version": 3
   },
   "file_extension": ".py",
   "mimetype": "text/x-python",
   "name": "python",
   "nbconvert_exporter": "python",
   "pygments_lexer": "ipython3",
   "version": "3.8.12"
  },
  "orig_nbformat": 4,
  "vscode": {
   "interpreter": {
    "hash": "dda83d13db9bd4f7e861241b49178a983af21559d6d065c8fa5d96bc0691cfcb"
   }
  }
 },
 "nbformat": 4,
 "nbformat_minor": 2
}
