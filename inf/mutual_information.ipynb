{
 "cells": [
  {
   "cell_type": "code",
   "execution_count": 1,
   "metadata": {},
   "outputs": [],
   "source": [
    "import json\n",
    "import os\n",
    "import pickle\n",
    "import sys\n",
    "import numpy as np\n",
    "from tqdm.notebook import tqdm\n",
    "import pandas as pd\n",
    "\n",
    "with open('../dirs.json', 'r') as f:\n",
    "    dirs = json.load(f)\n",
    "sys.path.append(dirs['root'])\n",
    "\n",
    "from sklearn.model_selection import train_test_split as tts\n",
    "from sklearn.linear_model import LinearRegression, Ridge, Lasso\n",
    "from sklearn.metrics import explained_variance_score\n",
    "from sklearn.preprocessing import StandardScaler\n",
    "\n",
    "from utils.ipm import NeuronLoader\n",
    "from utils.metrics import DescriminationConfidenceEstimator as DCE\n",
    "from utils.utils import mkeqdata\n",
    "from sklearn.metrics.pairwise import cosine_similarity\n",
    "from scipy.stats import kendalltau\n",
    "from matplotlib import pyplot as plt\n",
    "import seaborn as sns\n",
    "\n",
    "from scipy.ndimage import gaussian_filter1d as smooth\n",
    "\n",
    "nmb_rep = 100\n",
    "\n",
    "outPath = os.path.join(dirs['out']['rsa'])\n",
    "os.makedirs(outPath, exist_ok=True)"
   ]
  },
  {
   "cell_type": "code",
   "execution_count": 2,
   "metadata": {},
   "outputs": [],
   "source": [
    "monkey = \"both\"\n",
    "selectivity = \"fast\"\n",
    "\n",
    "# grangerInfluence = {'itc2pfc': {}, 'pfc2itc': {}}\n",
    "grangerInfluence = {}\n",
    "with open(\"../utils/info.pkl\", \"rb\") as handler:\n",
    "    info = pickle.load(handler)\n",
    "info = info[:165]\n",
    "sIndex = ((info.sfr == \"A\") | (info.sfr == \"BI\"))\n",
    "noneIndex = (info.cat == \"none\")\n",
    "info = info[~noneIndex & sIndex].reset_index(drop=True)\n",
    "itc = np.load(f\"G:/Data/{selectivity.capitalize()}/{monkey.capitalize()}/ITCNoAvg.npy\")\n",
    "pfc = np.load(f\"G:/Data/{selectivity.capitalize()}/{monkey.capitalize()}/PFCNoAvg.npy\")\n",
    "itc = itc[~noneIndex & sIndex]\n",
    "pfc = pfc[~noneIndex & sIndex]"
   ]
  },
  {
   "cell_type": "code",
   "execution_count": 3,
   "metadata": {},
   "outputs": [],
   "source": [
    "from sklearn.feature_selection import mutual_info_regression as minf\n",
    "def movavg(inp, bl, ss):\n",
    "    nbin = int(np.floor((inp.shape[2] - bl) / ss))\n",
    "    out = np.nan * np.zeros((inp.shape[0], inp.shape[1], nbin))\n",
    "    for ibin in range(nbin):\n",
    "        out[:, :, ibin] = np.sum(inp[:, :, int(ibin*ss):int(ibin*ss)+bl], 2) / bl * 1000\n",
    "    return out"
   ]
  },
  {
   "cell_type": "code",
   "execution_count": 4,
   "metadata": {},
   "outputs": [],
   "source": [
    "bl, ss = 50, 1\n",
    "itcData = movavg(itc, bl, ss)\n",
    "pfcData = movavg(pfc, bl, ss)"
   ]
  },
  {
   "cell_type": "code",
   "execution_count": 5,
   "metadata": {},
   "outputs": [
    {
     "data": {
      "application/vnd.jupyter.widget-view+json": {
       "model_id": "12a6b44c95344ebeac2174f7476209fa",
       "version_major": 2,
       "version_minor": 0
      },
      "text/plain": [
       "  0%|          | 0/645 [00:00<?, ?it/s]"
      ]
     },
     "metadata": {},
     "output_type": "display_data"
    },
    {
     "data": {
      "application/vnd.jupyter.widget-view+json": {
       "model_id": "c1ad23defb414d589fd23b481c7c323f",
       "version_major": 2,
       "version_minor": 0
      },
      "text/plain": [
       "  0%|          | 0/645 [00:00<?, ?it/s]"
      ]
     },
     "metadata": {},
     "output_type": "display_data"
    },
    {
     "data": {
      "application/vnd.jupyter.widget-view+json": {
       "model_id": "aeb79ddd0f394bb185a7508284d211ae",
       "version_major": 2,
       "version_minor": 0
      },
      "text/plain": [
       "  0%|          | 0/645 [00:00<?, ?it/s]"
      ]
     },
     "metadata": {},
     "output_type": "display_data"
    },
    {
     "data": {
      "application/vnd.jupyter.widget-view+json": {
       "model_id": "6f11692e715f46db97b47a12e0f351fd",
       "version_major": 2,
       "version_minor": 0
      },
      "text/plain": [
       "  0%|          | 0/645 [00:00<?, ?it/s]"
      ]
     },
     "metadata": {},
     "output_type": "display_data"
    }
   ],
   "source": [
    "mi = {}\n",
    "for s, category in zip([info.fac, info.bod, info.art, info.nat], [\"face\", \"body\", \"artificial\", \"natural\"]):\n",
    "    _mi = []\n",
    "    for neuron in tqdm(range(itcData.shape[1])):\n",
    "        r = itcData[:, neuron, :]\n",
    "        \n",
    "        __mi = []\n",
    "        for time in range(itcData.shape[2]):\n",
    "            __mi.append(minf(r[:, time].reshape(-1, 1), s, random_state=0))\n",
    "        _mi.append(__mi)\n",
    "    mi[category] = np.array(_mi).squeeze()\n",
    "\n",
    "with open(os.path.join(dirs['out']['inf'], 'itc-per-category.pickle'), 'wb') as handle:\n",
    "    pickle.dump(mi, handle, protocol=pickle.HIGHEST_PROTOCOL)"
   ]
  },
  {
   "cell_type": "code",
   "execution_count": 6,
   "metadata": {},
   "outputs": [
    {
     "data": {
      "application/vnd.jupyter.widget-view+json": {
       "model_id": "1af7b04a07834564ba0b89f10353dc05",
       "version_major": 2,
       "version_minor": 0
      },
      "text/plain": [
       "  0%|          | 0/537 [00:00<?, ?it/s]"
      ]
     },
     "metadata": {},
     "output_type": "display_data"
    },
    {
     "name": "stdout",
     "output_type": "stream",
     "text": [
      "face: finished\n"
     ]
    },
    {
     "data": {
      "application/vnd.jupyter.widget-view+json": {
       "model_id": "bee8d13c87d4436eaceac577d98e33c5",
       "version_major": 2,
       "version_minor": 0
      },
      "text/plain": [
       "  0%|          | 0/537 [00:00<?, ?it/s]"
      ]
     },
     "metadata": {},
     "output_type": "display_data"
    },
    {
     "name": "stdout",
     "output_type": "stream",
     "text": [
      "body: finished\n"
     ]
    },
    {
     "data": {
      "application/vnd.jupyter.widget-view+json": {
       "model_id": "fd2235a2d8714b138d986c438a66f2ff",
       "version_major": 2,
       "version_minor": 0
      },
      "text/plain": [
       "  0%|          | 0/537 [00:00<?, ?it/s]"
      ]
     },
     "metadata": {},
     "output_type": "display_data"
    },
    {
     "name": "stdout",
     "output_type": "stream",
     "text": [
      "artificial: finished\n"
     ]
    },
    {
     "data": {
      "application/vnd.jupyter.widget-view+json": {
       "model_id": "66871a4368564ee19555a83602ae475d",
       "version_major": 2,
       "version_minor": 0
      },
      "text/plain": [
       "  0%|          | 0/537 [00:00<?, ?it/s]"
      ]
     },
     "metadata": {},
     "output_type": "display_data"
    },
    {
     "name": "stdout",
     "output_type": "stream",
     "text": [
      "natural: finished\n"
     ]
    }
   ],
   "source": [
    "mi = {}\n",
    "for s, category in zip([info.fac, info.bod, info.art, info.nat], [\"face\", \"body\", \"artificial\", \"natural\"]):\n",
    "    _mi = []\n",
    "    for neuron in tqdm(range(pfcData.shape[1])):\n",
    "        r = pfcData[:, neuron, :]\n",
    "        \n",
    "        __mi = []\n",
    "        for time in range(pfcData.shape[2]):\n",
    "            __mi.append(minf(r[:, time].reshape(-1, 1), s, random_state=0))\n",
    "        _mi.append(__mi)\n",
    "    print(f\"{category}: finished\")\n",
    "    mi[category] = np.array(_mi).squeeze()\n",
    "\n",
    "with open(os.path.join(dirs['out']['inf'], 'pfc-per-category.pickle'), 'wb') as handle:\n",
    "    pickle.dump(mi, handle, protocol=pickle.HIGHEST_PROTOCOL)"
   ]
  },
  {
   "cell_type": "code",
   "execution_count": null,
   "metadata": {},
   "outputs": [],
   "source": [
    "with open(os.path.join(dirs['out']['inf'], 'itc-per-category.pickle'), 'rb') as handle:\n",
    "    itc = pickle.load(handle)\n",
    "with open(os.path.join(dirs['out']['inf'], 'pfc-per-category.pickle'), 'rb') as handle:\n",
    "    pfc = pickle.load(handle)"
   ]
  },
  {
   "cell_type": "code",
   "execution_count": null,
   "metadata": {},
   "outputs": [],
   "source": [
    "tim = np.arange(-200, 650, step=5) + 25\n",
    "sns.set_palette('Set1')\n",
    "\n",
    "cm = 1 / 2.54\n",
    "fig, axs = plt.subplots(1, 4, figsize=(18 * cm, 5 * cm), dpi=200, sharey=False)\n",
    "\n",
    "for ax, category in zip(axs.flat, pfc.keys()):\n",
    "    \n",
    "    for region_name, region in zip(['ITC', 'PFC'], [itc, pfc]):\n",
    "        X = region[category] / 50 * 1000\n",
    "        X = smooth(X, sigma=2)\n",
    "        X -= X[:, (tim > -50) & (tim < 0)].mean(1).reshape(-1, 1)\n",
    "        ax.plot(tim, X.mean(0), label=region_name)\n",
    "        ax.fill_between(tim, \\\n",
    "            X.mean(0) + 1.96 / np.sqrt(X.shape[0]) * X.std(0), \\\n",
    "            X.mean(0) - 1.96 / np.sqrt(X.shape[0]) * X.std(0), \\\n",
    "            alpha=.2, label='_nolegend_')\n",
    "        ax.set_title(category, fontsize=7)\n",
    "\n",
    "for ax in axs.flat:\n",
    "    ax.axvline(0, color='k', ls='dashed', lw=1, alpha=.2, label='_nolegend_')\n",
    "    ax.axvline(50, color='k', ls='dashed', lw=1, alpha=.2, label='_nolegend_')\n",
    "    ax.set_xlim(-50, 450)\n",
    "    ax.set_xlabel('time (ms)', fontsize=6)\n",
    "    ax.set_ylabel('')\n",
    "    ax.axhline(0, color='k', ls='--', lw=1, alpha=.2, label='_nolegend_')\n",
    "    ax.tick_params(axis='both', which='major', labelsize=6)\n",
    "\n",
    "axs[0].legend(frameon=False, fontsize=6)\n",
    "axs[0].set_ylabel('information (bit/sec)', fontsize=6)\n",
    "\n",
    "sns.despine()\n",
    "fig.tight_layout()\n",
    "\n",
    "plt.savefig('information1.pdf')"
   ]
  },
  {
   "cell_type": "code",
   "execution_count": null,
   "metadata": {},
   "outputs": [],
   "source": [
    "tim = np.arange(-200, 650, step=5) + 25\n",
    "sns.set_palette('Dark2')\n",
    "\n",
    "cm = 1 / 2.54\n",
    "fig, axs = plt.subplots(2, 1, figsize=(6 * cm, 7 * cm), dpi=200, sharex=True)\n",
    "\n",
    "for ax, region, region_name in zip(axs.flat, [itc, pfc], ['Inferior Temporal Cortex', 'Prefrontal Cortex']):\n",
    "    for category in pfc.keys():\n",
    "        X = region[category] / 50 * 1000\n",
    "        X = smooth(X, sigma=1.5)\n",
    "        X -= X[:, (tim > -50) & (tim < 0)].mean(1).reshape(-1, 1)\n",
    "        ax.plot(tim, X.mean(0), label=category)\n",
    "        ax.fill_between(tim, \\\n",
    "            X.mean(0) + 1.96 / np.sqrt(X.shape[0]) * X.std(0), \\\n",
    "            X.mean(0) - 1.96 / np.sqrt(X.shape[0]) * X.std(0), \\\n",
    "            alpha=.2, label='_nolegend_')\n",
    "    ax.set_title(region_name, fontsize=7)\n",
    "\n",
    "for ax in axs.flat:\n",
    "    ax.set_xlim(-50, 450)\n",
    "    ax.set_ylabel('')\n",
    "    ax.axhline(0, color='k', ls='--', lw=1, alpha=.2, label='_nolegend_')\n",
    "    ax.tick_params(axis='both', which='major', labelsize=6)\n",
    "    ax.set_ylabel('information (bit/sec)', fontsize=6)\n",
    "\n",
    "axs[1].set_xlabel('time (ms)', fontsize=6)\n",
    "axs[0].legend(frameon=False, fontsize=6)\n",
    "\n",
    "sns.despine()\n",
    "# sns.despine(left=True)\n",
    "fig.tight_layout()\n",
    "\n",
    "plt.savefig('information2.pdf')"
   ]
  },
  {
   "cell_type": "code",
   "execution_count": null,
   "metadata": {},
   "outputs": [],
   "source": [
    "from scipy import stats\n",
    "\n",
    "tim = np.arange(-200, 650, step=5) + 25\n",
    "\n",
    "onsets = {'face': [], 'body': [], 'artificial': [], 'natural': []}\n",
    "\n",
    "for rep in range(200):\n",
    "    for category in pfc.keys():\n",
    "        X = itc[category]\n",
    "        X = smooth(X, sigma=1.5)\n",
    "        X = X[np.random.choice(X.shape[0], X.shape[0], replace=True)].mean(0)\n",
    "\n",
    "        bl = X[(tim <= 0) & (tim > -150)]\n",
    "        th = 3 * bl.std() + bl.mean()\n",
    "        sw = np.convolve(X>th, .2*np.ones((1, 5)).flatten(), mode='same')\n",
    "        sw[tim<0] = 0\n",
    "        os = tim[np.argmax(sw)]\n",
    "        onsets[category].append(os)\n",
    "\n",
    "# for itime in np.arange(X.shape[0]):\n",
    "    "
   ]
  },
  {
   "cell_type": "code",
   "execution_count": null,
   "metadata": {},
   "outputs": [],
   "source": [
    "plt.hist(onsets['face'])"
   ]
  },
  {
   "cell_type": "code",
   "execution_count": null,
   "metadata": {},
   "outputs": [],
   "source": [
    "bl"
   ]
  },
  {
   "cell_type": "code",
   "execution_count": null,
   "metadata": {},
   "outputs": [],
   "source": [
    "from scipy.stats import kstest\n",
    "# X.mean(0)[itime]\n",
    "kstest(rvs=[X.mean(0)[10]], cdf=null)[1]"
   ]
  },
  {
   "cell_type": "code",
   "execution_count": null,
   "metadata": {},
   "outputs": [],
   "source": [
    "plt.hist(null, density=True)\n",
    "trange = np.arange(0.019, 0.026, step=0.0001)\n",
    "plt.plot(trange, stats.t.pdf(trange, df=29, loc=loc, scale=scale))"
   ]
  },
  {
   "cell_type": "code",
   "execution_count": null,
   "metadata": {},
   "outputs": [],
   "source": [
    "ax = plt.gca()\n",
    "ax.plot(tim, t)\n",
    "ax.twinx().plot(tim[:len(p)], p)"
   ]
  },
  {
   "cell_type": "code",
   "execution_count": null,
   "metadata": {},
   "outputs": [],
   "source": [
    "maxinfo, category, region = [], [], []\n",
    "for reg, reg_name in zip([itc, pfc], ['ITC', 'PFC']):\n",
    "    for cat in itc.keys():\n",
    "        X = smooth(reg[cat], sigma=2.5)\n",
    "        X = X[:, (tim > 0) & (tim <= 250)] - X[:, (tim < 0) & (tim >= -100)].mean(1).reshape(-1, 1)\n",
    "        maxinfo.extend(X.max(1))\n",
    "        category.extend(np.full(X.shape[0], fill_value=cat, dtype=object))\n",
    "        region.extend(np.full(X.shape[0], fill_value=reg_name, dtype=object))"
   ]
  },
  {
   "cell_type": "code",
   "execution_count": null,
   "metadata": {},
   "outputs": [],
   "source": [
    "cm = 1 / 2.54\n",
    "fig, ax = plt.subplots(1, 1, figsize=(6 * cm, 4 * cm), dpi=200, sharey=False)\n",
    "\n",
    "df = pd.DataFrame({'maxinfo': np.array(maxinfo) / 50 * 1000, 'category': category, 'region': region})\n",
    "g = sns.barplot(x='category', y='maxinfo', hue='region', ci=68, data=df, ax=ax)\n",
    "\n",
    "ax.legend(frameon=False, fontsize=5)\n",
    "ax.tick_params(axis='both', which='major', labelsize=5)\n",
    "# ax.set_title('Maximum Information', fontsize=7)\n",
    "ax.set_xlabel('category', fontsize=5)\n",
    "ax.set_ylabel('maximum info (bit/sec)', fontsize=5)\n",
    "\n",
    "sns.despine()\n",
    "fig.tight_layout()"
   ]
  },
  {
   "cell_type": "code",
   "execution_count": null,
   "metadata": {},
   "outputs": [],
   "source": [
    "maxinfo, category, region = [], [], []\n",
    "for reg, reg_name in zip([itc, pfc], ['ITC', 'PFC']):\n",
    "    for cat in itc.keys():\n",
    "        X = smooth(reg[cat], sigma=2.5)\n",
    "        X = X[:, (tim > 0) & (tim <= 250)] - X[:, (tim < 0) & (tim >= -100)].mean(1).reshape(-1, 1)\n",
    "        maxinfo.extend(X.max(1))\n",
    "        category.extend(np.full(X.shape[0], fill_value=cat, dtype=object))\n",
    "        region.extend(np.full(X.shape[0], fill_value=reg_name, dtype=object))"
   ]
  },
  {
   "cell_type": "code",
   "execution_count": null,
   "metadata": {},
   "outputs": [],
   "source": [
    "maxinfo, category, region = [], [], []\n",
    "for reg, reg_name in zip([itc, pfc], ['ITC', 'PFC']):\n",
    "    for cat in itc.keys():\n",
    "        X = smooth(reg[cat], sigma=2.5)\n",
    "        X = X[:, (tim > 0) & (tim <= 250)] - X[:, (tim < 0) & (tim >= -50)].mean(1).reshape(-1, 1)\n",
    "        maxinfo.extend(X.max(1))\n",
    "        category.extend(np.full(X.shape[0], fill_value=cat, dtype=object))\n",
    "        region.extend(np.full(X.shape[0], fill_value=reg_name, dtype=object))"
   ]
  },
  {
   "cell_type": "code",
   "execution_count": null,
   "metadata": {},
   "outputs": [],
   "source": [
    "plt.plot(tim, pfc['artificial'].T, color='k', alpha=.05);"
   ]
  }
 ],
 "metadata": {
  "kernelspec": {
   "display_name": "Python 3.8.12 ('ipm')",
   "language": "python",
   "name": "python3"
  },
  "language_info": {
   "codemirror_mode": {
    "name": "ipython",
    "version": 3
   },
   "file_extension": ".py",
   "mimetype": "text/x-python",
   "name": "python",
   "nbconvert_exporter": "python",
   "pygments_lexer": "ipython3",
   "version": "3.8.12"
  },
  "orig_nbformat": 4,
  "vscode": {
   "interpreter": {
    "hash": "dda83d13db9bd4f7e861241b49178a983af21559d6d065c8fa5d96bc0691cfcb"
   }
  }
 },
 "nbformat": 4,
 "nbformat_minor": 2
}
