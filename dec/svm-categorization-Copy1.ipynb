{
 "cells": [
  {
   "cell_type": "code",
   "execution_count": 1,
   "id": "f56729ff-4453-4b92-8547-61a8fdf058e2",
   "metadata": {},
   "outputs": [],
   "source": [
    "import os\n",
    "\n",
    "import numpy as np\n",
    "from tqdm.notebook import tqdm\n",
    "from matplotlib import pyplot as plt\n",
    "import seaborn as sns\n",
    "import pandas as pd\n",
    "import numpy_indexed as npi\n",
    "from scipy.io import loadmat\n",
    "\n",
    "from src.ipm import NeuronLoader, grablabels\n",
    "from src.metrics import sepind\n",
    "\n",
    "from imblearn.under_sampling import RandomUnderSampler as rus\n",
    "from scipy.ndimage import gaussian_filter1d as smooth\n",
    "\n",
    "from sklearn.preprocessing import StandardScaler\n",
    "from sklearn.decomposition import PCA\n",
    "from sklearn.svm import SVC\n",
    "from sklearn.metrics import confusion_matrix, roc_auc_score\n",
    "from sklearn.pipeline import make_pipeline\n",
    "from sklearn.model_selection import train_test_split as tts\n",
    "from sklearn.metrics import recall_score"
   ]
  },
  {
   "cell_type": "code",
   "execution_count": 2,
   "id": "c994947c-3cd8-4c40-9cab-ca1b1bc91c40",
   "metadata": {},
   "outputs": [],
   "source": [
    "fontsize = 28\n",
    "titlefontsize = 36\n",
    "make_smooth = True\n",
    "sns.set_palette(\"Set2\")"
   ]
  },
  {
   "cell_type": "markdown",
   "id": "933868fc-ffc2-4080-b6fa-e0bf77f954db",
   "metadata": {
    "tags": []
   },
   "source": [
    "# Ordinal"
   ]
  },
  {
   "cell_type": "markdown",
   "id": "d454ad9d-6818-4239-a034-afa6860b0fda",
   "metadata": {
    "tags": []
   },
   "source": [
    "## Functions"
   ]
  },
  {
   "cell_type": "code",
   "execution_count": null,
   "id": "00c7891b-c4d5-4f05-a8da-f3b456628ac0",
   "metadata": {},
   "outputs": [],
   "source": [
    "def mkeqdata(data, groups, n, seed=0):\n",
    "    np.random.seed(seed)\n",
    "    ind0 = np.random.choice(np.argwhere(groups==0).squeeze(), size=n, replace=False)\n",
    "    ind1 = np.random.choice(np.argwhere(groups==1).squeeze(), size=n, replace=False)\n",
    "    \n",
    "    X = np.concatenate([data[ind0], data[ind1]], axis=0)\n",
    "    y = np.concatenate([np.zeros_like(ind0), np.ones_like(ind1)])\n",
    "    return X, y"
   ]
  },
  {
   "cell_type": "code",
   "execution_count": null,
   "id": "eed61aa6-bdad-427b-ba8e-0822a5b770a6",
   "metadata": {},
   "outputs": [],
   "source": [
    "def initmetric(nmb_bin, nmb_rep):\n",
    "    cfn = np.nan * np.ones([2, 2, nmb_bin, nmb_rep])\n",
    "    dth = np.nan * np.ones([nmb_bin, nmb_rep])\n",
    "    dpr = np.nan * np.ones([nmb_bin, nmb_rep])\n",
    "    auc = np.nan * np.ones([nmb_bin, nmb_rep])\n",
    "    return cfn, dth, dpr, auc"
   ]
  },
  {
   "cell_type": "code",
   "execution_count": null,
   "id": "e0e99e65-aeca-4102-8672-ad4e27058f70",
   "metadata": {},
   "outputs": [],
   "source": [
    "def calcmetric(mdl, X_test, y_test):\n",
    "    y_pred = mdl.predict(X_test)\n",
    "    y_prob = mdl.predict_proba(X_test)\n",
    "    dist = mdl['svc'].decision_function(X_test) / np.linalg.norm(mdl['svc'].coef_)\n",
    "    d0, d1 = dist[y_test==0], dist[y_test==1]\n",
    "    \n",
    "    cfn = confusion_matrix(y_test, y_pred, labels=[0, 1], sample_weight=None, normalize=None)\n",
    "    dth = np.abs(d0.mean() - d1.mean())\n",
    "    dpr = np.sqrt(2) * np.abs(d0.mean() - d1.mean()) / np.sqrt(d0.var() + d1.var())\n",
    "    auc = roc_auc_score(y_test, y_prob[:, 1])\n",
    "    \n",
    "    return cfn, dth, dpr, auc"
   ]
  },
  {
   "cell_type": "code",
   "execution_count": null,
   "id": "38705cda-6528-4b0e-98cb-b8b6de06379c",
   "metadata": {},
   "outputs": [],
   "source": [
    "def savemetric(path: str, prefix: str, cfn: np.array, dth: np.array, dpr: np.array, auc: np.array) -> None:\n",
    "    np.save(os.path.join(path, prefix + '-cfn.npy'), cfn)\n",
    "    np.save(os.path.join(path, prefix + '-dth.npy'), dth)\n",
    "    np.save(os.path.join(path, prefix + '-dpr.npy'), dpr)\n",
    "    np.save(os.path.join(path, prefix + '-auc.npy'), auc)"
   ]
  },
  {
   "cell_type": "code",
   "execution_count": null,
   "id": "6c3abbc4-12b6-4a12-956e-de0f2af5e55a",
   "metadata": {},
   "outputs": [],
   "source": [
    "nmb_component = .95\n",
    "nmb_rep = 200\n",
    "\n",
    "for monkey in [\"both\"]:\n",
    "    for selectivity in [\"fast\"]:\n",
    "        data = NeuronLoader(f'G:/Data/{selectivity.capitalize()}/{monkey.capitalize()}')\n",
    "        out_path  = f'G:\\\\Codes\\\\Processing\\\\out\\\\svm\\\\{monkey.lower()}-{selectivity.lower()}'\n",
    "        os.makedirs(out_path, exist_ok=True)\n",
    "        \n",
    "        for region in ['it', 'pfc']:\n",
    "            region_data = data.it if region=='it' else data.pfc\n",
    "\n",
    "            for categ in ['super-ordinate', 'mid-level']:\n",
    "                nmb_bin = data.it.shape[2]\n",
    "                cfn, dth, dpr, auc = initmetric(nmb_bin, nmb_rep)\n",
    "                \n",
    "                yc = grablabels(hierarchy=categ)\n",
    "                nmb_sample = np.min([(yc==0).sum(), (yc==1).sum()])\n",
    "\n",
    "                for seed in (pbar := tqdm(range(nmb_rep))):\n",
    "                    pbar.set_description(monkey+\"-\"+selectivity+\"-\"+region+\"-\"+categ)\n",
    "                    X, y = mkeqdata(region_data, yc, nmb_sample, seed=seed)\n",
    "\n",
    "                    for ibin in range(data.it.shape[2]):\n",
    "                        pca = PCA(n_components=None if nmb_component==-1 else nmb_component, \n",
    "                                  copy=True, whiten=False, svd_solver='auto', random_state=seed)\n",
    "                        Xr = pca.fit_transform(X[:,:,ibin])\n",
    "                        X_train, X_test, y_train, y_test = tts(Xr, y, test_size=.3,\n",
    "                                                               random_state=seed, shuffle=True, stratify=y)\n",
    "                        mdl = make_pipeline(StandardScaler(), SVC(C=2.4, probability=True, kernel='linear', \n",
    "                                                                  random_state=seed)).fit(X_train, y_train)\n",
    "                        \n",
    "                        cfn[:,:,ibin,seed], dth[ibin,seed], dpr[ibin,seed], auc[ibin,seed] = calcmetric(mdl, X_test, y_test)\n",
    "                \n",
    "                savemetric(out_path, region.lower() + \"-\" + categ, cfn, dth, dpr, auc)"
   ]
  },
  {
   "cell_type": "markdown",
   "id": "b1eb31c2-e094-40f9-99c1-28763955930b",
   "metadata": {
    "tags": []
   },
   "source": [
    "## Calculate the Metrics for All Parts of Data"
   ]
  },
  {
   "cell_type": "code",
   "execution_count": null,
   "id": "48df56f4-5efc-4434-a3d7-4501941f3806",
   "metadata": {},
   "outputs": [],
   "source": [
    "nmb_component = .95\n",
    "nmb_rep = 200\n",
    "\n",
    "for monkey in [\"jenab\", \"zebel\", \"both\"]:\n",
    "    for selectivity in [\"fast\", \"slow\"]:\n",
    "        data = NeuronLoader(f'G:/Data/{selectivity.capitalize()}/{monkey.capitalize()}')\n",
    "        out_path  = f'G:\\\\Codes\\\\Processing\\\\out\\\\svm\\\\{monkey.lower()}-{selectivity.lower()}'\n",
    "        os.makedirs(out_path, exist_ok=True)\n",
    "        \n",
    "        for region in ['it', 'pfc']:\n",
    "            region_data = data.it if region=='it' else data.pfc\n",
    "\n",
    "            for categ in ['super-ordinate', 'mid-level']:\n",
    "                print(monkey+\"-\"+selectivity+\"-\"+region+\"-\"+categ)\n",
    "                nmb_bin = data.it.shape[2]\n",
    "                cfn, dth, dpr, auc = initmetric(nmb_bin, nmb_rep)\n",
    "                \n",
    "                yc = grablabels(hierarchy=categ)\n",
    "                nmb_sample = np.min([(yc==0).sum(), (yc==1).sum()])\n",
    "\n",
    "                for seed in range(nmb_rep):\n",
    "                    X, y = mkeqdata(region_data, yc, nmb_sample, seed=seed)\n",
    "\n",
    "                    for ibin in range(data.it.shape[2]):\n",
    "                        pca = PCA(n_components=None if nmb_component==-1 else nmb_component, \n",
    "                                  copy=True, whiten=False, svd_solver='auto', random_state=seed)\n",
    "                        Xr = pca.fit_transform(X[:,:,ibin])\n",
    "                        X_train, X_test, y_train, y_test = tts(Xr, y, test_size=.3,\n",
    "                                                               random_state=seed, shuffle=True, stratify=y)\n",
    "                        mdl = make_pipeline(StandardScaler(), SVC(C=2.4, probability=True, kernel='linear', \n",
    "                                                                  random_state=seed)).fit(X_train, y_train)\n",
    "                        \n",
    "                        cfn[:,:,ibin,seed], dth[ibin,seed], dpr[ibin,seed], auc[ibin,seed] = calcmetric(mdl, X_test, y_test)\n",
    "                \n",
    "                savemetric(out_path, region.lower() + \"-\" + categ, cfn, dth, dpr, auc)"
   ]
  },
  {
   "cell_type": "code",
   "execution_count": null,
   "id": "f0b9822b",
   "metadata": {},
   "outputs": [],
   "source": [
    "os.path.join(out_path, f\"{region}-{statistic}.jpg\")\n",
    "region"
   ]
  },
  {
   "cell_type": "code",
   "execution_count": null,
   "id": "f3aa34c5",
   "metadata": {},
   "outputs": [],
   "source": [
    "monkey = 'both'\n",
    "selectivity = 'fast'\n",
    "region = 'it'\n",
    "\n",
    "# for statistic in ['dth', 'dpr', 'auc']:\n",
    "#     out_path = f\"G:\\\\Codes\\\\Processing\\\\out\\\\svm\\\\{monkey.lower()}-{selectivity.lower()}\"\n",
    "#     data = NeuronLoader(f'G:/Data/{selectivity.capitalize()}/{monkey.capitalize()}')\n",
    "\n",
    "#     fig, axs = plt.subplots(1, 2, figsize=np.array([32, 9]), dpi=50)\n",
    "#     sns.despine()\n",
    "\n",
    "#     for iregion, (ax, region) in enumerate(zip(axs, [\"it\", \"pfc\"])):\n",
    "#         ml = np.load(os.path.join(out_path, f'{region.lower()}-mid-level-{statistic}.npy'))\n",
    "#         so = np.load(os.path.join(out_path, f'{region.lower()}-super-ordinate-{statistic}.npy'))\n",
    "\n",
    "#         for metric, va in zip([so, ml], [\"top\", \"bottom\"]):\n",
    "#             metric = metric if not make_smooth else np.transpose(smooth(np.transpose(metric), sigma=3))\n",
    "#             anot = metric.mean(1).max()\n",
    "#             metric /= np.array([so.mean(1), ml.mean(1)]).max()\n",
    "#             metric -= metric[(data.time > -50) & (data.time <= 0), :].mean()\n",
    "#             ax.plot(data.time, metric.mean(1), lw=5)\n",
    "#             ax.fill_between(data.time, metric.mean(1) + metric.std(1), metric.mean(1) - metric.std(1), label='_nolegend_', alpha=.25)\n",
    "#             ax.annotate(f\"{int(data.time[metric.mean(1).argmax()])}, {anot:.1f}\", \n",
    "#                         xy=(data.time[metric.mean(1).argmax()], metric.mean(1).max()), \n",
    "#                         xycoords='data', fontsize=18, \n",
    "#                         horizontalalignment='center',\n",
    "#                         verticalalignment=va)\n",
    "#         ax.set_title(region.upper(), fontsize=fontsize)    \n",
    "#         ax.legend([\"Super-Ordinate\", \"Mid-Level\"], frameon=False, fontsize=fontsize)\n",
    "#         ax.axvline(x=0, color='tab:gray', linestyle='dashed', label='_nolegend_')\n",
    "#         ax.axvline(x=50 if selectivity==\"fast\" else 250, color='tab:gray', linestyle='dashed', label='_nolegend_')    \n",
    "#         ax.set_xlim(-50, 550)\n",
    "#         ax.set_xlabel('time (ms)', fontsize=fontsize)\n",
    "#         ax.tick_params(axis='both', which='major', labelsize=fontsize)\n",
    "\n",
    "#     if statistic == 'dth':\n",
    "#         fig.suptitle(f'Absolute Difference of Mean Distances from SVM\\'s Hyperplane', fontsize=titlefontsize)\n",
    "#         axs[0].set_ylabel(r'$\\sqrt{2} \\times |\\mu_1-\\mu_2|}$', fontsize=fontsize)\n",
    "#     elif statistic == 'dpr':\n",
    "#         fig.suptitle(f\"d' of Distances from SVM\\'s Hyperplane\", fontsize=titlefontsize)\n",
    "#         axs[0].set_ylabel(r'$\\frac{\\sqrt{2} \\times |\\mu_1-\\mu_2|}{\\sqrt{\\sigma_1^2+\\sigma_2^2}} $', fontsize=fontsize)\n",
    "#     elif statistic == 'auc':\n",
    "#         fig.suptitle(f'Area under Receptive-Operating Curve', fontsize=titlefontsize)\n",
    "#         axs[0].set_ylabel(r'$S_{ROC}$', fontsize=fontsize)\n",
    "\n",
    "#     fig.tight_layout()\n",
    "#     # fig.savefig(os.path.join(out_path, f\"{statistic}.eps\"), format='eps')\n",
    "#     fig.savefig(os.path.join(out_path, f\"{statistic}.jpg\"), dpi=600)\n",
    "\n",
    "statistic = 'cfn'\n",
    "out_path = f\"G:\\\\Codes\\\\Processing\\\\out\\\\svm\\\\{monkey.lower()}-{selectivity.lower()}\"\n",
    "\n",
    "fig, axs = plt.subplots(1, 2, figsize=np.array([32, 9]), dpi=50)\n",
    "sns.despine()\n",
    "\n",
    "for iregion, (ax, region) in enumerate(zip(axs, [\"it\", \"pfc\"])):\n",
    "    ml = np.load(os.path.join(out_path, f'{region.lower()}-mid-level-{statistic}.npy'))\n",
    "    so = np.load(os.path.join(out_path, f'{region.lower()}-super-ordinate-{statistic}.npy'))\n",
    "\n",
    "    ml = np.trace(ml, axis1=0, axis2=1) / ml.sum((0, 1))\n",
    "    so = np.trace(so, axis1=0, axis2=1) / so.sum((0, 1))\n",
    "\n",
    "    for metric, va in zip([so, ml], [\"top\", \"bottom\"]):\n",
    "        metric = metric if not make_smooth else np.transpose(smooth(np.transpose(metric), sigma=10))\n",
    "        # anot = metric.mean(1).max()\n",
    "        # metric /= np.array([so.mean(1), ml.mean(1)]).max()\n",
    "        # metric -= metric[(data.time > -50) & (data.time <= 0), :].mean()\n",
    "        ax.plot(data.time, metric.mean(1), lw=5)\n",
    "        ax.fill_between(data.time, metric.mean(1) + metric.std(1), metric.mean(1) - metric.std(1), label='_nolegend_', alpha=.25)\n",
    "        # ax.annotate(f\"{int(data.time[metric.mean(1).argmax()])}, {anot:.1f}\", \n",
    "        #             xy=(data.time[metric.mean(1).argmax()], metric.mean(1).max()), \n",
    "        #             xycoords='data', fontsize=18, \n",
    "        #             horizontalalignment='center',\n",
    "        #             verticalalignment=va)\n",
    "    ax.set_title(region.upper(), fontsize=fontsize)    \n",
    "    ax.legend([\"Super-Ordinate\", \"Mid-Level\"], frameon=False, fontsize=fontsize)\n",
    "    ax.axvline(x=0, color='tab:gray', linestyle='dashed', label='_nolegend_')\n",
    "    ax.axvline(x=50 if selectivity==\"fast\" else 250, color='tab:gray', linestyle='dashed', label='_nolegend_')    \n",
    "    ax.set_xlim(-50, 550)\n",
    "    ax.set_xlabel('time (ms)', fontsize=fontsize)\n",
    "    ax.tick_params(axis='both', which='major', labelsize=fontsize)\n",
    "\n",
    "fig.suptitle(f'Decoder Accuracy', fontsize=titlefontsize)\n",
    "axs[0].set_ylabel(r'CCR (ratio)', fontsize=fontsize)\n",
    "\n",
    "fig.tight_layout()\n",
    "# fig.savefig(os.path.join(out_path, f\"{statistic}.eps\"), format='eps')\n",
    "fig.savefig(os.path.join(out_path, f\"{statistic}.jpg\"), dpi=600)"
   ]
  },
  {
   "cell_type": "code",
   "execution_count": null,
   "id": "62cd6867-4268-4beb-976c-404e0911b4b9",
   "metadata": {},
   "outputs": [],
   "source": [
    "for monkey in ['zebel', 'jenab', 'both']:\n",
    "    for selectivity in ['fast', 'slow']:\n",
    "        for statistic in ['dth', 'dpr', 'auc']:\n",
    "            out_path = f\"G:\\\\Codes\\\\Processing\\\\out\\\\svm\\\\{monkey.lower()}-{selectivity.lower()}\"\n",
    "            data = NeuronLoader(f'G:/Data/{selectivity.capitalize()}/{monkey.capitalize()}')\n",
    "\n",
    "            fig, axs = plt.subplots(1, 2, figsize=np.array([32, 9]), dpi=50)\n",
    "            sns.despine()\n",
    "\n",
    "            for iregion, (ax, region) in enumerate(zip(axs, [\"it\", \"pfc\"])):\n",
    "                ml = np.load(os.path.join(out_path, f'{region.lower()}-mid-level-{statistic}.npy'))\n",
    "                so = np.load(os.path.join(out_path, f'{region.lower()}-super-ordinate-{statistic}.npy'))\n",
    "\n",
    "                for metric, va in zip([so, ml], [\"top\", \"bottom\"]):\n",
    "                    metric = metric if not make_smooth else np.transpose(smooth(np.transpose(metric), sigma=3))\n",
    "                    anot = metric.mean(1).max()\n",
    "                    metric /= np.array([so.mean(1), ml.mean(1)]).max()\n",
    "                    metric -= metric[(data.time > -50) & (data.time <= 0), :].mean()\n",
    "                    ax.plot(data.time, metric.mean(1), lw=5)\n",
    "                    ax.fill_between(data.time, metric.mean(1) + metric.std(1), metric.mean(1) - metric.std(1), label='_nolegend_', alpha=.25)\n",
    "                    ax.annotate(f\"{int(data.time[metric.mean(1).argmax()])}, {anot:.1f}\", \n",
    "                                xy=(data.time[metric.mean(1).argmax()], metric.mean(1).max()), \n",
    "                                xycoords='data', fontsize=18, \n",
    "                                horizontalalignment='center',\n",
    "                                verticalalignment=va)\n",
    "                ax.set_title(region.upper(), fontsize=fontsize)    \n",
    "                ax.legend([\"Super-Ordinate\", \"Mid-Level\"], frameon=False, fontsize=fontsize)\n",
    "                ax.axvline(x=0, color='tab:gray', linestyle='dashed', label='_nolegend_')\n",
    "                ax.axvline(x=50 if selectivity==\"fast\" else 250, color='tab:gray', linestyle='dashed', label='_nolegend_')    \n",
    "                ax.set_xlim(-50, 550)\n",
    "                ax.set_xlabel('time (ms)', fontsize=fontsize)\n",
    "                ax.tick_params(axis='both', which='major', labelsize=fontsize)\n",
    "\n",
    "            if statistic == 'dth':\n",
    "                fig.suptitle(f'Absolute Difference of Mean Distances from SVM\\'s Hyperplane in {region.upper()}', fontsize=titlefontsize)\n",
    "                axs[0].set_ylabel(r'$\\sqrt{2} \\times |\\mu_1-\\mu_2|}$', fontsize=fontsize)\n",
    "            elif statistic == 'dpr':\n",
    "                fig.suptitle(f\"d' of Distances from SVM\\'s Hyperplane in {region.upper()}\", fontsize=titlefontsize)\n",
    "                axs[0].set_ylabel(r'$\\frac{\\sqrt{2} \\times |\\mu_1-\\mu_2|}{\\sqrt{\\sigma_1^2+\\sigma_2^2}} $', fontsize=fontsize)\n",
    "            elif statistic == 'auc':\n",
    "                fig.suptitle(f'Area under Receptive-Operating Curve in {region.upper()}', fontsize=titlefontsize)\n",
    "                axs[0].set_ylabel(r'$S_{ROC}$', fontsize=fontsize)\n",
    "\n",
    "            fig.tight_layout()\n",
    "            fig.savefig(os.path.join(out_path, f\"{statistic}.eps\"), format='eps')\n",
    "            fig.savefig(os.path.join(out_path, f\"{statistic}.jpg\"))"
   ]
  },
  {
   "cell_type": "code",
   "execution_count": null,
   "id": "c8467897-a0b1-45e4-a4f1-3f4697674461",
   "metadata": {},
   "outputs": [],
   "source": [
    "metric[(data.time > -50) & (data.time <= 0), :].mean()"
   ]
  },
  {
   "cell_type": "code",
   "execution_count": null,
   "id": "4fe2fbe0-0ba1-4484-880e-7bfd712841d3",
   "metadata": {},
   "outputs": [],
   "source": [
    "f'G:/Data/{selectivity.capitalize()}/{monkey.capitalize()}'"
   ]
  },
  {
   "cell_type": "markdown",
   "id": "4e4238fe-41fa-4c54-876b-d6dea88d1fb0",
   "metadata": {
    "jp-MarkdownHeadingCollapsed": true,
    "tags": []
   },
   "source": [
    "## Jenab - Slow"
   ]
  },
  {
   "cell_type": "code",
   "execution_count": null,
   "id": "f5b8dfb1-e44c-48e8-917f-83b357a59ff8",
   "metadata": {},
   "outputs": [],
   "source": [
    "for region in ['it', 'pfc']:\n",
    "    region_data = data.it if region=='it' else data.pfc\n",
    "\n",
    "    for categ in ['super-ordinate', 'mid-level']: \n",
    "        confusion = np.nan * np.ones([2, 2, data.it.shape[2], nmb_rep])\n",
    "        dth = np.nan * np.ones([data.it.shape[2], nmb_rep])\n",
    "        dpr = np.nan * np.ones([data.it.shape[2], nmb_rep])\n",
    "        auc = np.nan * np.ones([data.it.shape[2], nmb_rep])\n",
    "        yc = grablabels(hierarchy=categ)\n",
    "        nmb_sample = np.min([(yc==0).sum(), (yc==1).sum()])\n",
    "\n",
    "        for seed in tqdm(range(nmb_rep)):\n",
    "            X, y = mkeqdata(region_data, yc, nmb_sample, seed=seed)\n",
    "\n",
    "            for ibin in range(data.it.shape[2]):\n",
    "                pca = PCA(n_components=None if nmb_component==-1 else nmb_component, copy=True, whiten=False, svd_solver='auto', random_state=seed)\n",
    "                Xr = pca.fit_transform(X[:,:,ibin])\n",
    "                X_train, X_test, y_train, y_test = train_test_split(Xr, y, test_size=.3,\n",
    "                                                                    random_state=seed, shuffle=True, stratify=y)\n",
    "                mdl = make_pipeline(StandardScaler(), SVC(C=2.4, probability=True, kernel='linear', random_state=seed)).fit(X_train, y_train)\n",
    "                y_pred = mdl.predict(X_test)\n",
    "                y_prob = mdl.predict_proba(X_test)\n",
    "\n",
    "                confusion[:, :, ibin, seed] = confusion_matrix(y_test, y_pred, labels=[0, 1], sample_weight=None, normalize=None)\n",
    "                dist = mdl.decision_function(X_test) / np.linalg.norm(mdl['svc'].coef_)\n",
    "                d0, d1 = dist[y_test==0], dist[y_test==1]\n",
    "                dth[ibin, seed] = np.abs(d0.mean() - d1.mean())\n",
    "                dpr[ibin, seed] = np.sqrt(2) * np.abs(d0.mean() - d1.mean()) / np.sqrt(d0.var() + d1.var())\n",
    "                auc[ibin, seed] = roc_auc_score(y_test, y_prob[:, 1])\n",
    "\n",
    "        np.save(os.path.join(out_path, region.lower() + \"-\" + categ + '-cm.npy'), confusion)\n",
    "        np.save(os.path.join(out_path, region.lower() + \"-\" + categ + '-dth.npy'), dth)\n",
    "        np.save(os.path.join(out_path, region.lower() + \"-\" + categ + '-dpr.npy'), dpr)\n",
    "        np.save(os.path.join(out_path, region.lower() + \"-\" + categ + '-auc.npy'), auc)"
   ]
  },
  {
   "cell_type": "code",
   "execution_count": null,
   "id": "33785c14-860e-4154-9b82-3bef44130f27",
   "metadata": {},
   "outputs": [],
   "source": [
    "out_path"
   ]
  },
  {
   "cell_type": "code",
   "execution_count": null,
   "id": "137ce824-1db6-4177-9cf4-a4fd84d37615",
   "metadata": {},
   "outputs": [],
   "source": [
    "fig, axs = plt.subplots(1, 2, figsize=np.array([32, 9]), dpi=50)\n",
    "sns.despine()\n",
    "\n",
    "for iregion, region in enumerate([\"it\", \"pfc\"]):\n",
    "    ml = np.load(os.path.join(out_path, f'{region.lower()}-mid-level-dpr.npy'))\n",
    "    so = np.load(os.path.join(out_path, f'{region.lower()}-super-ordinate-dth.npy'))\n",
    "    \n",
    "    for metric in [so, ml]:\n",
    "        metric = metric if not make_smooth else np.transpose(smooth(np.transpose(metric), sigma=3))\n",
    "        axs[iregion].plot(data.time, metric.mean(1), lw=5)\n",
    "        axs[iregion].fill_between(data.time, metric.mean(1) + metric.std(1), metric.mean(1) - metric.std(1), label='_nolegend_', alpha=.25)\n",
    "\n",
    "for ax in axs:\n",
    "    ax.axvline(x=0, color='tab:gray', linestyle='dashed', label='_nolegend_')\n",
    "    ax.axvline(x=50, color='tab:gray', linestyle='dashed', label='_nolegend_')    \n",
    "    ax.axvline(x=250, color='tab:gray', linestyle='dashed', label='_nolegend_')\n",
    "    ax.legend([\"Super-Ordinate\", \"Mid-Level\"], frameon=False, fontsize=fontsize)\n",
    "    ax.set_xlim(-50, 400)\n",
    "    ax.set_title(f'Distance from SVM\\'s Hyperplane in {region.upper()}', fontsize=titlefontsize)\n",
    "    ax.set_xlabel('time (ms)', fontsize=fontsize)\n",
    "    ax.set_ylabel(r'$|\\frac{1}{n}\\sum_{i}d_i - \\frac{1}{n}\\sum_{j}d_j|$', fontsize=fontsize)\n",
    "    ax.tick_params(axis='both', which='major', labelsize=fontsize)\n",
    "    plt.setp(ax.spines.values(), linewidth=2);\n",
    "\n",
    "# plt.savefig(os.path.join(out_path, f\"{region.upper()}-ordinal-dth.png\"), dpi=600)\n",
    "# plt.savefig(os.path.join(out_path, f\"{region.upper()}-ordinal-dth.jpg\"), dpi=600)"
   ]
  },
  {
   "cell_type": "markdown",
   "id": "6f76e15f-803e-48e1-88a3-6fb404c0f4d8",
   "metadata": {
    "jp-MarkdownHeadingCollapsed": true,
    "tags": []
   },
   "source": [
    "## Zebel - Slow"
   ]
  },
  {
   "cell_type": "code",
   "execution_count": null,
   "id": "32e41418-f77f-4047-9df4-25e09ea1a4e1",
   "metadata": {},
   "outputs": [],
   "source": [
    "class NeuronReader:\n",
    "    def __init__(self, root, from_file=False):\n",
    "        self.root = root\n",
    "        self.sessioninfo = pd.read_csv(os.path.join(root, 'guide.csv'))\n",
    "        self.from_file = from_file\n",
    "        self.it = self.load('IT')\n",
    "        self.pfc = self.load('PFC')\n",
    "        self.time = np.linspace(-175, 974, self.it.shape[2])\n",
    "\n",
    "    def load(self, region):\n",
    "        reg = self.sessioninfo['unit id'].str.split(\"/\").map(lambda x: x[0])\n",
    "        nunit, nstim = (reg==region.upper()).sum(), 165\n",
    "        nsample = loadmat(self.sessioninfo['file path'][0])['ua'].shape[1]\n",
    "        data = np.nan * np.zeros([nstim, nunit, nsample])\n",
    "\n",
    "        if self.from_file or ~os.path.isfile(os.path.join(self.root, f'{region}.npy')):\n",
    "            for iunit, fpath in enumerate(self.sessioninfo.loc[reg==region.upper()]['file path']):\n",
    "                ua = loadmat(fpath)['ua']\n",
    "                cm = loadmat(os.path.join(os.path.dirname(fpath), 'cm.mat'))['cm']\n",
    "                if cm.size > ua.shape[0]:\n",
    "                    cm = cm[:ua.shape[0]]\n",
    "                for istim in np.arange(1, nstim + 1, 1):\n",
    "                    data[istim-1, iunit, :] = ua[(cm == istim).squeeze(), :].mean(0)\n",
    "            out = self.movavg(data, 50, 1)\n",
    "            np.save(os.path.join(self.root, f'{region}.npy'), out)\n",
    "        else:\n",
    "            out = np.load(os.path.join(self.root, f'{region}.npy'))\n",
    "        return out\n",
    "    \n",
    "    def movavg(self, inp, bl, ss):\n",
    "        nbin = int(np.floor((inp.shape[2] - bl) / ss))\n",
    "        out = np.nan * np.zeros((inp.shape[0], inp.shape[1], nbin))\n",
    "        for ibin in range(nbin):\n",
    "            out[:, :, ibin] = np.sum(inp[:, :, int(ibin*ss):int(ibin*ss)+bl], 2) / bl * 1000\n",
    "        return out\n",
    "    \n",
    "data = NeuronReader(f'G:/Data/Slow/Zebel', from_file=True)"
   ]
  },
  {
   "cell_type": "code",
   "execution_count": null,
   "id": "9e1903f0-ef60-4472-a184-f648fcd330b8",
   "metadata": {},
   "outputs": [],
   "source": [
    "def mkeqdata(data, groups, n, seed=0):\n",
    "    np.random.seed(seed)\n",
    "    ind0 = np.random.choice(np.argwhere(groups==0).squeeze(), size=n, replace=False)\n",
    "    ind1 = np.random.choice(np.argwhere(groups==1).squeeze(), size=n, replace=False)\n",
    "    \n",
    "    X = np.concatenate([data[ind0], data[ind1]], axis=0)\n",
    "    y = np.concatenate([np.zeros_like(ind0), np.ones_like(ind1)])\n",
    "    return X, y"
   ]
  },
  {
   "cell_type": "code",
   "execution_count": null,
   "id": "1516950f-6a11-491c-92d8-b84f54f2e5bb",
   "metadata": {},
   "outputs": [],
   "source": [
    "monkey = \"zebel\"\n",
    "selectivity = \"slow\"\n",
    "\n",
    "out_path  = f'G:\\\\Codes\\\\Processing\\\\out\\\\svm\\\\ordinal\\\\{monkey}-{selectivity}'\n",
    "os.makedirs(out_path, exist_ok=True)\n",
    "\n",
    "nmb_component = .95\n",
    "nmb_rep = 200"
   ]
  },
  {
   "cell_type": "code",
   "execution_count": null,
   "id": "a7b8a190-ecc9-43cc-8015-8f604880d01d",
   "metadata": {},
   "outputs": [],
   "source": [
    "for region in ['it', 'pfc']:\n",
    "    region_data = data.it if region=='it' else data.pfc\n",
    "\n",
    "    for categ in ['super-ordinate', 'mid-level']: \n",
    "        confusion = np.nan * np.ones([2, 2, data.it.shape[2], nmb_rep])\n",
    "        dth = np.nan * np.ones([data.it.shape[2], nmb_rep])\n",
    "\n",
    "        yc = grablabels(hierarchy=categ)\n",
    "        nmb_sample = np.min([(yc==0).sum(), (yc==1).sum()])\n",
    "\n",
    "        for seed in tqdm(range(nmb_rep)):\n",
    "            X, y = mkeqdata(region_data, yc, nmb_sample, seed=seed)\n",
    "\n",
    "            for ibin in range(data.it.shape[2]):\n",
    "                pca = PCA(n_components=None if nmb_component==-1 else nmb_component, copy=True, whiten=False, svd_solver='auto', random_state=seed)\n",
    "                Xr = pca.fit_transform(X[:,:,ibin])\n",
    "                X_train, X_test, y_train, y_test = train_test_split(Xr, y, test_size=.3,\n",
    "                                                            random_state=seed, shuffle=True, stratify=y)\n",
    "                mdl = SVC(C=2.4, kernel='linear', random_state=seed).fit(X_train, y_train)\n",
    "                y_pred = mdl.predict(X_test)\n",
    "                confusion[:, :, ibin, seed] = confusion_matrix(y_test, y_pred, labels=[0, 1], sample_weight=None, normalize=None)\n",
    "\n",
    "                dist = mdl.decision_function(X_test) / np.linalg.norm(mdl.coef_)\n",
    "                dth[ibin, seed] = np.abs(dist[y_test==0].mean() - dist[y_test==1].mean())\n",
    "        np.save(os.path.join(out_path, region.lower() + \"-\" + categ + '-cm.npy'), confusion)\n",
    "        np.save(os.path.join(out_path, region.lower() + \"-\" + categ + '-dth.npy'), dth)"
   ]
  },
  {
   "cell_type": "code",
   "execution_count": null,
   "id": "c1b6dda7-9604-4dca-aa4a-74633c4039e8",
   "metadata": {},
   "outputs": [],
   "source": [
    "region = 'pfc'\n",
    "\n",
    "fontsize = 28\n",
    "titlefontsize = 36\n",
    "make_smooth = True\n",
    "sns.set_palette(\"Set2\")\n",
    "\n",
    "fig, axs = plt.subplots(1, 1, figsize=np.array([16, 9]), dpi=50)\n",
    "\n",
    "ml = np.load(os.path.join(out_path, f'{region.lower()}-mid-level-dth.npy'))\n",
    "so = np.load(os.path.join(out_path, f'{region.lower()}-super-ordinate-dth.npy'))\n",
    "\n",
    "for metric in [so, ml]:\n",
    "    metric = metric if not make_smooth else np.transpose(smooth(np.transpose(metric), sigma=3))\n",
    "    plt.plot(data.time, metric.mean(1), lw=5)\n",
    "    # plt.fill_between(time, np.percentile(acc, 5, axis=1), np.percentile(acc, 95, axis=1), label='_nolegend_', alpha=.25)\n",
    "    plt.fill_between(data.time, metric.mean(1) + metric.std(1), metric.mean(1) - metric.std(1), label='_nolegend_', alpha=.25)\n",
    "\n",
    "plt.axvline(x=0, color='tab:gray', linestyle='dashed', label='_nolegend_')\n",
    "plt.axvline(x=50, color='tab:gray', linestyle='dashed', label='_nolegend_')    \n",
    "if data.time.size==1150:\n",
    "    plt.axvline(x=250, color='tab:gray', linestyle='dashed', label='_nolegend_')\n",
    "\n",
    "sns.despine()\n",
    "axs.legend([\"Super-Ordinate\", \"Mid-Level\"], frameon=False, fontsize=fontsize)\n",
    "axs.set_xlim(-50, 400)\n",
    "plt.title(f'Distance from SVM\\'s Hyperplane in {region.upper()}', fontsize=titlefontsize)\n",
    "plt.xlabel('time (ms)', fontsize=fontsize)\n",
    "plt.ylabel(r'$|\\frac{1}{n}\\sum_{i}d_i - \\frac{1}{n}\\sum_{j}d_j|$', fontsize=fontsize)\n",
    "axs.tick_params(axis='both', which='major', labelsize=fontsize)\n",
    "plt.setp(axs.spines.values(), linewidth=2);\n",
    "\n",
    "plt.savefig(os.path.join(out_path, f\"{region.upper()}-ordinal-dth.png\"), dpi=600)\n",
    "plt.savefig(os.path.join(out_path, f\"{region.upper()}-ordinal-dth.jpg\"), dpi=600)"
   ]
  },
  {
   "cell_type": "markdown",
   "id": "5d3530aa-9816-451d-9e9d-1f6fb744ac72",
   "metadata": {
    "jp-MarkdownHeadingCollapsed": true,
    "tags": []
   },
   "source": [
    "## Jenab - Slow\n"
   ]
  },
  {
   "cell_type": "code",
   "execution_count": null,
   "id": "3795d8b9-fd46-4a43-90bc-6fcea887528f",
   "metadata": {},
   "outputs": [],
   "source": [
    "from src.ipm import NeuronReader\n",
    "\n",
    "monkey = \"jenab\"\n",
    "selectivity = \"slow\"\n",
    "\n",
    "data = NeuronReader(f'G:/Data/{selectivity.capitalize()}/{monkey.capitalize()}', from_file=True)\n",
    "\n",
    "out_path  = f'G:\\\\Codes\\\\Processing\\\\out\\\\svm\\\\ordinal\\\\{monkey}-{selectivity}'\n",
    "os.makedirs(out_path, exist_ok=True)\n",
    "\n",
    "nmb_component = .95\n",
    "nmb_rep = 200"
   ]
  },
  {
   "cell_type": "code",
   "execution_count": null,
   "id": "99d7c626-abd8-4c25-9076-ff565354cb05",
   "metadata": {},
   "outputs": [],
   "source": [
    "for region in ['it', 'pfc']:\n",
    "    region_data = data.it if region=='it' else data.pfc\n",
    "\n",
    "    for categ in ['super-ordinate', 'mid-level']: \n",
    "        confusion = np.nan * np.ones([2, 2, data.it.shape[2], nmb_rep])\n",
    "        dth = np.nan * np.ones([data.it.shape[2], nmb_rep])\n",
    "\n",
    "        yc = grablabels(hierarchy=categ)\n",
    "        nmb_sample = np.min([(yc==0).sum(), (yc==1).sum()])\n",
    "\n",
    "        for seed in tqdm(range(nmb_rep)):\n",
    "            X, y = mkeqdata(region_data, yc, nmb_sample, seed=seed)\n",
    "\n",
    "            for ibin in range(data.it.shape[2]):\n",
    "                pca = PCA(n_components=None if nmb_component==-1 else nmb_component, copy=True, whiten=False, svd_solver='auto', random_state=seed)\n",
    "                Xr = pca.fit_transform(X[:,:,ibin])\n",
    "                X_train, X_test, y_train, y_test = train_test_split(Xr, y, test_size=.3,\n",
    "                                                            random_state=seed, shuffle=True, stratify=y)\n",
    "                mdl = SVC(C=2.4, kernel='linear', random_state=seed).fit(X_train, y_train)\n",
    "                y_pred = mdl.predict(X_test)\n",
    "                confusion[:, :, ibin, seed] = confusion_matrix(y_test, y_pred, labels=[0, 1], sample_weight=None, normalize=None)\n",
    "\n",
    "                dist = mdl.decision_function(X_test) / np.linalg.norm(mdl.coef_)\n",
    "                dth[ibin, seed] = np.abs(dist[y_test==0].mean() - dist[y_test==1].mean())\n",
    "        np.save(os.path.join(out_path, region.lower() + \"-\" + categ + '-cm.npy'), confusion)\n",
    "        np.save(os.path.join(out_path, region.lower() + \"-\" + categ + '-dth.npy'), dth)"
   ]
  },
  {
   "cell_type": "code",
   "execution_count": null,
   "id": "44be0f9c-e06b-4842-b52b-f3888f5c8bfa",
   "metadata": {},
   "outputs": [],
   "source": [
    "plt.plot(data.time, dpr[:, 0])\n",
    "# plt.plot(auc[:, 0])\n",
    "dist_0.std()"
   ]
  },
  {
   "cell_type": "code",
   "execution_count": null,
   "id": "b41bee2f-190f-4946-885a-f4188816e132",
   "metadata": {},
   "outputs": [],
   "source": [
    "from sklearn.metrics import roc_auc_score\n",
    "\n",
    "roc_auc_score(y, y_pred)"
   ]
  },
  {
   "cell_type": "code",
   "execution_count": null,
   "id": "9da94168-efce-4d46-b359-22499ce0405f",
   "metadata": {},
   "outputs": [],
   "source": [
    "y_pred"
   ]
  },
  {
   "cell_type": "code",
   "execution_count": null,
   "id": "87ca4688-3ef4-4c64-977e-c6d72ffbbf86",
   "metadata": {},
   "outputs": [],
   "source": []
  },
  {
   "cell_type": "code",
   "execution_count": null,
   "id": "664ead05-575d-412b-8bc0-765f768f8430",
   "metadata": {},
   "outputs": [],
   "source": []
  },
  {
   "cell_type": "code",
   "execution_count": null,
   "id": "edc89426-a637-46f7-9886-9783d27c2670",
   "metadata": {},
   "outputs": [],
   "source": [
    "monkey = \"jenab\"\n",
    "selectivity = \"fast\"\n",
    "\n",
    "data_path = f'G:\\\\Data\\\\{selectivity.capitalize()}\\\\{monkey.capitalize()}'\n",
    "out_path  = f'G:\\\\Codes\\\\Processing\\\\out\\\\svm\\\\ordinal\\\\{monkey}-{selectivity}'\n",
    "\n",
    "nmb_component = .95\n",
    "nmb_rep = 200"
   ]
  },
  {
   "cell_type": "code",
   "execution_count": null,
   "id": "4ed7b2bb-aa90-4c94-ab04-98b5efc40c71",
   "metadata": {},
   "outputs": [],
   "source": [
    "data = NeuronReader(data_path)"
   ]
  },
  {
   "cell_type": "code",
   "execution_count": null,
   "id": "d1dbf9b7-d7b3-49f4-9a90-97710cabd616",
   "metadata": {},
   "outputs": [],
   "source": [
    "def mkeqdata(data, groups, n, seed=0):\n",
    "    np.random.seed(seed)\n",
    "    ind0 = np.random.choice(np.argwhere(groups==0).squeeze(), size=n, replace=False)\n",
    "    ind1 = np.random.choice(np.argwhere(groups==1).squeeze(), size=n, replace=False)\n",
    "    \n",
    "    X = np.concatenate([data[ind0], data[ind1]], axis=0)\n",
    "    y = np.concatenate([np.zeros_like(ind0), np.ones_like(ind1)])\n",
    "    return X, y"
   ]
  },
  {
   "cell_type": "code",
   "execution_count": null,
   "id": "49ad6105-5abd-4cec-889b-349f845cd8d7",
   "metadata": {},
   "outputs": [],
   "source": [
    "for region in ['it', 'pfc']:\n",
    "    region_data = data.it if region=='it' else data.pfc\n",
    "\n",
    "    for categ in ['super-ordinate', 'mid-level']: \n",
    "        confusion = np.nan * np.ones([2, 2, data.it.shape[2], nmb_rep])\n",
    "        dth = np.nan * np.ones([data.it.shape[2], nmb_rep])\n",
    "\n",
    "        yc = grablabels(hierarchy=categ)\n",
    "        nmb_sample = np.min([(yc==0).sum(), (yc==1).sum()])\n",
    "\n",
    "        for seed in tqdm(range(nmb_rep)):\n",
    "            X, y = mkeqdata(region_data, yc, nmb_sample, seed=seed)\n",
    "\n",
    "            for ibin in range(data.it.shape[2]):\n",
    "                pca = PCA(n_components=None if nmb_component==-1 else nmb_component, copy=True, whiten=False, svd_solver='auto', random_state=seed)\n",
    "                Xr = pca.fit_transform(X[:,:,ibin])\n",
    "                X_train, X_test, y_train, y_test = train_test_split(Xr, y, test_size=.3,\n",
    "                                                            random_state=seed, shuffle=True, stratify=y)\n",
    "                mdl = SVC(C=2.4, kernel='linear', random_state=seed).fit(X_train, y_train)\n",
    "                y_pred = mdl.predict(X_test)\n",
    "                confusion[:, :, ibin, seed] = confusion_matrix(y_test, y_pred, labels=[0, 1], sample_weight=None, normalize=None)\n",
    "\n",
    "                dist = mdl.decision_function(X_test) / np.linalg.norm(mdl.coef_)\n",
    "                dth[ibin, seed] = np.abs(dist[y_test==0].mean() - dist[y_test==1].mean())\n",
    "        np.save(os.path.join(out_path, region.lower() + \"-\" + categ + '-cm.npy'), confusion)\n",
    "        np.save(os.path.join(out_path, region.lower() + \"-\" + categ + '-dth.npy'), dth)\n"
   ]
  },
  {
   "cell_type": "code",
   "execution_count": null,
   "id": "213896f8-03c0-43d5-9aad-687a17c221cb",
   "metadata": {
    "tags": []
   },
   "outputs": [],
   "source": [
    "region = 'pfc'\n",
    "\n",
    "fontsize = 28\n",
    "titlefontsize = 36\n",
    "make_smooth = True\n",
    "sns.set_palette(\"Set2\")\n",
    "\n",
    "fig, axs = plt.subplots(1, 1, figsize=np.array([16, 9]), dpi=50)\n",
    "\n",
    "ml = np.load(os.path.join(out_path, f'{region.lower()}-mid-level-dth.npy'))\n",
    "so = np.load(os.path.join(out_path, f'{region.lower()}-super-ordinate-dth.npy'))\n",
    "\n",
    "for metric in [so, ml]:\n",
    "    metric = metric if not make_smooth else np.transpose(smooth(np.transpose(metric), sigma=3))\n",
    "    plt.plot(data.time, metric.mean(1), lw=5)\n",
    "    # plt.fill_between(time, np.percentile(acc, 5, axis=1), np.percentile(acc, 95, axis=1), label='_nolegend_', alpha=.25)\n",
    "    plt.fill_between(data.time, metric.mean(1) + metric.std(1), metric.mean(1) - metric.std(1), label='_nolegend_', alpha=.25)\n",
    "\n",
    "plt.axvline(x=0, color='tab:gray', linestyle='dashed', label='_nolegend_')\n",
    "plt.axvline(x=50, color='tab:gray', linestyle='dashed', label='_nolegend_')    \n",
    "if data.time.size==1150:\n",
    "    plt.axvline(x=250, color='tab:gray', linestyle='dashed', label='_nolegend_')\n",
    "\n",
    "sns.despine()\n",
    "axs.legend([\"Super-Ordinate\", \"Mid-Level\"], frameon=False, fontsize=fontsize)\n",
    "axs.set_xlim(-50, 400)\n",
    "plt.title(f'Distance from SVM\\'s Hyperplane in {region.upper()}', fontsize=titlefontsize)\n",
    "plt.xlabel('time (ms)', fontsize=fontsize)\n",
    "plt.ylabel(r'$|\\frac{1}{n}\\sum_{i}d_i - \\frac{1}{n}\\sum_{j}d_j|$', fontsize=fontsize)\n",
    "axs.tick_params(axis='both', which='major', labelsize=fontsize)\n",
    "plt.setp(axs.spines.values(), linewidth=2);\n",
    "\n",
    "plt.savefig(os.path.join(out_path, f\"{region.upper()}-ordinal-dth.png\"), dpi=600)\n",
    "plt.savefig(os.path.join(out_path, f\"{region.upper()}-ordinal-dth.jpg\"), dpi=600)"
   ]
  },
  {
   "cell_type": "markdown",
   "id": "3844708e-b4c1-41a2-91fb-cce40d9d6d00",
   "metadata": {
    "tags": []
   },
   "source": [
    "### Accuracy"
   ]
  },
  {
   "cell_type": "markdown",
   "id": "53e32a5a-8078-4b20-9261-82a98af74496",
   "metadata": {
    "jp-MarkdownHeadingCollapsed": true,
    "tags": []
   },
   "source": [
    "## Training Ordinal SVMs"
   ]
  },
  {
   "cell_type": "code",
   "execution_count": null,
   "id": "dc9fc2b7-eebd-4e62-97f5-b999511bb390",
   "metadata": {},
   "outputs": [],
   "source": [
    "nmb_component = .95\n",
    "nmb_rep = 200\n",
    "\n",
    "monkey = \"jenab\"\n",
    "selectivity = \"fast\"\n",
    "data_path = f'G:\\\\Data\\\\{selectivity.capitalize()}\\\\{monkey.capitalize()}'\n",
    "out_path  = f'G:\\\\Codes\\\\Python\\\\out\\\\svm\\\\ordinal\\\\{monkey}-{selectivity}'\n",
    "data1 = NeuronReader(data_path)\n",
    "\n",
    "monkey = \"zebel\"\n",
    "selectivity = \"fast\"\n",
    "data_path = f'G:\\\\Data\\\\{selectivity.capitalize()}\\\\{monkey.capitalize()}'\n",
    "out_path  = f'G:\\\\Codes\\\\Python\\\\out\\\\svm\\\\ordinal\\\\{monkey}-{selectivity}'\n",
    "data2 = NeuronReader(data_path)\n",
    "\n",
    "monkey = 'both'\n",
    "out_path  = f'G:\\\\Codes\\\\Python\\\\out\\\\svm\\\\ordinal\\\\{monkey}-{selectivity}'\n",
    "\n",
    "data = data1\n",
    "data.it  = np.concatenate([data1.it, data2.it],   axis=1)\n",
    "data.pfc = np.concatenate([data1.pfc, data2.pfc], axis=1)"
   ]
  },
  {
   "cell_type": "code",
   "execution_count": null,
   "id": "44d8c4c4-dffa-4224-a5f2-4ca3b5f422d4",
   "metadata": {},
   "outputs": [],
   "source": [
    "def mkeqdata(data, groups, n, seed=0):\n",
    "    np.random.seed(seed)\n",
    "    ind0 = np.random.choice(np.argwhere(groups==0).squeeze(), size=n, replace=False)\n",
    "    ind1 = np.random.choice(np.argwhere(groups==1).squeeze(), size=n, replace=False)\n",
    "    \n",
    "    X = np.concatenate([data[ind0], data[ind1]], axis=0)\n",
    "    y = np.concatenate([np.zeros_like(ind0), np.ones_like(ind1)])\n",
    "    return X, y"
   ]
  },
  {
   "cell_type": "code",
   "execution_count": null,
   "id": "e62630c2-d33e-436c-86bb-b6a505021958",
   "metadata": {
    "tags": []
   },
   "outputs": [],
   "source": [
    "from scipy.stats import gmean\n",
    "\n",
    "for region in ['it', 'pfc']:\n",
    "    region_data = data.it if region=='it' else data.pfc\n",
    "\n",
    "    for categ in ['super-ordinate', 'mid-level']: \n",
    "        confusion = np.nan * np.ones([2, 2, data.it.shape[2], nmb_rep])\n",
    "        dth = np.nan * np.ones([data.it.shape[2], 2, nmb_rep])\n",
    "\n",
    "        yc = grablabels(hierarchy=categ)\n",
    "        nmb_sample = np.min([(yc==0).sum(), (yc==1).sum()])\n",
    "\n",
    "        for seed in tqdm(range(nmb_rep)):\n",
    "            X, y = mkeqdata(region_data, yc, nmb_sample, seed=seed)\n",
    "\n",
    "            for ibin in range(data.it.shape[2]):\n",
    "                pca = PCA(n_components=None if nmb_component==-1 else nmb_component, copy=True, whiten=False, svd_solver='auto', random_state=seed)\n",
    "                Xr = pca.fit_transform(X[:,:,ibin])\n",
    "                X_train, X_test, y_train, y_test = train_test_split(Xr, y, test_size=.3,\n",
    "                                                            random_state=seed, shuffle=True, stratify=y)\n",
    "                mdl = SVC(C=2.4, kernel='linear', random_state=seed).fit(X_train, y_train)\n",
    "                y_pred = mdl.predict(X_test)\n",
    "                confusion[:, :, ibin, seed] = confusion_matrix(y_test, y_pred, labels=[0, 1], sample_weight=None, normalize=None)\n",
    "\n",
    "                dist = mdl.decision_function(X_test) / np.linalg.norm(mdl.coef_)\n",
    "                dth[ibin, 0, seed] = dist[y_test==0].mean()\n",
    "                dth[ibin, 1, seed] = dist[y_test==1].mean()\n",
    "        np.save(os.path.join(out_path, region.lower() + \"-\" + categ + '-cm.npy'), confusion)\n",
    "        np.save(os.path.join(out_path, region.lower() + \"-\" + categ + '-dth.npy'), dth)"
   ]
  },
  {
   "cell_type": "markdown",
   "id": "ab2e64a0-443d-4904-b711-2ee7584ceedb",
   "metadata": {},
   "source": [
    "## Visualization"
   ]
  },
  {
   "cell_type": "markdown",
   "id": "8e6a0829-3d63-4fe6-83f9-dc02f9838e24",
   "metadata": {},
   "source": [
    "### Distance to Hyperplane"
   ]
  },
  {
   "cell_type": "code",
   "execution_count": null,
   "id": "715c1d35-b5de-49be-bb37-c3afdbbba604",
   "metadata": {},
   "outputs": [],
   "source": [
    "monkey = \"both\"\n",
    "region = 'pfc'\n",
    "selectivity = \"fast\"\n",
    "out_path  = f'G:\\\\Codes\\\\Processing\\\\out\\\\svm\\\\ordinal\\\\{monkey}-{selectivity}'\n",
    "\n",
    "fontsize = 28\n",
    "titlefontsize = 36\n",
    "make_smooth = True\n",
    "sns.set_palette(\"Set2\")\n",
    "\n",
    "fig, axs = plt.subplots(1, 1, figsize=np.array([16, 9]), dpi=50)\n",
    "\n",
    "ml = np.load(os.path.join(out_path, f'{region.lower()}-mid-level-dth.npy'), allow_pickle=True)\n",
    "so = np.load(os.path.join(out_path, f'{region.lower()}-super-ordinate-dth.npy'), allow_pickle=True)\n",
    "\n",
    "for metric in [so, ml]:\n",
    "    metric = np.squeeze(np.abs(metric[:,0,:] - metric[:,1,:]))\n",
    "    metric = metric if not make_smooth else np.transpose(smooth(np.transpose(metric), sigma=3))\n",
    "    plt.plot(data.time, metric.mean(1), lw=5)\n",
    "    # plt.fill_between(time, np.percentile(acc, 5, axis=1), np.percentile(acc, 95, axis=1), label='_nolegend_', alpha=.25)\n",
    "    plt.fill_between(data.time, metric.mean(1) + metric.std(1), metric.mean(1) - metric.std(1), label='_nolegend_', alpha=.25)\n",
    "\n",
    "plt.axvline(x=0, color='tab:gray', linestyle='dashed', label='_nolegend_')\n",
    "plt.axvline(x=50, color='tab:gray', linestyle='dashed', label='_nolegend_')    \n",
    "if data.time.size==1150:\n",
    "    plt.axvline(x=250, color='tab:gray', linestyle='dashed', label='_nolegend_')\n",
    "\n",
    "sns.despine()\n",
    "axs.legend([\"Super-Ordinate\", \"Mid-Level\"], frameon=False, fontsize=fontsize)\n",
    "axs.set_xlim(-50, 400)\n",
    "plt.title(f'Distance from SVM\\'s Hyperplane in {region.upper()}', fontsize=titlefontsize)\n",
    "plt.xlabel('time (ms)', fontsize=fontsize)\n",
    "plt.ylabel(r'$|\\frac{1}{n}\\sum_{i}d_i - \\frac{1}{n}\\sum_{j}d_j|$', fontsize=fontsize)\n",
    "axs.tick_params(axis='both', which='major', labelsize=fontsize)\n",
    "plt.setp(axs.spines.values(), linewidth=2);\n",
    "\n",
    "# plt.savefig(os.path.join(out_path, f\"{region.upper()}-ordinal-dth.png\"), dpi=600)\n",
    "# plt.savefig(os.path.join(out_path, f\"{region.upper()}-ordinal-dth.jpg\"), dpi=600)"
   ]
  },
  {
   "cell_type": "code",
   "execution_count": null,
   "id": "2ef7d860-f914-484e-a6de-e948aad261a6",
   "metadata": {},
   "outputs": [],
   "source": [
    "monkey = \"both\"\n",
    "region = 'it'\n",
    "selectivity = \"fast\"\n",
    "out_path  = f'G:\\\\Codes\\\\Processing\\\\out\\\\svm\\\\ordinal\\\\{monkey}-{selectivity}'\n",
    "\n",
    "fontsize = 28\n",
    "titlefontsize = 36\n",
    "make_smooth = True\n",
    "sns.set_palette(\"Set2\")\n",
    "\n",
    "fig, axs = plt.subplots(1, 1, figsize=np.array([16, 9]), dpi=50)\n",
    "\n",
    "ml = np.load(os.path.join(out_path, f'{region.lower()}-mid-level-dth.npy'), allow_pickle=True)\n",
    "so = np.load(os.path.join(out_path, f'{region.lower()}-super-ordinate-dth.npy'), allow_pickle=True)\n",
    "\n",
    "for m in [so, ml]:\n",
    "    for j in range(2):\n",
    "        metric = np.squeeze(np.abs(m[:,j,:]))\n",
    "        metric = metric if not make_smooth else np.transpose(smooth(np.transpose(metric), sigma=3))\n",
    "        plt.plot(data.time, metric.mean(1), lw=5)\n",
    "        plt.fill_between(data.time, metric.mean(1) + metric.std(1), metric.mean(1) - metric.std(1), label='_nolegend_', alpha=.25)\n",
    "\n",
    "plt.axvline(x=0, color='tab:gray', linestyle='dashed', label='_nolegend_')\n",
    "plt.axvline(x=50, color='tab:gray', linestyle='dashed', label='_nolegend_')    \n",
    "if data.time.size==1150:\n",
    "    plt.axvline(x=250, color='tab:gray', linestyle='dashed', label='_nolegend_')\n",
    "\n",
    "sns.despine()\n",
    "axs.legend([\"Animate\", \"Inanimate\", \"Face\", \"Body\"], frameon=False, fontsize=fontsize)\n",
    "axs.set_xlim(-50, 400)\n",
    "plt.title(f'Distance from SVM\\'s Hyperplane in {region.upper()}', fontsize=titlefontsize)\n",
    "plt.xlabel('time (ms)', fontsize=fontsize)\n",
    "plt.ylabel(r'$|\\frac{1}{n}\\sum_{i}d_i - \\frac{1}{n}\\sum_{j}d_j|$', fontsize=fontsize)\n",
    "axs.tick_params(axis='both', which='major', labelsize=fontsize)\n",
    "plt.setp(axs.spines.values(), linewidth=2);"
   ]
  },
  {
   "cell_type": "markdown",
   "id": "5b3ac6c1-c2b4-40f2-8ad8-4c8d69de7a42",
   "metadata": {
    "jp-MarkdownHeadingCollapsed": true,
    "tags": []
   },
   "source": [
    "## Zebel Paired Sessions"
   ]
  },
  {
   "cell_type": "markdown",
   "id": "9288a60d-cacc-41fb-b1d6-1ce21d6738d5",
   "metadata": {
    "jp-MarkdownHeadingCollapsed": true,
    "tags": []
   },
   "source": [
    "### Load Data"
   ]
  },
  {
   "cell_type": "code",
   "execution_count": null,
   "id": "00401528-74fc-4667-8874-7348b4ce5c3d",
   "metadata": {},
   "outputs": [],
   "source": [
    "fast = {\n",
    "    'it': np.load(r\"G:\\Data\\Paired\\Zebel\\fast-it.npy\"),\n",
    "    'pfc': np.load(r\"G:\\Data\\Paired\\Zebel\\fast-pfc.npy\"),\n",
    "}\n",
    "\n",
    "slow = {\n",
    "    'it': np.load(r\"G:\\Data\\Paired\\Zebel\\slow-it.npy\"),\n",
    "    'pfc': np.load(r\"G:\\Data\\Paired\\Zebel\\slow-pfc.npy\"),\n",
    "}"
   ]
  },
  {
   "cell_type": "markdown",
   "id": "b471d626-70d0-4f37-a2d4-9fa797cc19fc",
   "metadata": {
    "jp-MarkdownHeadingCollapsed": true,
    "tags": []
   },
   "source": [
    "### Calculate Metrics"
   ]
  },
  {
   "cell_type": "code",
   "execution_count": null,
   "id": "3558443d-13c5-46fc-a1d6-bed130a055ab",
   "metadata": {},
   "outputs": [],
   "source": [
    "nmb_component = .95\n",
    "nmb_rep = 200\n",
    "\n",
    "# for data, data_n in zip([slow, fast], [\"slow\", \"fast\"]):\n",
    "for data, data_n in zip([slow], [\"slow\"]):\n",
    "    for region in ['it', 'pfc']:\n",
    "        for categ in ['super-ordinate', 'mid-level']:\n",
    "            nmb_bin = data[region].shape[2]\n",
    "            cfn, dth, dpr, auc = initmetric(nmb_bin, nmb_rep)\n",
    "\n",
    "            yc = grablabels(hierarchy=categ)\n",
    "            nmb_sample = np.min([(yc==0).sum(), (yc==1).sum()])\n",
    "\n",
    "            for seed in tqdm(range(nmb_rep)):\n",
    "                X, y = mkeqdata(data[region], yc, nmb_sample, seed=seed)\n",
    "\n",
    "                for ibin in range(data[region].shape[2]):\n",
    "                    pca = PCA(n_components=None if nmb_component==-1 else nmb_component, \n",
    "                              copy=True, whiten=False, svd_solver='auto', random_state=seed)\n",
    "                    Xr = pca.fit_transform(X[:,:,ibin])\n",
    "                    X_train, X_test, y_train, y_test = tts(Xr, y, test_size=.3,\n",
    "                                                           random_state=seed, shuffle=True, stratify=y)\n",
    "                    mdl = make_pipeline(StandardScaler(), SVC(C=2.4, probability=True, kernel='linear', \n",
    "                                                              random_state=seed)).fit(X_train, y_train)\n",
    "\n",
    "                    cfn[:,:,ibin,seed], dth[ibin,seed], dpr[ibin,seed], auc[ibin,seed] = calcmetric(mdl, X_test, y_test)\n",
    "\n",
    "            savemetric(\"G:/Codes/Processing/out/svm/zebel-pair\", region.lower() + \"-\" + data_n + \"-\" + categ, cfn, dth, dpr, auc)"
   ]
  },
  {
   "cell_type": "markdown",
   "id": "10861210-acae-45a1-a49c-c7e25f3891d9",
   "metadata": {
    "tags": []
   },
   "source": [
    "## Visualize Metrics"
   ]
  },
  {
   "cell_type": "code",
   "execution_count": null,
   "id": "36701200-1ca1-4710-9d8c-0cb0d40e9aad",
   "metadata": {},
   "outputs": [],
   "source": [
    "for monkey in ['zebel']:\n",
    "    for selectivity in [\"slow\", \"fast\"]:\n",
    "        if(selectivity==\"slow\"):\n",
    "            time = np.linspace(-175, 974, 1150)\n",
    "        elif(selectivity==\"fast\"):\n",
    "            time = np.linspace(-175, 674, 850)\n",
    "        \n",
    "        for statistic in ['dth', 'dpr', 'auc']:\n",
    "            out_path = f\"G:\\\\Codes\\\\Processing\\\\out\\\\svm\\\\{monkey.lower()}-pair\"\n",
    "\n",
    "            fig, axs = plt.subplots(1, 2, figsize=np.array([32, 9]), dpi=50)\n",
    "            sns.despine()\n",
    "\n",
    "            for iregion, (ax, region) in enumerate(zip(axs, [\"it\", \"pfc\"])):\n",
    "                ml = np.load(os.path.join(out_path, f'{region.lower()}-{selectivity}-mid-level-{statistic}.npy'))\n",
    "                so = np.load(os.path.join(out_path, f'{region.lower()}-{selectivity}-super-ordinate-{statistic}.npy'))\n",
    "\n",
    "                for metric, va in zip([so, ml], [\"top\", \"bottom\"]):\n",
    "                    metric = metric if not make_smooth else np.transpose(smooth(np.transpose(metric), sigma=3))\n",
    "                    anot = metric.mean(1).max()\n",
    "                    metric /= np.array([so.mean(1), ml.mean(1)]).max()\n",
    "                    ax.plot(time, metric.mean(1), lw=5)\n",
    "                    ax.fill_between(time, metric.mean(1) + metric.std(1), metric.mean(1) - metric.std(1), label='_nolegend_', alpha=.25)\n",
    "                    ax.annotate(f\"{int(time[metric.mean(1).argmax()])}, {anot:.1f}\", \n",
    "                                xy=(time[metric.mean(1).argmax()], metric.mean(1).max()), \n",
    "                                xycoords='data', fontsize=18, \n",
    "                                horizontalalignment='center',\n",
    "                                verticalalignment=va)\n",
    "                ax.set_title(region.upper(), fontsize=fontsize)    \n",
    "                ax.legend([\"Super-Ordinate\", \"Mid-Level\"], frameon=False, fontsize=fontsize)\n",
    "                ax.axvline(x=0, color='tab:gray', linestyle='dashed', label='_nolegend_')\n",
    "                ax.axvline(x=50 if selectivity==\"fast\" else 250, color='tab:gray', linestyle='dashed', label='_nolegend_')    \n",
    "                ax.set_xlim(-50, 550)\n",
    "                ax.set_xlabel('time (ms)', fontsize=fontsize)\n",
    "                ax.tick_params(axis='both', which='major', labelsize=fontsize)\n",
    "\n",
    "            if statistic == 'dth':\n",
    "                fig.suptitle(f'Absolute Difference of Mean Distances from SVM\\'s Hyperplane in {region.upper()}', fontsize=titlefontsize)\n",
    "                axs[0].set_ylabel(r'$\\sqrt{2} \\times |\\mu_1-\\mu_2|}$', fontsize=fontsize)\n",
    "            elif statistic == 'dpr':\n",
    "                fig.suptitle(f\"d' of Distances from SVM\\'s Hyperplane in {region.upper()}\", fontsize=titlefontsize)\n",
    "                axs[0].set_ylabel(r'$\\frac{\\sqrt{2} \\times |\\mu_1-\\mu_2|}{\\sqrt{\\sigma_1^2+\\sigma_2^2}} $', fontsize=fontsize)\n",
    "            elif statistic == 'auc':\n",
    "                fig.suptitle(f'Area under Receptive-Operating Curve in {region.upper()}', fontsize=titlefontsize)\n",
    "                axs[0].set_ylabel(r'$S_{ROC}$', fontsize=fontsize)\n",
    "\n",
    "            fig.tight_layout()\n",
    "            fig.savefig(os.path.join(out_path, f\"{selectivity}-{statistic}.eps\"), format='eps')\n",
    "            fig.savefig(os.path.join(out_path, f\"{selectivity}-{statistic}.jpg\"))\n",
    "    del time"
   ]
  },
  {
   "cell_type": "markdown",
   "id": "b36dc61b-04ce-4d98-9930-224738ad1535",
   "metadata": {
    "jp-MarkdownHeadingCollapsed": true,
    "tags": []
   },
   "source": [
    "# Categorical"
   ]
  },
  {
   "cell_type": "markdown",
   "id": "c738d38c-48db-4d66-8ab3-560f8e77586d",
   "metadata": {
    "tags": []
   },
   "source": [
    "## Model Fitting"
   ]
  },
  {
   "cell_type": "code",
   "execution_count": 3,
   "id": "53dd3839-49bf-45f1-a03a-67d5caef4ff8",
   "metadata": {},
   "outputs": [
    {
     "data": {
      "text/html": [
       "<div>\n",
       "<style scoped>\n",
       "    .dataframe tbody tr th:only-of-type {\n",
       "        vertical-align: middle;\n",
       "    }\n",
       "\n",
       "    .dataframe tbody tr th {\n",
       "        vertical-align: top;\n",
       "    }\n",
       "\n",
       "    .dataframe thead th {\n",
       "        text-align: right;\n",
       "    }\n",
       "</style>\n",
       "<table border=\"1\" class=\"dataframe\">\n",
       "  <thead>\n",
       "    <tr style=\"text-align: right;\">\n",
       "      <th></th>\n",
       "      <th>img</th>\n",
       "      <th>sfr</th>\n",
       "      <th>con</th>\n",
       "      <th>sup</th>\n",
       "      <th>mid</th>\n",
       "      <th>fac</th>\n",
       "      <th>bod</th>\n",
       "      <th>art</th>\n",
       "      <th>nat</th>\n",
       "      <th>cat</th>\n",
       "    </tr>\n",
       "  </thead>\n",
       "  <tbody>\n",
       "    <tr>\n",
       "      <th>0</th>\n",
       "      <td>&lt;PIL.Image.Image image mode=L size=50x50 at 0x...</td>\n",
       "      <td>A</td>\n",
       "      <td>human face</td>\n",
       "      <td>animate</td>\n",
       "      <td>face</td>\n",
       "      <td>True</td>\n",
       "      <td>False</td>\n",
       "      <td>False</td>\n",
       "      <td>False</td>\n",
       "      <td>face</td>\n",
       "    </tr>\n",
       "    <tr>\n",
       "      <th>1</th>\n",
       "      <td>&lt;PIL.Image.Image image mode=L size=50x50 at 0x...</td>\n",
       "      <td>A</td>\n",
       "      <td>human face part</td>\n",
       "      <td>none</td>\n",
       "      <td>none</td>\n",
       "      <td>False</td>\n",
       "      <td>False</td>\n",
       "      <td>False</td>\n",
       "      <td>False</td>\n",
       "      <td>none</td>\n",
       "    </tr>\n",
       "    <tr>\n",
       "      <th>2</th>\n",
       "      <td>&lt;PIL.Image.Image image mode=L size=50x50 at 0x...</td>\n",
       "      <td>A</td>\n",
       "      <td>human face</td>\n",
       "      <td>animate</td>\n",
       "      <td>face</td>\n",
       "      <td>True</td>\n",
       "      <td>False</td>\n",
       "      <td>False</td>\n",
       "      <td>False</td>\n",
       "      <td>face</td>\n",
       "    </tr>\n",
       "    <tr>\n",
       "      <th>3</th>\n",
       "      <td>&lt;PIL.Image.Image image mode=L size=50x50 at 0x...</td>\n",
       "      <td>A</td>\n",
       "      <td>misc</td>\n",
       "      <td>none</td>\n",
       "      <td>none</td>\n",
       "      <td>False</td>\n",
       "      <td>False</td>\n",
       "      <td>False</td>\n",
       "      <td>False</td>\n",
       "      <td>none</td>\n",
       "    </tr>\n",
       "    <tr>\n",
       "      <th>4</th>\n",
       "      <td>&lt;PIL.Image.Image image mode=L size=50x50 at 0x...</td>\n",
       "      <td>A</td>\n",
       "      <td>human face</td>\n",
       "      <td>animate</td>\n",
       "      <td>face</td>\n",
       "      <td>True</td>\n",
       "      <td>False</td>\n",
       "      <td>False</td>\n",
       "      <td>False</td>\n",
       "      <td>face</td>\n",
       "    </tr>\n",
       "  </tbody>\n",
       "</table>\n",
       "</div>"
      ],
      "text/plain": [
       "                                                 img sfr              con  \\\n",
       "0  <PIL.Image.Image image mode=L size=50x50 at 0x...   A       human face   \n",
       "1  <PIL.Image.Image image mode=L size=50x50 at 0x...   A  human face part   \n",
       "2  <PIL.Image.Image image mode=L size=50x50 at 0x...   A       human face   \n",
       "3  <PIL.Image.Image image mode=L size=50x50 at 0x...   A             misc   \n",
       "4  <PIL.Image.Image image mode=L size=50x50 at 0x...   A       human face   \n",
       "\n",
       "       sup   mid    fac    bod    art    nat   cat  \n",
       "0  animate  face   True  False  False  False  face  \n",
       "1     none  none  False  False  False  False  none  \n",
       "2  animate  face   True  False  False  False  face  \n",
       "3     none  none  False  False  False  False  none  \n",
       "4  animate  face   True  False  False  False  face  "
      ]
     },
     "execution_count": 3,
     "metadata": {},
     "output_type": "execute_result"
    }
   ],
   "source": [
    "import pickle\n",
    "with open(\"./src/info.pkl\", \"rb\") as handler:\n",
    "    info = pickle.load(handler)\n",
    "info = info[:165]\n",
    "info.head()"
   ]
  },
  {
   "cell_type": "code",
   "execution_count": 4,
   "id": "2afc901e-cb08-4b64-aabc-283e09516dd3",
   "metadata": {},
   "outputs": [],
   "source": [
    "def mkeqdata(data, groups, n, seed=0):\n",
    "    np.random.seed(seed)\n",
    "    \n",
    "    inds, X, y, l = [], [], [], []\n",
    "    for i, g in enumerate(np.unique(groups)):\n",
    "        if 'none'==g:\n",
    "            continue\n",
    "\n",
    "        inds.append(np.random.choice(np.argwhere(groups==g).squeeze(), size=n, replace=False))\n",
    "        X.extend(data[inds[-1]])\n",
    "        y.extend(i * np.ones_like(inds[-1]))\n",
    "        l.append(g)\n",
    "    \n",
    "    X, y = np.array(X), np.array(y)\n",
    "    rind = np.random.permutation(X.shape[0])\n",
    "    X, y = X[rind], y[rind]\n",
    "    return X, y, l"
   ]
  },
  {
   "cell_type": "code",
   "execution_count": 85,
   "id": "0d3371e6-b8bf-4f60-8ef7-ecada94c5182",
   "metadata": {},
   "outputs": [
    {
     "data": {
      "application/vnd.jupyter.widget-view+json": {
       "model_id": "f0a9e1d467f342e28d4360bace61d892",
       "version_major": 2,
       "version_minor": 0
      },
      "text/plain": [
       "  0%|          | 0/200 [00:00<?, ?it/s]"
      ]
     },
     "metadata": {},
     "output_type": "display_data"
    },
    {
     "data": {
      "application/vnd.jupyter.widget-view+json": {
       "model_id": "2a05fca5c9d44d58ab2619fa15a0b2ab",
       "version_major": 2,
       "version_minor": 0
      },
      "text/plain": [
       "  0%|          | 0/200 [00:00<?, ?it/s]"
      ]
     },
     "metadata": {},
     "output_type": "display_data"
    }
   ],
   "source": [
    "nmb_component = .95\n",
    "nmb_rep = 200\n",
    "\n",
    "for monkey in [\"both\", \"jenab\", \"zebel\"]:\n",
    "    for selectivity in [\"fast\", \"slow\"]:\n",
    "        data = NeuronLoader(f'G:/Data/{selectivity.capitalize()}/{monkey.capitalize()}')\n",
    "        time_bins = np.arange(data.it.shape[2], step=5)\n",
    "        \n",
    "        out_path  = f'G:\\\\Codes\\\\Processing\\\\out\\\\svmc\\\\{monkey.lower()}-{selectivity.lower()}'\n",
    "        os.makedirs(out_path, exist_ok=True)\n",
    "        \n",
    "        for region in ['it', 'pfc']:\n",
    "            region_data = data.it if region=='it' else data.pfc\n",
    "            \n",
    "            nmb_smp = info['cat'].groupby(info['cat']).count().drop('none').values.min()\n",
    "            nmb_cls = info['cat'].groupby(info['cat']).count().drop('none').size\n",
    "            nmb_bin = time_bins.size\n",
    "            \n",
    "            cfn = np.nan * np.ones([nmb_cls, nmb_cls, nmb_bin, nmb_rep])\n",
    "            rec = np.nan * np.ones([nmb_cls, nmb_bin, nmb_rep])\n",
    "            \n",
    "            for seed in (pbar := tqdm(range(nmb_rep))):\n",
    "                pbar.set_description(monkey+\"-\"+selectivity+\"-\"+region)\n",
    "                X, y, l = mkeqdata(region_data, info['cat'].to_numpy(), nmb_smp, seed=seed)\n",
    "\n",
    "                for biter, ibin in enumerate(time_bins):\n",
    "                    # pca = PCA(n_components=None if nmb_component==-1 else nmb_component, \n",
    "                    #           copy=True, whiten=False, svd_solver='auto', random_state=seed)\n",
    "                    # Xr = pca.fit_transform(X[:,:,ibin])\n",
    "                    Xr = X[:,:,ibin]\n",
    "                    X_train, X_test, y_train, y_test = tts(Xr, y, test_size=.3,\n",
    "                                                           random_state=seed, shuffle=True, stratify=y)\n",
    "                    mdl = make_pipeline(StandardScaler(), SVC(C=2.4, probability=True, kernel='linear', \n",
    "                                                              random_state=seed)).fit(X_train, y_train)\n",
    "                        \n",
    "                    cfn[:,:,biter,seed] = confusion_matrix(y_test, mdl.predict(X_test), labels=np.arange(nmb_cls), sample_weight=None, normalize=None)\n",
    "                    rec[:,biter,seed]   = recall_score(y_test, mdl.predict(X_test), average=None)\n",
    "            \n",
    "            prefix = f\"{region}\"\n",
    "            np.save(os.path.join(out_path, prefix + '-cfn.npy'), cfn)\n",
    "            np.save(os.path.join(out_path, prefix + '-rec.npy'), rec)\n",
    "            with open(os.path.join(out_path, prefix + '-meta.npy'), \"wb\") as handler:\n",
    "                pickle.dump({'labels': l, 'time': data.time[time_bins]}, handler)"
   ]
  },
  {
   "cell_type": "markdown",
   "id": "d9705b52-8ea0-48c8-9fa9-628d7ba53c65",
   "metadata": {},
   "source": [
    "## Visualization\n"
   ]
  },
  {
   "cell_type": "code",
   "execution_count": 78,
   "id": "3e153634-3499-49f9-81f8-3a81532bb579",
   "metadata": {},
   "outputs": [
    {
     "data": {
      "image/png": "[encoded data removed]",
      "text/plain": [
       "<Figure size 1152x360 with 2 Axes>"
      ]
     },
     "metadata": {
      "needs_background": "light"
     },
     "output_type": "display_data"
    }
   ],
   "source": [
    "%matplotlib inline\n",
    "plt.ion()\n",
    "\n",
    "monkey = \"both\"\n",
    "selectivity = \"fast\"\n",
    "out_path  = f'G:\\\\Codes\\\\Processing\\\\out\\\\svmc\\\\{monkey.lower()}-{selectivity.lower()}'\n",
    "\n",
    "import pickle\n",
    "with open(f\"{out_path}\\\\it-meta.npy\", \"rb\") as handler:\n",
    "    meta = pickle.load(handler)\n",
    "itc = np.load(os.path.join(out_path, \"it\" + '-rec.npy'))\n",
    "pfc = np.load(os.path.join(out_path, \"pfc\" + '-rec.npy'))\n",
    "\n",
    "# acc = np.diagonal(cfn, axis1=0, axis2=1).sum(-1) / cfn.sum((0, 1))\n",
    "# plt.plot(data.time[time_bins], np.nanmean(acc, 1))\n",
    "itc = smooth(itc, 3, axis=1)\n",
    "pfc = smooth(pfc, 3, axis=1)\n",
    "\n",
    "fig, axs = plt.subplots(1, 2, figsize=(16, 5), sharey=True)\n",
    "\n",
    "for ax, rec, reg in zip(axs, [itc, pfc], [\"ITC\", \"PFC\"]):\n",
    "    for r in rec:\n",
    "        ax.plot(meta['time'], r.mean(1).T, lw=5)\n",
    "        ax.fill_between(meta['time'], \n",
    "                        r.mean(1) - r.std(1), \n",
    "                        r.mean(1) + r.std(1),\n",
    "                        alpha=.2)\n",
    "        ax.legend(meta['labels'], frameon=False, fontsize=16)\n",
    "        ax.axvline(185, color='k', linestyle='--', label='_nolegend_')\n",
    "        ax.axvline(50, color='k', linestyle='--', label='_nolegend_')\n",
    "        ax.axvline(160, color='k', linestyle='--', label='_nolegend_')\n",
    "        ax.set_title(reg, fontsize=24)\n",
    "\n",
    "# ax.annotate(f\"{int(data.time[metric.mean(1).argmax()])}, {anot:.1f}\", \n",
    "#             xy=(data.time[metric.mean(1).argmax()], metric.mean(1).max()), \n",
    "#             xycoords='data', fontsize=18, \n",
    "#             horizontalalignment='center',\n",
    "#             verticalalignment=va)\n",
    "sns.despine()\n",
    "\n",
    "fig.tight_layout()\n",
    "plt.show()"
   ]
  },
  {
   "cell_type": "code",
   "execution_count": 68,
   "id": "b49876d7-80db-4a64-aaa4-319d963ca1e7",
   "metadata": {},
   "outputs": [
    {
     "data": {
      "text/plain": [
       "200"
      ]
     },
     "execution_count": 68,
     "metadata": {},
     "output_type": "execute_result"
    }
   ],
   "source": [
    "1.96 * r.std(1) / r.shape[1]"
   ]
  },
  {
   "cell_type": "code",
   "execution_count": 84,
   "id": "9d2761b6-da2a-486e-9f46-f2a99f0164b7",
   "metadata": {},
   "outputs": [
    {
     "data": {
      "image/png": "[encoded data removed]",
      "text/plain": [
       "<Figure size 576x360 with 1 Axes>"
      ]
     },
     "metadata": {
      "needs_background": "light"
     },
     "output_type": "display_data"
    }
   ],
   "source": [
    "monkey = \"both\"\n",
    "selectivity = \"fast\"\n",
    "out_path  = f'G:\\\\Codes\\\\Processing\\\\out\\\\svmc\\\\{monkey.lower()}-{selectivity.lower()}'\n",
    "\n",
    "import pickle\n",
    "with open(f\"{out_path}\\\\it-meta.npy\", \"rb\") as handler:\n",
    "    meta = pickle.load(handler)\n",
    "itc = np.load(os.path.join(out_path, \"it\" + '-cfn.npy'))\n",
    "pfc = np.load(os.path.join(out_path, \"pfc\" + '-cfn.npy'))\n",
    "\n",
    "itc = np.diagonal(itc, axis1=0, axis2=1).sum(-1) / itc.sum((0, 1))\n",
    "pfc = np.diagonal(pfc, axis1=0, axis2=1).sum(-1) / pfc.sum((0, 1))\n",
    "\n",
    "itc = smooth(itc, 3, axis=0)\n",
    "pfc = smooth(pfc, 3, axis=0)\n",
    "\n",
    "fig, ax = plt.subplots(1, 1, figsize=(8, 5))\n",
    "\n",
    "for reg in [itc, pfc]:\n",
    "    ax.plot(meta['time'], reg.mean(1), lw=5)\n",
    "    ax.fill_between(meta['time'],\n",
    "                    reg.mean(1) - reg.std(1),\n",
    "                    reg.mean(1) + reg.std(1),\n",
    "                    alpha=.2)\n",
    "\n",
    "# sns.barplot(x=np.tile(data.time[time_bins], 200).flatten(), y=itc.flatten(), ax=ax)\n",
    "ax.legend([\"ITC\", \"PFC\"], frameon=False)\n",
    "ax.axvline(185, color='k', linestyle='--', label='_nolegend_')\n",
    "\n",
    "sns.despine()\n",
    "\n",
    "fig.tight_layout()"
   ]
  }
 ],
 "metadata": {
  "kernelspec": {
   "display_name": "Python 3 (ipykernel)",
   "language": "python",
   "name": "python3"
  },
  "language_info": {
   "codemirror_mode": {
    "name": "ipython",
    "version": 3
   },
   "file_extension": ".py",
   "mimetype": "text/x-python",
   "name": "python",
   "nbconvert_exporter": "python",
   "pygments_lexer": "ipython3",
   "version": "3.8.12"
  },
  "vscode": {
   "interpreter": {
    "hash": "dda83d13db9bd4f7e861241b49178a983af21559d6d065c8fa5d96bc0691cfcb"
   }
  }
 },
 "nbformat": 4,
 "nbformat_minor": 5
}
