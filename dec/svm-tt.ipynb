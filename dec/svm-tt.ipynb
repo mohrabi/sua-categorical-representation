{
 "cells": [
  {
   "cell_type": "code",
   "execution_count": 4,
   "id": "f56729ff-4453-4b92-8547-61a8fdf058e2",
   "metadata": {},
   "outputs": [],
   "source": [
    "import os\n",
    "\n",
    "import numpy as np\n",
    "from tqdm.notebook import tqdm\n",
    "from matplotlib import pyplot as plt\n",
    "from matplotlib import ticker\n",
    "import seaborn as sns\n",
    "import pandas as pd\n",
    "import numpy_indexed as npi\n",
    "from scipy.io import loadmat\n",
    "\n",
    "from src.ipm import NeuronLoader, grablabels\n",
    "from src.metrics import sepind\n",
    "\n",
    "from imblearn.under_sampling import RandomUnderSampler as rus\n",
    "from scipy.ndimage import gaussian_filter1d as smooth\n",
    "\n",
    "from sklearn.preprocessing import StandardScaler\n",
    "from sklearn.decomposition import PCA\n",
    "from sklearn.svm import SVC\n",
    "from sklearn.metrics import confusion_matrix, roc_auc_score\n",
    "from sklearn.pipeline import make_pipeline\n",
    "from sklearn.model_selection import train_test_split as tts\n"
   ]
  },
  {
   "cell_type": "code",
   "execution_count": 5,
   "id": "c994947c-3cd8-4c40-9cab-ca1b1bc91c40",
   "metadata": {},
   "outputs": [],
   "source": [
    "fontsize = 28\n",
    "titlefontsize = 36\n",
    "make_smooth = True\n",
    "sns.set_palette(\"Set2\")"
   ]
  },
  {
   "cell_type": "markdown",
   "id": "d454ad9d-6818-4239-a034-afa6860b0fda",
   "metadata": {
    "tags": []
   },
   "source": [
    "# Visualization"
   ]
  },
  {
   "cell_type": "code",
   "execution_count": 6,
   "id": "c87a9373",
   "metadata": {},
   "outputs": [],
   "source": [
    "def myfmt(x, pos):\n",
    "    return '{0:.1f}'.format(x)"
   ]
  },
  {
   "cell_type": "code",
   "execution_count": 7,
   "id": "a3552e39-9262-4462-acde-ef15ff47f3c7",
   "metadata": {},
   "outputs": [],
   "source": [
    "titlefontsize = 32\n",
    "fontsize = 24\n",
    "\n",
    "monkey = \"both\"\n",
    "selectivity = \"fast\"\n",
    "out_path = f\"G:/Codes/Processing/out/svm-tt/{monkey}-{selectivity}\"\n",
    "metric = \"dpr\"\n",
    "\n",
    "for region in [\"it\", \"pfc\"]:\n",
    "    fig, axs = plt.subplots(1, 2, figsize=np.array([30, 13]), dpi=30)#/2.54)\n",
    "    time = np.load(os.path.join(out_path, f\"{region.lower()}-super-ordinate-tim.npy\"))\n",
    "    for ax, ordination in zip(axs, [\"super-ordinate\", \"mid-level\"]):\n",
    "        m = np.load(os.path.join(out_path, f\"{region.lower()}-{ordination}-{metric}.npy\"))\n",
    "        h = ax.contourf(time, time, m.mean(2), 400, cmap='inferno')\n",
    "        cbar = fig.colorbar(h, ax=ax, shrink=.6, format=ticker.FuncFormatter(myfmt))\n",
    "        cbar.ax.tick_params(labelsize=fontsize)\n",
    "        ax.set_title(ordination, fontsize=fontsize)\n",
    "\n",
    "        ax.axis(\"square\")\n",
    "        ax.set_xlabel('train time (ms)', fontsize=fontsize)\n",
    "        ax.set_ylabel('test time (ms)', fontsize=fontsize)\n",
    "        ax.tick_params(axis='both', which='major', labelsize=fontsize)\n",
    "\n",
    "    fig.suptitle(f\"{region.upper()}: d-prime of Distance of Observations from Hyper-plane\", fontsize=titlefontsize)\n",
    "    fig.tight_layout()\n",
    "    plt.savefig(os.path.join(out_path, f\"{region}-{metric}.jpg\"), dpi=1000, bbox_inches='tight')\n",
    "    plt.close(fig=fig);"
   ]
  },
  {
   "cell_type": "code",
   "execution_count": 10,
   "id": "cc688c78",
   "metadata": {},
   "outputs": [],
   "source": [
    "titlefontsize = 32\n",
    "fontsize = 24\n",
    "\n",
    "monkey = \"both\"\n",
    "selectivity = \"fast\"\n",
    "out_path = f\"G:/Codes/Processing/out/svm-tt/{monkey}-{selectivity}\"\n",
    "metric = \"cfn\"\n",
    "\n",
    "for region in [\"it\", \"pfc\"]:\n",
    "    fig, axs = plt.subplots(1, 2, figsize=np.array([30, 13]), dpi=30)#/2.54)\n",
    "    time = np.load(os.path.join(out_path, f\"{region.lower()}-super-ordinate-tim.npy\"))\n",
    "    for ax, ordination in zip(axs, [\"super-ordinate\", \"mid-level\"]):\n",
    "        m = np.load(os.path.join(out_path, f\"{region.lower()}-{ordination}-{metric}.npy\"))\n",
    "        m = np.trace(m, axis1=0, axis2=1) / m.sum((0, 1))\n",
    "        h = ax.contourf(time, time, m.mean(2), 400, cmap='seismic')\n",
    "        cbar = fig.colorbar(h, ax=ax, shrink=.6, format=ticker.FuncFormatter(myfmt))\n",
    "        cbar.ax.tick_params(labelsize=fontsize)\n",
    "        ax.set_title(ordination, fontsize=titlefontsize)\n",
    "\n",
    "        ax.axis(\"image\")\n",
    "        ax.set_xlabel('train time (ms)', fontsize=fontsize)\n",
    "        ax.tick_params(axis='both', which='major', labelsize=fontsize)    \n",
    "\n",
    "    axs[0].set_ylabel('test time (ms)', fontsize=fontsize)\n",
    "\n",
    "    fig.suptitle(f\"{region.upper()}: Decoder Accuracy\", fontsize=titlefontsize)\n",
    "    fig.tight_layout()\n",
    "    plt.savefig(os.path.join(out_path, f\"{region}-{metric}.jpg\"), dpi=1000, bbox_inches='tight')\n",
    "    plt.close(fig=fig);"
   ]
  }
 ],
 "metadata": {
  "kernelspec": {
   "display_name": "Python 3 (ipykernel)",
   "language": "python",
   "name": "python3"
  },
  "language_info": {
   "codemirror_mode": {
    "name": "ipython",
    "version": 3
   },
   "file_extension": ".py",
   "mimetype": "text/x-python",
   "name": "python",
   "nbconvert_exporter": "python",
   "pygments_lexer": "ipython3",
   "version": "3.8.12"
  },
  "vscode": {
   "interpreter": {
    "hash": "dda83d13db9bd4f7e861241b49178a983af21559d6d065c8fa5d96bc0691cfcb"
   }
  }
 },
 "nbformat": 4,
 "nbformat_minor": 5
}
